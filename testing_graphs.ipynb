{
 "cells": [
  {
   "cell_type": "code",
   "execution_count": 3,
   "metadata": {},
   "outputs": [],
   "source": [
    "import plotly.express as px\n",
    "import logging\n",
    "import plotly.io as pio\n",
    "from graphs.plotly_graphs import * \n",
    "import pandas as pd"
   ]
  },
  {
   "cell_type": "code",
   "execution_count": 36,
   "metadata": {},
   "outputs": [],
   "source": [
    "df = pd.read_excel(\"data/full_iseller_data.xlsx\")\n",
    "df['closed_date'] = pd.to_datetime(df['closed_date'])\n",
    "df['date'] = df['closed_date'] .dt.date\n"
   ]
  },
  {
   "cell_type": "code",
   "execution_count": 65,
   "metadata": {},
   "outputs": [],
   "source": [
    "def plot_pie_chart(df, group_by=\"category\", values=\"quantity\", title=None, sort_by=None, ascending=False):\n",
    "    \"\"\"\n",
    "    Creates a pie chart using Plotly.\n",
    "\n",
    "    Parameters:\n",
    "    - df: pandas DataFrame containing the data\n",
    "    - group_by: column name to group the data by (default is \"category\")\n",
    "    - values: column name for the values (default is \"quantity\")\n",
    "    - title: title of the chart (default is None)\n",
    "    - sort_by: column name to sort the data by (default is None)\n",
    "    - ascending: boolean to sort in ascending order (default is False)\n",
    "\n",
    "    Returns:\n",
    "    - fig: Plotly figure object\n",
    "    \"\"\"\n",
    "    try:\n",
    "        if sort_by:\n",
    "            agg_df = df.groupby(group_by)[values].sum().reset_index().sort_values(by=sort_by, ascending=ascending)\n",
    "        else:\n",
    "            agg_df = df.groupby(group_by)[values].sum().reset_index()\n",
    "\n",
    "        fig = px.pie(agg_df, names=group_by, values=values, title=title, template=\"plotly\")\n",
    "        return fig\n",
    "    except Exception as e:\n",
    "        raise e\n",
    "\n",
    "\n",
    "\n",
    "def plot_chart(data, chart_type, x=None, y=None, facet_col=None, group_by=None, sort_by=None, ascending=True):\n",
    "    if chart_type == \"pie\":\n",
    "        return plot_pie_chart(data, group_by=group_by, values=x, sort_by=sort_by, ascending=ascending)\n",
    "    elif chart_type == \"line\":\n",
    "        return plot_line_chart(df=data, group_by=group_by, x=x, y=y, facet_col=facet_col, sort_by=sort_by, ascending=ascending)\n",
    "    else:\n",
    "        return bar_chart_vertical(df=data, x=x, y=y, color=x, title=\"Bar Chart\")"
   ]
  },
  {
   "cell_type": "code",
   "execution_count": 8,
   "metadata": {},
   "outputs": [
    {
     "data": {
      "text/plain": [
       "Index(['Unnamed: 0', 'base_price', 'buying_price', 'cancel_date',\n",
       "       'cancel_reason', 'cashier_id', 'channel', 'clean_product_name',\n",
       "       'closed_date', 'customer_id', 'day', 'device_location',\n",
       "       'fulfillment_status', 'hour', 'month', 'month_name', 'notes',\n",
       "       'on_account', 'order_id', 'order_type', 'outlet_code', 'outlet_name',\n",
       "       'payment_status', 'product_id', 'product_name', 'product_type',\n",
       "       'quantity', 'quarter', 'quarter_year', 'register_id', 'register_name',\n",
       "       'remaining_on_account', 'server_id', 'status', 'subtotal',\n",
       "       'tax_inclusive', 'total_amount', 'total_order_amount',\n",
       "       'total_shipping_amount', 'total_weight', 'week', 'week_of_month',\n",
       "       'year', 'cost_of_goods', 'profit'],\n",
       "      dtype='object')"
      ]
     },
     "execution_count": 8,
     "metadata": {},
     "output_type": "execute_result"
    }
   ],
   "source": [
    "df.columns"
   ]
  },
  {
   "cell_type": "code",
   "execution_count": 30,
   "metadata": {},
   "outputs": [],
   "source": [
    "def plot_pie_chart(df, group_by=\"category\", values=\"quantity\", title=None, sort_by=None, ascending=False):\n",
    "    \"\"\"\n",
    "    Creates a pie chart using Plotly.\n",
    "\n",
    "    Parameters:\n",
    "    - df: pandas DataFrame containing the data\n",
    "    - group_by: column name to group the data by (default is \"category\")\n",
    "    - values: column name for the values (default is \"quantity\")\n",
    "    - title: title of the chart (default is None)\n",
    "    - sort_by: column name to sort the data by (default is None)\n",
    "    - ascending: boolean to sort in ascending order (default is False)\n",
    "\n",
    "    Returns:\n",
    "    - fig: Plotly figure object\n",
    "    \"\"\"\n",
    "    try:\n",
    "        if sort_by:\n",
    "            agg_df = df.groupby(group_by)[values].sum().reset_index().sort_values(by=sort_by, ascending=ascending).head(10)\n",
    "        else:\n",
    "            agg_df = df.groupby(group_by)[values].sum().reset_index()\n",
    "\n",
    "        fig = px.pie(agg_df, names=group_by[0], values=values, title=title, template=\"plotly\")\n",
    "\n",
    "        return fig\n",
    "    except Exception as e:\n",
    "        raise e"
   ]
  },
  {
   "cell_type": "code",
   "execution_count": null,
   "metadata": {},
   "outputs": [],
   "source": [
    "plot_chart(\n",
    "              data = df\n",
    "             ,chart_type = \"line\"\n",
    "             ,group_by=[\"product_type\"]\n",
    "             ,x=\"quantity\"\n",
    "             ,y=\"date\"\n",
    "             ,sort_by=\"quantity\"\n",
    "             ,ascending=False\n",
    "             )"
   ]
  },
  {
   "cell_type": "code",
   "execution_count": 68,
   "metadata": {},
   "outputs": [],
   "source": [
    "def plot_line_chart(df\n",
    "                    , group_by=\"hour\"\n",
    "                    , x=\"None\"\n",
    "                    , y=None\n",
    "                    , color=None\n",
    "                    , title=None\n",
    "                    , sort_by=None\n",
    "                    , ascending=False\n",
    "                    ):\n",
    "    try:\n",
    "        if sort_by:\n",
    "            agg_df = df.groupby(group_by)['quantity'].sum().reset_index().sort_values(by=sort_by, ascending=ascending)\n",
    "        else:\n",
    "            agg_df = df.groupby(group_by)['quantity'].sum().reset_index()\n",
    "\n",
    "        fig = px.line(agg_df, x=x, y=y, title=title, template=\"plotly\")\n",
    "        # logging.debug(\"Line chart created successfully\")\n",
    "        return fig\n",
    "    except Exception as e:\n",
    "        # logging.error(f\"Error creating plot: {e}\")\n",
    "        raise"
   ]
  },
  {
   "cell_type": "code",
   "execution_count": 71,
   "metadata": {},
   "outputs": [
    {
     "ename": "KeyError",
     "evalue": "'date'",
     "output_type": "error",
     "traceback": [
      "\u001b[1;31m---------------------------------------------------------------------------\u001b[0m",
      "\u001b[1;31mKeyError\u001b[0m                                  Traceback (most recent call last)",
      "\u001b[1;32m~\\AppData\\Local\\Temp\\ipykernel_7384\\2464830061.py\u001b[0m in \u001b[0;36m?\u001b[1;34m()\u001b[0m\n\u001b[1;32m----> 1\u001b[1;33m \u001b[0mplot_line_chart\u001b[0m\u001b[1;33m(\u001b[0m\u001b[0mdf\u001b[0m\u001b[1;33m=\u001b[0m\u001b[0mdf\u001b[0m\u001b[1;33m,\u001b[0m \u001b[0mgroup_by\u001b[0m\u001b[1;33m=\u001b[0m\u001b[1;33m[\u001b[0m\u001b[1;34m\"product_type\"\u001b[0m\u001b[1;33m]\u001b[0m\u001b[1;33m,\u001b[0m \u001b[0mx\u001b[0m\u001b[1;33m=\u001b[0m\u001b[1;34m\"date\"\u001b[0m\u001b[1;33m,\u001b[0m \u001b[0my\u001b[0m\u001b[1;33m=\u001b[0m\u001b[1;34m\"quantity\"\u001b[0m\u001b[1;33m,\u001b[0m \u001b[0mcolor\u001b[0m\u001b[1;33m=\u001b[0m\u001b[1;34m\"product_type\"\u001b[0m\u001b[1;33m,\u001b[0m \u001b[0msort_by\u001b[0m\u001b[1;33m=\u001b[0m\u001b[1;34m\"date\"\u001b[0m\u001b[1;33m,\u001b[0m \u001b[0mascending\u001b[0m\u001b[1;33m=\u001b[0m\u001b[1;32mTrue\u001b[0m\u001b[1;33m)\u001b[0m\u001b[1;33m\u001b[0m\u001b[1;33m\u001b[0m\u001b[0m\n\u001b[0m",
      "\u001b[1;32m~\\AppData\\Local\\Temp\\ipykernel_7384\\2624384220.py\u001b[0m in \u001b[0;36m?\u001b[1;34m(df, group_by, x, y, color, title, sort_by, ascending)\u001b[0m\n\u001b[0;32m     17\u001b[0m         \u001b[1;31m# logging.debug(\"Line chart created successfully\")\u001b[0m\u001b[1;33m\u001b[0m\u001b[1;33m\u001b[0m\u001b[0m\n\u001b[0;32m     18\u001b[0m         \u001b[1;32mreturn\u001b[0m \u001b[0mfig\u001b[0m\u001b[1;33m\u001b[0m\u001b[1;33m\u001b[0m\u001b[0m\n\u001b[0;32m     19\u001b[0m     \u001b[1;32mexcept\u001b[0m \u001b[0mException\u001b[0m \u001b[1;32mas\u001b[0m \u001b[0me\u001b[0m\u001b[1;33m:\u001b[0m\u001b[1;33m\u001b[0m\u001b[1;33m\u001b[0m\u001b[0m\n\u001b[0;32m     20\u001b[0m         \u001b[1;31m# logging.error(f\"Error creating plot: {e}\")\u001b[0m\u001b[1;33m\u001b[0m\u001b[1;33m\u001b[0m\u001b[0m\n\u001b[1;32m---> 21\u001b[1;33m         \u001b[1;32mraise\u001b[0m\u001b[1;33m\u001b[0m\u001b[1;33m\u001b[0m\u001b[0m\n\u001b[0m",
      "\u001b[1;32mc:\\Users\\ShaanBarca\\anaconda3\\envs\\data_etl\\lib\\site-packages\\pandas\\core\\frame.py\u001b[0m in \u001b[0;36m?\u001b[1;34m(self, by, axis, ascending, inplace, kind, na_position, ignore_index, key)\u001b[0m\n\u001b[0;32m   6940\u001b[0m             )\n\u001b[0;32m   6941\u001b[0m         \u001b[1;32melif\u001b[0m \u001b[0mlen\u001b[0m\u001b[1;33m(\u001b[0m\u001b[0mby\u001b[0m\u001b[1;33m)\u001b[0m\u001b[1;33m:\u001b[0m\u001b[1;33m\u001b[0m\u001b[1;33m\u001b[0m\u001b[0m\n\u001b[0;32m   6942\u001b[0m             \u001b[1;31m# len(by) == 1\u001b[0m\u001b[1;33m\u001b[0m\u001b[1;33m\u001b[0m\u001b[0m\n\u001b[0;32m   6943\u001b[0m \u001b[1;33m\u001b[0m\u001b[0m\n\u001b[1;32m-> 6944\u001b[1;33m             \u001b[0mk\u001b[0m \u001b[1;33m=\u001b[0m \u001b[0mself\u001b[0m\u001b[1;33m.\u001b[0m\u001b[0m_get_label_or_level_values\u001b[0m\u001b[1;33m(\u001b[0m\u001b[0mby\u001b[0m\u001b[1;33m[\u001b[0m\u001b[1;36m0\u001b[0m\u001b[1;33m]\u001b[0m\u001b[1;33m,\u001b[0m \u001b[0maxis\u001b[0m\u001b[1;33m=\u001b[0m\u001b[0maxis\u001b[0m\u001b[1;33m)\u001b[0m\u001b[1;33m\u001b[0m\u001b[1;33m\u001b[0m\u001b[0m\n\u001b[0m\u001b[0;32m   6945\u001b[0m \u001b[1;33m\u001b[0m\u001b[0m\n\u001b[0;32m   6946\u001b[0m             \u001b[1;31m# need to rewrap column in Series to apply key function\u001b[0m\u001b[1;33m\u001b[0m\u001b[1;33m\u001b[0m\u001b[0m\n\u001b[0;32m   6947\u001b[0m             \u001b[1;32mif\u001b[0m \u001b[0mkey\u001b[0m \u001b[1;32mis\u001b[0m \u001b[1;32mnot\u001b[0m \u001b[1;32mNone\u001b[0m\u001b[1;33m:\u001b[0m\u001b[1;33m\u001b[0m\u001b[1;33m\u001b[0m\u001b[0m\n",
      "\u001b[1;32mc:\\Users\\ShaanBarca\\anaconda3\\envs\\data_etl\\lib\\site-packages\\pandas\\core\\generic.py\u001b[0m in \u001b[0;36m?\u001b[1;34m(self, key, axis)\u001b[0m\n\u001b[0;32m   1840\u001b[0m             \u001b[0mvalues\u001b[0m \u001b[1;33m=\u001b[0m \u001b[0mself\u001b[0m\u001b[1;33m.\u001b[0m\u001b[0mxs\u001b[0m\u001b[1;33m(\u001b[0m\u001b[0mkey\u001b[0m\u001b[1;33m,\u001b[0m \u001b[0maxis\u001b[0m\u001b[1;33m=\u001b[0m\u001b[0mother_axes\u001b[0m\u001b[1;33m[\u001b[0m\u001b[1;36m0\u001b[0m\u001b[1;33m]\u001b[0m\u001b[1;33m)\u001b[0m\u001b[1;33m.\u001b[0m\u001b[0m_values\u001b[0m\u001b[1;33m\u001b[0m\u001b[1;33m\u001b[0m\u001b[0m\n\u001b[0;32m   1841\u001b[0m         \u001b[1;32melif\u001b[0m \u001b[0mself\u001b[0m\u001b[1;33m.\u001b[0m\u001b[0m_is_level_reference\u001b[0m\u001b[1;33m(\u001b[0m\u001b[0mkey\u001b[0m\u001b[1;33m,\u001b[0m \u001b[0maxis\u001b[0m\u001b[1;33m=\u001b[0m\u001b[0maxis\u001b[0m\u001b[1;33m)\u001b[0m\u001b[1;33m:\u001b[0m\u001b[1;33m\u001b[0m\u001b[1;33m\u001b[0m\u001b[0m\n\u001b[0;32m   1842\u001b[0m             \u001b[0mvalues\u001b[0m \u001b[1;33m=\u001b[0m \u001b[0mself\u001b[0m\u001b[1;33m.\u001b[0m\u001b[0maxes\u001b[0m\u001b[1;33m[\u001b[0m\u001b[0maxis\u001b[0m\u001b[1;33m]\u001b[0m\u001b[1;33m.\u001b[0m\u001b[0mget_level_values\u001b[0m\u001b[1;33m(\u001b[0m\u001b[0mkey\u001b[0m\u001b[1;33m)\u001b[0m\u001b[1;33m.\u001b[0m\u001b[0m_values\u001b[0m\u001b[1;33m\u001b[0m\u001b[1;33m\u001b[0m\u001b[0m\n\u001b[0;32m   1843\u001b[0m         \u001b[1;32melse\u001b[0m\u001b[1;33m:\u001b[0m\u001b[1;33m\u001b[0m\u001b[1;33m\u001b[0m\u001b[0m\n\u001b[1;32m-> 1844\u001b[1;33m             \u001b[1;32mraise\u001b[0m \u001b[0mKeyError\u001b[0m\u001b[1;33m(\u001b[0m\u001b[0mkey\u001b[0m\u001b[1;33m)\u001b[0m\u001b[1;33m\u001b[0m\u001b[1;33m\u001b[0m\u001b[0m\n\u001b[0m\u001b[0;32m   1845\u001b[0m \u001b[1;33m\u001b[0m\u001b[0m\n\u001b[0;32m   1846\u001b[0m         \u001b[1;31m# Check for duplicates\u001b[0m\u001b[1;33m\u001b[0m\u001b[1;33m\u001b[0m\u001b[0m\n\u001b[0;32m   1847\u001b[0m         \u001b[1;32mif\u001b[0m \u001b[0mvalues\u001b[0m\u001b[1;33m.\u001b[0m\u001b[0mndim\u001b[0m \u001b[1;33m>\u001b[0m \u001b[1;36m1\u001b[0m\u001b[1;33m:\u001b[0m\u001b[1;33m\u001b[0m\u001b[1;33m\u001b[0m\u001b[0m\n",
      "\u001b[1;31mKeyError\u001b[0m: 'date'"
     ]
    }
   ],
   "source": [
    "plot_line_chart(df=df, group_by=[\"product_type\"], x=\"date\", y=\"quantity\", color=\"product_type\", sort_by=\"date\", ascending=True)\n"
   ]
  },
  {
   "cell_type": "code",
   "execution_count": 72,
   "metadata": {},
   "outputs": [],
   "source": [
    "# plot_chart(\n",
    "#               data = df\n",
    "#              ,chart_type = \"line\"\n",
    "#              ,group_by=[\"product_type\"]\n",
    "#              ,x=\"quantity\"\n",
    "#              ,facet_col=\"product_type\"\n",
    "#              ,sort_by=\"quantity\"\n",
    "#              ,ascending=False\n",
    "#              )"
   ]
  },
  {
   "cell_type": "code",
   "execution_count": 35,
   "metadata": {},
   "outputs": [
    {
     "data": {
      "text/plain": [
       "Index(['Unnamed: 0', 'base_price', 'buying_price', 'cancel_date',\n",
       "       'cancel_reason', 'cashier_id', 'channel', 'clean_product_name',\n",
       "       'closed_date', 'customer_id', 'day', 'device_location',\n",
       "       'fulfillment_status', 'hour', 'month', 'month_name', 'notes',\n",
       "       'on_account', 'order_id', 'order_type', 'outlet_code', 'outlet_name',\n",
       "       'payment_status', 'product_id', 'product_name', 'product_type',\n",
       "       'quantity', 'quarter', 'quarter_year', 'register_id', 'register_name',\n",
       "       'remaining_on_account', 'server_id', 'status', 'subtotal',\n",
       "       'tax_inclusive', 'total_amount', 'total_order_amount',\n",
       "       'total_shipping_amount', 'total_weight', 'week', 'week_of_month',\n",
       "       'year', 'cost_of_goods', 'profit'],\n",
       "      dtype='object')"
      ]
     },
     "execution_count": 35,
     "metadata": {},
     "output_type": "execute_result"
    }
   ],
   "source": [
    "df.columns"
   ]
  },
  {
   "cell_type": "code",
   "execution_count": 73,
   "metadata": {},
   "outputs": [],
   "source": [
    "# plot_chart(\n",
    "#               data = df\n",
    "#              ,chart_type = \"line\"\n",
    "#              ,group_by=[\"product_type\"]\n",
    "#              ,x=\"quantity\"\n",
    "#              ,y=\"date\"\n",
    "#              facet_col=\n",
    "#              ,sort_by=\"quantity\"\n",
    "#              ,ascending=False\n",
    "#              )"
   ]
  },
  {
   "cell_type": "code",
   "execution_count": null,
   "metadata": {},
   "outputs": [],
   "source": []
  }
 ],
 "metadata": {
  "kernelspec": {
   "display_name": "data_etl",
   "language": "python",
   "name": "python3"
  },
  "language_info": {
   "codemirror_mode": {
    "name": "ipython",
    "version": 3
   },
   "file_extension": ".py",
   "mimetype": "text/x-python",
   "name": "python",
   "nbconvert_exporter": "python",
   "pygments_lexer": "ipython3",
   "version": "3.10.13"
  }
 },
 "nbformat": 4,
 "nbformat_minor": 2
}
