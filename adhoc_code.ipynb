{
 "cells": [
  {
   "cell_type": "code",
   "execution_count": 2,
   "metadata": {},
   "outputs": [],
   "source": [
    "import pandas as pd\n",
    "import os"
   ]
  },
  {
   "cell_type": "code",
   "execution_count": 6,
   "metadata": {},
   "outputs": [],
   "source": [
    "csv_directory = 'dev/outputs'\n",
    "csv_files = [f for f in os.listdir(csv_directory) if f.endswith('.csv')]\n",
    "dataframes = []\n",
    "for file in csv_files:\n",
    "    file_path = os.path.join(csv_directory, file)\n",
    "    df = pd.read_csv(file_path)\n",
    "    dataframes.append(df)\n",
    "\n",
    "# Concatenate all DataFrames in the list into a single DataFrame\n",
    "concatenated_df = pd.concat(dataframes, ignore_index=True)\n"
   ]
  },
  {
   "cell_type": "code",
   "execution_count": 8,
   "metadata": {},
   "outputs": [],
   "source": [
    "output_file = 'concatenated.csv'\n",
    "concatenated_df.to_csv(output_file, index=False)\n"
   ]
  },
  {
   "cell_type": "code",
   "execution_count": 9,
   "metadata": {},
   "outputs": [],
   "source": [
    "llm_output_df = pd.read_csv(\"data/concatenated.csv\")\n"
   ]
  },
  {
   "cell_type": "code",
   "execution_count": null,
   "metadata": {},
   "outputs": [],
   "source": [
    "characters_list = [\n",
    "    {\n",
    "        \"id\": \"bender\",\n",
    "        \"image\": \"https://img.icons8.com/clouds/256/000000/futurama-bender.png\",\n",
    "        \"label\": \"Prompt 1\",\n",
    "        \"description\": \"Tell me what are the top 5 Selling Products\",\n",
    "        \"content\": \"Bender Bending Rodríguez, (born September 4, 2996), designated Bending Unit 22, and commonly \"\n",
    "        \"known as Bender, is a bending unit created by a division of MomCorp in Tijuana, Mexico, \"\n",
    "        \"and his serial number is 2716057. His mugshot id number is 01473. He is Fry's best friend.\",\n",
    "    },\n",
    "    {\n",
    "        \"id\": \"carol\",\n",
    "        \"image\": \"https://img.icons8.com/clouds/256/000000/futurama-mom.png\",\n",
    "        \"label\": \"Prompt 2\",\n",
    "        \"description\": \"Based on this Data, which Cateory of Drinks should I prioritize\",\n",
    "        \"content\": \"Carol Miller (born January 30, 2880), better known as Mom, is the evil chief executive officer \"\n",
    "        \"and shareholder of 99.7% of Momcorp, one of the largest industrial conglomerates in the universe \"\n",
    "        \"and the source of most of Earth's robots. She is also one of the main antagonists of the Futurama \"\n",
    "        \"series.\",\n",
    "    },\n",
    "    {\n",
    "        \"id\": \"homer\",\n",
    "        \"image\": \"https://img.icons8.com/clouds/256/000000/homer-simpson.png\",\n",
    "        \"label\": \"Prompt 3\",\n",
    "        \"description\": \"Prompt 3 \",\n",
    "        \"content\": \"Homer Jay Simpson (born May 12) is the main protagonist and one of the five main characters of \"\n",
    "        \"The Simpsons series(or show). He is the spouse of Marge Simpson and father of Bart, \"\n",
    "        \"Lisa and Maggie Simpson.\",\n",
    "    },\n",
    "]\n"
   ]
  },
  {
   "cell_type": "code",
   "execution_count": 15,
   "metadata": {},
   "outputs": [
    {
     "name": "stdout",
     "output_type": "stream",
     "text": [
      "PROMPT  1. What is the total quantity sold for each outlet in a specific year?\n",
      "RESPONSE  The total quantity sold for each outlet in the year 2024, in descending order, is as follows:\\n\\n1. Bekasi - Perjuangan: 39,876 units\\n2. Jaksel - Pondok Indah: 14,574 units\\n3. Cibubur: 14,186 units\\n4. Jakut - Kelapa Gading: 10,761 units\\n5. Jakbar - Taman Palem: 8,531 units\\n6. Tangerang - Pisa Grande: 6,826 units\\n7. Bandung: 2,264 units\\n8. Ayam! Dapur Kitchen BKS: 1,929 units\\n9. Ayam! RSIJ: 412 units\\n10. Ayam! Libersa Park BKS: 347 units\\n\\nThese are the total quantities sold for each outlet in the specified year.\n",
      "------------------------------\n",
      "PROMPT  2. How does the quantity sold in each outlet vary month by month?\n",
      "RESPONSE  Here are some examples of how the quantity sold in each outlet varies month by month:\\n\\n1. Outlet: Ayam! Alun-Alun BKS, Month: March, Quantity Sold: 172\\n2. Outlet: Ayam! Alun-Alun BKS, Month: April, Quantity Sold: 134\\n3. Outlet: Ayam! Alun-Alun BKS, Month: May, Quantity Sold: 23\\n4. Outlet: Ayam! Dapur Kitchen BKS, Month: January, Quantity Sold: 366\\n5. Outlet: Ayam! Dapur Kitchen BKS, Month: February, Quantity Sold: 331\\n6. Outlet: Ayam! Dapur Kitchen BKS, Month: March, Quantity Sold: 524\\n7. Outlet: Ayam! Dapur Kitchen BKS, Month: April, Quantity Sold: 662\\n8. Outlet: Ayam! Dapur Kitchen BKS, Month: May, Quantity Sold: 46\\n9. Outlet: Ayam! Libersa Park BKS, Month: January, Quantity Sold: 121\\n10. Outlet: Ayam! Libersa Park BKS, Month: February, Quantity Sold: 138\\n\\nThese are just a few examples of how the quantity sold varies month by month for different outlets.\n",
      "------------------------------\n",
      "PROMPT  3. Can you provide the top outlets with the highest growth rate of quantity sold? \n",
      "RESPONSE  The top outlets with the highest growth rate of quantity sold are:\\n\\n1. Ayam! RSIJ - Growth Rate: 375.0\\n2. Ayam! Dapur Kitchen BKS - Growth Rate: 58.31\\n3. Jakbar - Taman Palem - Growth Rate: 40.56\\n4. Jaksel - Pondok Indah - Growth Rate: 32.15\\n5. Bandung - Growth Rate: 28.21\\n6. Ayam! Dapur Kitchen BKS - Growth Rate: 26.34\\n7. Cibubur - Growth Rate: 16.89\\n8. Ayam! Libersa Park BKS - Growth Rate: 14.05\\n9. Bekasi - Perjuangan - Growth Rate: 7.25\\n10. Jakut - Kelapa Gading - Growth Rate: 6.36\n",
      "------------------------------\n",
      "PROMPT  1. What are the top products with the highest profits in each week?\n",
      "RESPONSE  The query results show the top products with the highest profits in each week:\\n- Week 1: \\n  - Product: kawa kawa anggur hijau\\n  - Profit: 7,761,904 IDR\\n\\nPlease note that the results are limited to the top 10 products with the highest profits in each week. If you would like to see more results or for a specific week, feel free to let me know!\n",
      "------------------------------\n",
      "PROMPT  2. How do the profits of different products vary across different days of the week?\n",
      "RESPONSE  The profits of different products vary across different days of the week. Here are the top 10 products with their profits on different days:\\n\\n1. On Friday, the product \"bintang botol\" has a profit of 18,341,206 IDR.\\n2. On Friday, the product \"happy soju original\" has a profit of 17,331,836 IDR.\\n3. On Friday, the product \"wija soju lychee\" has a profit of 15,659,100 IDR.\\n4. On Friday, the product \"anggur merah gold\" has a profit of 12,750,050 IDR.\\n5. On Saturday, the product \"kawa kawa anggur hijau\" has a profit of 11,733,007 IDR.\\n6. On Tuesday, the product \"kawa kawa anggur hijau\" has a profit of 11,724,227 IDR.\\n7. On Friday, the product \"jameson\" has a profit of 11,333,299 IDR.\\n8. On Friday, the product \"anggur merah\" has a profit of 11,245,250 IDR.\\n9. On Friday, the product \"happy soju lychee\" has a profit of 11,145,636 IDR.\\n10. On Saturday, the product \"api anggur hijau\" has a profit of 11,049,500 IDR.\n",
      "------------------------------\n",
      "PROMPT  3. Can we identify any seasonal trends in product profits based on the month and year data?\n",
      "RESPONSE  Based on the data from the \"top_product_by_profit\" table, here are the total profits for each month in the year 2024:\\n\\n- January 2024: IDR 2,643,294,790.12\\n- February 2024: IDR 2,899,852,576.48\\n- March 2024: IDR 2,111,684,501.98\\n- April 2024: IDR 2,115,140,338.01\\n- May 2024: IDR 687,248,785.00\\n\\nIt seems that there are fluctuations in profits across different months in the year 2024.\n",
      "------------------------------\n",
      "PROMPT  1. What is the distribution of product types in the sales data?\n",
      "RESPONSE  The distribution of product types in the sales data is as follows:\\n\\n- ANGGUR: 19\\n- BEER: 61\\n- COGNAC: 5\\n- EMBALASE: 2\\n- FOOD: 46\\n- FREE: 1\\n- GIN: 11\\n- LIQUOR: 46\\n- MAKGEOLLI: 5\\n- MERCHANDISE: 12\\n- MEZCAL: 1\\n- REGULAR: 31\\n- ROKOK: 8\\n- RUM: 14\\n- SOJU: 76\\n- SPIRIT: 9\\n- TEQUILA: 1\\n- VAPE: 4\\n- VODKA: 34\\n- WHISKY: 45\\n- WINE: 106\n",
      "------------------------------\n",
      "PROMPT  2. How does the current quarter revenue compare to the last quarter revenue for different product types?\n",
      "RESPONSE  The current quarter revenue compared to the last quarter revenue for different product types are as follows:\\n\\n1. Product Type: REGULAR\\n   - Current Quarter Revenue: 55,569,433 IDR\\n   - Last Quarter Revenue: 145,463,665 IDR\\n\\n2. Product Type: REGULAR\\n   - Current Quarter Revenue: 5,086,300 IDR\\n   - Last Quarter Revenue: 16,148,800 IDR\\n\\n3. Product Type: VODKA\\n   - Current Quarter Revenue: 18,173,000 IDR\\n   - Last Quarter Revenue: 33,426,900 IDR\\n\\n4. Product Type: ANGGUR\\n   - Current Quarter Revenue: 40,367,800 IDR\\n   - Last Quarter Revenue: 142,327,100 IDR\\n\\n5. Product Type: ANGGUR\\n   - Current Quarter Revenue: 18,252,100 IDR\\n   - Last Quarter Revenue: 52,550,000 IDR\\n\\n6. Product Type: VODKA\\n   - Current Quarter Revenue: 3,418,800 IDR\\n   - Last Quarter Revenue: 2,600,100 IDR\\n\\n7. Product Type: VODKA\\n   - Current Quarter Revenue: 2,655,000 IDR\\n   - Last Quarter Revenue: 5,478,800 IDR\\n\\n8. Product Type: SOJU\\n   - Current Quarter Revenue: 12,978,100 IDR\\n   - Last Quarter Revenue: 24,177,000 IDR\\n\\n9. Product Type: SOJU\\n   - Current Quarter Revenue: 18,335,500 IDR\\n   - Last Quarter Revenue: 31,527,300 IDR\\n\\n10. Product Type: SOJU\\n    - Current Quarter Revenue: 22,085,000 IDR\\n    - Last Quarter Revenue: 18,319,200 IDR\\n\\nThese are the comparisons of current quarter revenue to last quarter revenue for different product types in IDR.\n",
      "------------------------------\n",
      "PROMPT  3. What is the average monthly growth percentage across all products?  \n",
      "RESPONSE  I'm sorry, but it seems there was an issue with retrieving the average monthly growth percentage across all products. The query did not return any results.\n",
      "------------------------------\n",
      "PROMPT  - What are the top-selling products by category for the current year?\n",
      "RESPONSE  The top-selling products by category for the current year (2024) are as follows (in IDR):\\n1. Product: Hibiki Japanese Harmony, Total Amount: 5,377,000, Quantity: 1\\n2. Product: Hibiki Japanese Harmony, Total Amount: 4,887,000, Quantity: 2\\n3. Product: Nikka Whisky from the Barrel Japanese Whisky, Total Amount: 4,545,016, Quantity: 1\\n4. Product: Ballantines Blended Scotch Whisky, Total Amount: 4,545,016, Quantity: 1\\n5. Product: Jack Daniel's No.7, Total Amount: 4,259,000, Quantity: 1\\n6. Product: Hennessy VSOP, Total Amount: 4,196,000, Quantity: 4\\n7. Product: Monkey Shoulder, Total Amount: 3,947,000, Quantity: 2\\n8. Product: Sababay Mascetti, Total Amount: 3,944,000, Quantity: 4\\n9. Product: Roku Gin, Total Amount: 3,937,000, Quantity: 1\\n10. Product: Martell VSOP, Total Amount: 3,832,488, Quantity: 6\n",
      "------------------------------\n",
      "PROMPT  - How do the sales quantities vary by month for the top products?\n",
      "RESPONSE  The top products with the highest sales quantities by month are as follows:\\n\\n1. Product: kawa kawa anggur hijau, Month: 3, Quantity: 624\\n2. Product: kawa kawa anggur hijau, Month: 1, Quantity: 557\\n3. Product: kawa kawa anggur hijau, Month: 2, Quantity: 534\\n4. Product: kawa kawa anggur hijau, Month: 2, Quantity: 520\\n5. Product: kawa kawa anggur hijau, Month: 4, Quantity: 455\\n6. Product: (es batu) crystalline cup, Month: 2, Quantity: 437\\n7. Product: kawa kawa anggur hijau, Month: 2, Quantity: 435\\n8. Product: kawa kawa anggur hijau, Month: 3, Quantity: 415\\n9. Product: kawa kawa anggur hijau, Month: 3, Quantity: 407\\n10. Product: draft beer kaleng, Month: 2, Quantity: 399\\n\\nThese are the top products with the highest sales quantities for different months.\n",
      "------------------------------\n",
      "PROMPT  - Is there a correlation between total sales amount and quantity sold for the top products?\n",
      "RESPONSE  Here are some examples of the correlation between total sales amount and quantity sold for the top products:\\n\\n- Product: Hibiki Japanese Harmony, Total Amount: 5,377,000 IDR, Quantity Sold: 1\\n- Product: Hibiki Japanese Harmony, Total Amount: 4,887,000 IDR, Quantity Sold: 2\\n- Product: Nikka Whisky from the Barrel Japanese Whisky, Total Amount: 4,545,016 IDR, Quantity Sold: 1\\n- Product: Ballantines Blended Scotch Whisky, Total Amount: 4,545,016 IDR, Quantity Sold: 1\\n- Product: Jack Daniel's No.7, Total Amount: 4,259,000 IDR, Quantity Sold: 1\\n- Product: Hennessy VSOP, Total Amount: 4,196,000 IDR, Quantity Sold: 4\\n- Product: Monkey Shoulder, Total Amount: 3,947,000 IDR, Quantity Sold: 2\\n- Product: Sababay Mascetti, Total Amount: 3,944,000 IDR, Quantity Sold: 4\\n- Product: Roku Gin, Total Amount: 3,937,000 IDR, Quantity Sold: 1\\n- Product: Martell VSOP, Total Amount: 3,832,488 IDR, Quantity Sold: 6\\n\\nIt seems that there is a variation in the quantity sold for the top products with different total sales amounts.\n",
      "------------------------------\n",
      "PROMPT  1. What are the top 5 clean product names with the highest total amount sold?\n",
      "RESPONSE  The top 5 clean product names with the highest total amount sold in IDR are:\\n1. Hennessy VSOP - IDR 35,864,390.67\\n2. Martell VSOP - IDR 30,219,499.59\\n3. Hibiki Japanese Harmony - IDR 24,804,258.00\\n4. Glenfiddich 12yo - IDR 24,730,651.99\\n5. JW Black Label - IDR 22,612,401.42\n",
      "------------------------------\n",
      "PROMPT  2. Can you provide the monthly total quantity sold for each year?\n",
      "RESPONSE  The monthly total quantity sold for each year in IDR are as follows:\\n- For the year 2024:\\n  - Month 1: 26,877 units\\n  - Month 2: 25,491 units\\n  - Month 3: 20,171 units\\n  - Month 4: 21,317 units\\n  - Month 5: 6,372 units\n",
      "------------------------------\n",
      "PROMPT  3. Is there any trend in the weekly total amount sold for specific product names? \n",
      "RESPONSE  Yes, there is a trend in the weekly total amount sold for specific product names. Here are some examples of the weekly total amount sold for specific product names:\\n\\n1. Product Name: (es batu) crystalline cup, Week: 1, Weekly Total Amount Sold: 157,670.77 IDR\\n2. Product Name: (es batu) crystalline cup, Week: 2, Weekly Total Amount Sold: 150,573.82 IDR\\n3. Product Name: (es batu) crystalline cup, Week: 3, Weekly Total Amount Sold: 164,179.65 IDR\\n4. Product Name: (es batu) crystalline cup, Week: 4, Weekly Total Amount Sold: 192,236.29 IDR\\n5. Product Name: (es batu) crystalline cup, Week: 5, Weekly Total Amount Sold: 343,266.93 IDR\\n6. Product Name: (es batu) crystalline cup, Week: 6, Weekly Total Amount Sold: 201,923.69 IDR\\n7. Product Name: (es batu) crystalline cup, Week: 7, Weekly Total Amount Sold: 234,708.42 IDR\\n8. Product Name: (es batu) crystalline cup, Week: 8, Weekly Total Amount Sold: 186,145.41 IDR\\n9. Product Name: (es batu) crystalline cup, Week: 9, Weekly Total Amount Sold: 276,706.22 IDR\\n10. Product Name: (es batu) crystalline cup, Week: 10, Weekly Total Amount Sold: 152,847.37 IDR\\n\\nThis data shows the trend in the weekly total amount sold for the specific product name \"(es batu) crystalline cup\".\n",
      "------------------------------\n",
      "PROMPT  1. What are the top selling products based on total amount sold in a specific year?\n",
      "RESPONSE  The top selling products based on total amount sold in the year 2024 are as follows (in IDR):\\n1. Hibiki Japanese Harmony - 5,377,000\\n2. Hibiki Japanese Harmony - 4,887,000\\n3. Nikka Whisky from the Barrel Japanese Whisky - 4,545,016\\n4. Ballantines Blended Scotch Whisky - 4,545,016\\n5. Jack Daniel's No.7 - 4,259,000\\n6. Hennessy VSOP - 4,196,000\\n7. Monkey Shoulder - 3,947,000\\n8. Sababay Mascetti - 3,944,000\\n9. Roku Gin - 3,937,000\\n10. Martell VSOP - 3,832,488\n",
      "------------------------------\n",
      "PROMPT  2. How does the quantity of products sold vary across different months and weeks?\n",
      "RESPONSE  The query results show the total quantity of products sold across different months and weeks:\\n\\n- In month 1, week 1: 6597 products sold\\n- In month 1, week 2: 6022 products sold\\n- In month 1, week 3: 6099 products sold\\n- In month 1, week 4: 6025 products sold\\n- In month 1, week 5: 2134 products sold\\n- In month 2, week 5: 4417 products sold\\n- In month 2, week 6: 7422 products sold\\n- In month 2, week 7: 5808 products sold\\n- In month 2, week 8: 5497 products sold\\n- In month 2, week 9: 2347 products sold\\n\\nThis information provides an overview of how the quantity of products sold varies across different months and weeks.\n",
      "------------------------------\n",
      "PROMPT  3. Can we identify any trends in the sales of specific product categories over the years?\n",
      "RESPONSE  Based on the sales data from the \"top_product_by_quantity_sold\" table, we can identify trends in the sales of specific product categories over the year 2024. Here are some examples of total sales for different product categories in IDR:\\n\\n1. Chivas 12yo - Total Sales in 2024: 22,505,771.37 IDR\\n2. Bombay Sapphire - Total Sales in 2024: 12,256,864.08 IDR\\n3. Hennessy VSOP - Total Sales in 2024: 35,864,390.67 IDR\\n4. Grey Goose - Total Sales in 2024: 21,013,684.14 IDR\\n5. Jack Daniel's No.7 - Total Sales in 2024: 17,077,432.33 IDR\\n\\nThese examples show the total sales for specific product categories in IDR for the year 2024.\n",
      "------------------------------\n",
      "PROMPT  1. What is the total quantity of \"cointreau\" products sold in the database?\n",
      "RESPONSE  The total quantity of \"cointreau\" products sold in the database is 126.\n",
      "------------------------------\n",
      "PROMPT  2. How does the quantity of \"jw black label\" compare to \"jw red label\" products sold on Mondays?\n",
      "RESPONSE  The quantity of \"jw black label\" products sold on Mondays varies, with values such as 1, 2, 3, 4, 6, and 9. \\nThe quantity of \"jw red label\" products sold on Mondays also varies, with values such as 1, 2, 3, 4, 5, 8, and 10.\n",
      "------------------------------\n",
      "PROMPT  3. Can you provide the monthly breakdown of total quantity sold for each product in the dataset?\n",
      "RESPONSE  Based on the total quantity of products sold monthly, the top products are as follows:\\n\\n1. In March 2024, the product \"kawa kawa anggur hijau\" had the highest total quantity sold with 2064 units.\\n2. In February 2024, the product \"kawa kawa anggur hijau\" had the second-highest total quantity sold with 2038 units.\\n3. In January 2024, the product \"anggur merah gold\" had a total quantity sold of 1501 units.\\n4. In January 2024, the product \"anggur merah\" had a total quantity sold of 1201 units.\\n5. In February 2024, the product \"(es batu) crystalline cup\" had a total quantity sold of 1092 units.\\n6. In April 2024, the product \"kawa kawa anggur hijau\" had a total quantity sold of 1085 units.\\n7. In January 2024, the product \"kawa kawa anggur hijau\" had a total quantity sold of 1073 units.\\n8. In January 2024, the product \"api anggur hijau\" had a total quantity sold of 1027 units.\\n9. In March 2024, the product \"bintang botol\" had a total quantity sold of 996 units.\\n10. In March 2024, the product \"draft beer kaleng\" had a total quantity sold of 994 units.\\n\\nThese results indicate the popularity of different products over the months, which can provide insights into emerging trends and shifts in consumer preferences.\n",
      "------------------------------\n"
     ]
    }
   ],
   "source": [
    "for index, row in llm_output_df.iterrows():\n",
    "    print(\"PROMPT \", row[\"prompt\"])\n",
    "    print(\"RESPONSE \", row[\"response\"])\n",
    "    print(\"------------------------------\")\n"
   ]
  },
  {
   "cell_type": "code",
   "execution_count": null,
   "metadata": {},
   "outputs": [],
   "source": []
  }
 ],
 "metadata": {
  "kernelspec": {
   "display_name": "data_etl",
   "language": "python",
   "name": "python3"
  },
  "language_info": {
   "codemirror_mode": {
    "name": "ipython",
    "version": 3
   },
   "file_extension": ".py",
   "mimetype": "text/x-python",
   "name": "python",
   "nbconvert_exporter": "python",
   "pygments_lexer": "ipython3",
   "version": "3.10.13"
  }
 },
 "nbformat": 4,
 "nbformat_minor": 2
}
