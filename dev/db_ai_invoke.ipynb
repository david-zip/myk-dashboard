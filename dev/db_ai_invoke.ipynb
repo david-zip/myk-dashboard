{
 "cells": [
  {
   "cell_type": "code",
   "execution_count": 1,
   "metadata": {},
   "outputs": [
    {
     "name": "stdout",
     "output_type": "stream",
     "text": [
      "\n",
      "\u001b[1m[\u001b[0m\u001b[34;49mnotice\u001b[0m\u001b[1;39;49m]\u001b[0m\u001b[39;49m A new release of pip is available: \u001b[0m\u001b[31;49m24.0\u001b[0m\u001b[39;49m -> \u001b[0m\u001b[32;49m24.1\u001b[0m\n",
      "\u001b[1m[\u001b[0m\u001b[34;49mnotice\u001b[0m\u001b[1;39;49m]\u001b[0m\u001b[39;49m To update, run: \u001b[0m\u001b[32;49mpip3 install --upgrade pip\u001b[0m\n",
      "\n",
      "\u001b[1m[\u001b[0m\u001b[34;49mnotice\u001b[0m\u001b[1;39;49m]\u001b[0m\u001b[39;49m A new release of pip is available: \u001b[0m\u001b[31;49m24.0\u001b[0m\u001b[39;49m -> \u001b[0m\u001b[32;49m24.1\u001b[0m\n",
      "\u001b[1m[\u001b[0m\u001b[34;49mnotice\u001b[0m\u001b[1;39;49m]\u001b[0m\u001b[39;49m To update, run: \u001b[0m\u001b[32;49mpip3 install --upgrade pip\u001b[0m\n",
      "\n",
      "\u001b[1m[\u001b[0m\u001b[34;49mnotice\u001b[0m\u001b[1;39;49m]\u001b[0m\u001b[39;49m A new release of pip is available: \u001b[0m\u001b[31;49m24.0\u001b[0m\u001b[39;49m -> \u001b[0m\u001b[32;49m24.1\u001b[0m\n",
      "\u001b[1m[\u001b[0m\u001b[34;49mnotice\u001b[0m\u001b[1;39;49m]\u001b[0m\u001b[39;49m To update, run: \u001b[0m\u001b[32;49mpip3 install --upgrade pip\u001b[0m\n",
      "\n",
      "\u001b[1m[\u001b[0m\u001b[34;49mnotice\u001b[0m\u001b[1;39;49m]\u001b[0m\u001b[39;49m A new release of pip is available: \u001b[0m\u001b[31;49m24.0\u001b[0m\u001b[39;49m -> \u001b[0m\u001b[32;49m24.1\u001b[0m\n",
      "\u001b[1m[\u001b[0m\u001b[34;49mnotice\u001b[0m\u001b[1;39;49m]\u001b[0m\u001b[39;49m To update, run: \u001b[0m\u001b[32;49mpip3 install --upgrade pip\u001b[0m\n"
     ]
    }
   ],
   "source": [
    "!pip3 install --upgrade langchain langchain_experimental openai --quiet \n",
    "!pip3 install --upgrade matplotlib --quiet\n",
    "!pip3 install --upgrade pandas --quiet\n",
    "!pip3 install --upgrade sqlalchemy --quiet"
   ]
  },
  {
   "cell_type": "code",
   "execution_count": 2,
   "metadata": {},
   "outputs": [],
   "source": [
    "import os\n",
    "import csv\n",
    "import pandas as pd\n",
    "from datetime import datetime\n",
    "from langchain_openai import OpenAI\n",
    "from langchain_community.utilities import SQLDatabase\n",
    "from langchain_community.agent_toolkits import create_sql_agent\n",
    "import sqlalchemy"
   ]
  },
  {
   "cell_type": "code",
   "execution_count": 3,
   "metadata": {},
   "outputs": [],
   "source": [
    "# initialise sql engine\n",
    "conn = sqlalchemy.create_engine('sqlite:////Users/davidrinaldi/Documents/Projects/myk-dashboard/dev/data/full_iseller_data.db')"
   ]
  },
  {
   "cell_type": "code",
   "execution_count": 4,
   "metadata": {},
   "outputs": [],
   "source": [
    "def WeekOfMonth(date):\n",
    "    first_day_of_month = date.replace(day=1)\n",
    "    day_of_week_first_day = first_day_of_month.weekday()\n",
    "    week_number = (date.day + day_of_week_first_day - 1) // 7 + 1\n",
    "    return week_number"
   ]
  },
  {
   "cell_type": "code",
   "execution_count": 5,
   "metadata": {},
   "outputs": [],
   "source": [
    "# import csv and convert to db\n",
    "iseller_data = pd.read_excel('/Users/davidrinaldi/Documents/Projects/myk-dashboard/data/full_iseller_data.xlsx')\n",
    "# add order date data\n",
    "iseller_data['closed_date'] = pd.to_datetime(iseller_data['closed_date'])\n",
    "iseller_data['date'] = iseller_data['closed_date'] .dt.date\n",
    "iseller_data['day_of_week_num'] = iseller_data['closed_date'].dt.dayofweek\n",
    "iseller_data['day_name'] = iseller_data['closed_date'].dt.day_name()\n",
    "iseller_data['day'] = iseller_data['closed_date'].dt.day\n",
    "iseller_data['month'] = iseller_data['closed_date'].dt.month\n",
    "iseller_data['week'] = iseller_data['closed_date'].dt.isocalendar().week\n",
    "iseller_data['year'] = iseller_data['closed_date'].dt.year"
   ]
  },
  {
   "cell_type": "code",
   "execution_count": 6,
   "metadata": {},
   "outputs": [],
   "source": [
    "#db = SQLDatabase.from_uri(\"sqlite:///data/full_iseller_data.db\")\n"
   ]
  },
  {
   "cell_type": "code",
   "execution_count": 7,
   "metadata": {},
   "outputs": [],
   "source": [
    "from langchain_community.agent_toolkits import create_sql_agent\n",
    "from langchain_openai import ChatOpenAI, OpenAI\n",
    "\n",
    "query_llm = ChatOpenAI(model=\"gpt-3.5-turbo\", temperature=0.9)\n",
    "analysis_llm = ChatOpenAI(model=\"gpt-3.5-turbo\", temperature=0.1)"
   ]
  },
  {
   "cell_type": "markdown",
   "metadata": {},
   "source": [
    "## location table"
   ]
  },
  {
   "cell_type": "code",
   "execution_count": 8,
   "metadata": {},
   "outputs": [],
   "source": [
    "# initialise location tables\n",
    "from scripts.utils import generate_location_df\n",
    "\n",
    "conn = sqlalchemy.create_engine('sqlite:////Users/davidrinaldi/Documents/Projects/myk-dashboard/dev/data/temp.db')\n",
    "location_df = generate_location_df(iseller_data)\n",
    "location_df.to_sql('locations', conn, if_exists='replace', index=False)\n",
    "db = SQLDatabase.from_uri(\"sqlite:///data/temp.db\")\n"
   ]
  },
  {
   "cell_type": "code",
   "execution_count": 9,
   "metadata": {},
   "outputs": [],
   "source": [
    "location_agent = create_sql_agent(query_llm, db=db, agent_type=\"openai-tools\", verbose=True)"
   ]
  },
  {
   "cell_type": "code",
   "execution_count": 10,
   "metadata": {},
   "outputs": [
    {
     "name": "stdout",
     "output_type": "stream",
     "text": [
      "\n",
      "\n",
      "\u001b[1m> Entering new SQL Agent Executor chain...\u001b[0m\n",
      "\u001b[32;1m\u001b[1;3m\n",
      "Invoking: `sql_db_list_tables` with `{}`\n",
      "\n",
      "\n",
      "\u001b[0m\u001b[38;5;200m\u001b[1;3mlocations\u001b[0m\u001b[32;1m\u001b[1;3m\n",
      "Invoking: `sql_db_schema` with `{'table_names': 'locations'}`\n",
      "\n",
      "\n",
      "\u001b[0m\u001b[33;1m\u001b[1;3m\n",
      "CREATE TABLE locations (\n",
      "\toutlet_name TEXT, \n",
      "\tyear INTEGER, \n",
      "\tmonth_name TEXT, \n",
      "\tmonth INTEGER, \n",
      "\tquantity BIGINT, \n",
      "\tquantity_diff FLOAT, \n",
      "\tgrowth_rate FLOAT\n",
      ")\n",
      "\n",
      "/*\n",
      "3 rows from locations table:\n",
      "outlet_name\tyear\tmonth_name\tmonth\tquantity\tquantity_diff\tgrowth_rate\n",
      "Ayam! Alun-Alun BKS\t2024\tMarch\t3\t172\tNone\tNone\n",
      "Ayam! Alun-Alun BKS\t2024\tApril\t4\t134\t-38.0\t-22.093023255813954\n",
      "Ayam! Alun-Alun BKS\t2024\tMay\t5\t23\t-111.0\t-82.83582089552239\n",
      "*/\u001b[0m\u001b[32;1m\u001b[1;3m1. What is the total quantity sold for each outlet in a specific year?\n",
      "2. How does the quantity sold in each outlet vary month by month?\n",
      "3. Can you provide the top outlets with the highest growth rate of quantity sold? <EOF>\u001b[0m\n",
      "\n",
      "\u001b[1m> Finished chain.\u001b[0m\n",
      "1. What is the total quantity sold for each outlet in a specific year?\n",
      "2. How does the quantity sold in each outlet vary month by month?\n",
      "3. Can you provide the top outlets with the highest growth rate of quantity sold? <EOF>\n"
     ]
    }
   ],
   "source": [
    "response = location_agent.invoke(\n",
    "    \"\"\"\n",
    "    Generate only three additional prompts that could be asked to understand or analysis the data.\n",
    "        Output the three prompts in list format counting up from 1 (1. prompt\\n 2. prompt\\n 3. prompt\\n). \n",
    "        Generate only the prompts in the list, exclude their index.\n",
    "        End the response with <EOF>.\n",
    "        Do not respond with an empty result or say \"I don't know\".\n",
    "    \"\"\"\n",
    ")\n",
    "print(response['output'])"
   ]
  },
  {
   "cell_type": "code",
   "execution_count": 11,
   "metadata": {},
   "outputs": [
    {
     "data": {
      "text/plain": [
       "['1. What is the total quantity sold for each outlet in a specific year?',\n",
       " '2. How does the quantity sold in each outlet vary month by month?',\n",
       " '3. Can you provide the top outlets with the highest growth rate of quantity sold? ']"
      ]
     },
     "execution_count": 11,
     "metadata": {},
     "output_type": "execute_result"
    }
   ],
   "source": [
    "location_questions = response['output'].split('<EOF>')[0].split('\\n')[:3]\n",
    "location_questions"
   ]
  },
  {
   "cell_type": "code",
   "execution_count": 12,
   "metadata": {},
   "outputs": [],
   "source": [
    "# create location answer model\n",
    "location_query = create_sql_agent(analysis_llm, db=db, agent_type=\"tool-calling\")"
   ]
  },
  {
   "cell_type": "code",
   "execution_count": 13,
   "metadata": {},
   "outputs": [
    {
     "name": "stdout",
     "output_type": "stream",
     "text": [
      "1. What is the total quantity sold for each outlet in a specific year?\n",
      "2. How does the quantity sold in each outlet vary month by month?\n",
      "3. Can you provide the top outlets with the highest growth rate of quantity sold? \n"
     ]
    }
   ],
   "source": [
    "location_responses = []\n",
    "for question in location_questions:\n",
    "    print(question)\n",
    "    response = location_query.invoke(question + \"All prices are in IDR\")\n",
    "    location_responses.append(response['output'])\n"
   ]
  },
  {
   "cell_type": "code",
   "execution_count": 14,
   "metadata": {},
   "outputs": [
    {
     "name": "stdout",
     "output_type": "stream",
     "text": [
      "The total quantity sold for each outlet in the year 2024, in descending order, is as follows:\n",
      "\n",
      "1. Bekasi - Perjuangan: 39,876 units\n",
      "2. Jaksel - Pondok Indah: 14,574 units\n",
      "3. Cibubur: 14,186 units\n",
      "4. Jakut - Kelapa Gading: 10,761 units\n",
      "5. Jakbar - Taman Palem: 8,531 units\n",
      "6. Tangerang - Pisa Grande: 6,826 units\n",
      "7. Bandung: 2,264 units\n",
      "8. Ayam! Dapur Kitchen BKS: 1,929 units\n",
      "9. Ayam! RSIJ: 412 units\n",
      "10. Ayam! Libersa Park BKS: 347 units\n",
      "\n",
      "These are the total quantities sold for each outlet in the specified year.\n"
     ]
    }
   ],
   "source": [
    "print(location_responses[0])\n",
    "    "
   ]
  },
  {
   "cell_type": "code",
   "execution_count": 15,
   "metadata": {},
   "outputs": [
    {
     "name": "stdout",
     "output_type": "stream",
     "text": [
      "Here are some examples of how the quantity sold in each outlet varies month by month:\n",
      "\n",
      "1. Outlet: Ayam! Alun-Alun BKS, Month: March, Quantity Sold: 172\n",
      "2. Outlet: Ayam! Alun-Alun BKS, Month: April, Quantity Sold: 134\n",
      "3. Outlet: Ayam! Alun-Alun BKS, Month: May, Quantity Sold: 23\n",
      "4. Outlet: Ayam! Dapur Kitchen BKS, Month: January, Quantity Sold: 366\n",
      "5. Outlet: Ayam! Dapur Kitchen BKS, Month: February, Quantity Sold: 331\n",
      "6. Outlet: Ayam! Dapur Kitchen BKS, Month: March, Quantity Sold: 524\n",
      "7. Outlet: Ayam! Dapur Kitchen BKS, Month: April, Quantity Sold: 662\n",
      "8. Outlet: Ayam! Dapur Kitchen BKS, Month: May, Quantity Sold: 46\n",
      "9. Outlet: Ayam! Libersa Park BKS, Month: January, Quantity Sold: 121\n",
      "10. Outlet: Ayam! Libersa Park BKS, Month: February, Quantity Sold: 138\n",
      "\n",
      "These are just a few examples of how the quantity sold varies month by month for different outlets.\n"
     ]
    }
   ],
   "source": [
    "print(location_responses[1])\n"
   ]
  },
  {
   "cell_type": "code",
   "execution_count": 16,
   "metadata": {},
   "outputs": [
    {
     "name": "stdout",
     "output_type": "stream",
     "text": [
      "The top outlets with the highest growth rate of quantity sold are:\n",
      "\n",
      "1. Ayam! RSIJ - Growth Rate: 375.0\n",
      "2. Ayam! Dapur Kitchen BKS - Growth Rate: 58.31\n",
      "3. Jakbar - Taman Palem - Growth Rate: 40.56\n",
      "4. Jaksel - Pondok Indah - Growth Rate: 32.15\n",
      "5. Bandung - Growth Rate: 28.21\n",
      "6. Ayam! Dapur Kitchen BKS - Growth Rate: 26.34\n",
      "7. Cibubur - Growth Rate: 16.89\n",
      "8. Ayam! Libersa Park BKS - Growth Rate: 14.05\n",
      "9. Bekasi - Perjuangan - Growth Rate: 7.25\n",
      "10. Jakut - Kelapa Gading - Growth Rate: 6.36\n"
     ]
    }
   ],
   "source": [
    "print(location_responses[2])\n"
   ]
  },
  {
   "cell_type": "code",
   "execution_count": 17,
   "metadata": {},
   "outputs": [],
   "source": [
    "# Function to escape newlines\n",
    "def escape_newlines(text):\n",
    "    return text.replace('\\n', '\\\\n')\n",
    "\n",
    "with open('outputs/location.csv', 'w', newline='', encoding='utf-8') as fopen:\n",
    "    writer = csv.writer(fopen, quoting=csv.QUOTE_MINIMAL)\n",
    "    \n",
    "    # Write header if the file is empty\n",
    "    fopen.seek(0, os.SEEK_END)\n",
    "    if fopen.tell() == 0:\n",
    "        writer.writerow(['id', 'prompt', 'response'])\n",
    "\n",
    "    # Write each question and response to the CSV file\n",
    "    for idx in range(len(location_responses)):\n",
    "        writer.writerow(\n",
    "            [\n",
    "                idx + 1, \n",
    "                escape_newlines(location_questions[idx]), \n",
    "                escape_newlines(location_responses[idx])\n",
    "            ]\n",
    "        )"
   ]
  },
  {
   "cell_type": "markdown",
   "metadata": {},
   "source": [
    "# SALES"
   ]
  },
  {
   "cell_type": "markdown",
   "metadata": {},
   "source": [
    "## sales table"
   ]
  },
  {
   "cell_type": "code",
   "execution_count": 18,
   "metadata": {},
   "outputs": [],
   "source": [
    "# initialise sales tables\n",
    "from scripts.utils import generate_sales_table\n",
    "\n",
    "conn = sqlalchemy.create_engine('sqlite:////Users/davidrinaldi/Documents/Projects/myk-dashboard/dev/data/temp2.db')\n",
    "sales_df = generate_sales_table(iseller_data)\n",
    "sales_df.to_sql('sales', conn, if_exists='replace', index=False)\n",
    "db = SQLDatabase.from_uri(\"sqlite:///data/temp2.db\")"
   ]
  },
  {
   "cell_type": "code",
   "execution_count": 19,
   "metadata": {},
   "outputs": [],
   "source": [
    "sales_agent = create_sql_agent(query_llm, db=db, agent_type=\"openai-tools\", verbose=True)"
   ]
  },
  {
   "cell_type": "code",
   "execution_count": 20,
   "metadata": {},
   "outputs": [
    {
     "name": "stdout",
     "output_type": "stream",
     "text": [
      "\n",
      "\n",
      "\u001b[1m> Entering new SQL Agent Executor chain...\u001b[0m\n",
      "\u001b[32;1m\u001b[1;3m\n",
      "Invoking: `sql_db_list_tables` with `{}`\n",
      "\n",
      "\n",
      "\u001b[0m\u001b[38;5;200m\u001b[1;3msales\u001b[0m\u001b[32;1m\u001b[1;3m\n",
      "Invoking: `sql_db_schema` with `{'table_names': 'sales'}`\n",
      "\n",
      "\n",
      "\u001b[0m\u001b[33;1m\u001b[1;3m\n",
      "CREATE TABLE sales (\n",
      "\tclean_product_name TEXT, \n",
      "\tproduct_type TEXT, \n",
      "\ttotal_revenue BIGINT, \n",
      "\tcurrent_quarter_revenue FLOAT, \n",
      "\tlast_quarter_revenue FLOAT, \n",
      "\tcurrent_month_revenue FLOAT, \n",
      "\tlast_month_revenue FLOAT, \n",
      "\tquarterly_growth FLOAT, \n",
      "\tmonthly_growth FLOAT, \n",
      "\t\"quarter_Growth(%)\" FLOAT, \n",
      "\t\"Monthly_Growth(%)\" FLOAT\n",
      ")\n",
      "\n",
      "/*\n",
      "3 rows from sales table:\n",
      "clean_product_name\tproduct_type\ttotal_revenue\tcurrent_quarter_revenue\tlast_quarter_revenue\tcurrent_month_revenue\tlast_month_revenue\tquarterly_growth\tmonthly_growth\tquarter_Growth(%)\tMonthly_Growth(%)\n",
      "(es batu) crystalline cup\tREGULAR\t201033098\t55569433.0\t145463665.0\t10521000.0\t45048433.0\t-61.79840993281724\t-76.64513658000047\t-0.45\t-0.62\n",
      "a&w root beer kaleng\tREGULAR\t21235100\t5086300.0\t16148800.0\t89000.0\t4997300.0\t-68.50354205885267\t-98.21903828067157\t-0.52\t-0.97\n",
      "absolut vodka\tVODKA\t51599900\t18173000.0\t33426900.0\t2180000.0\t15993000.0\t-45.63360646664812\t-86.36903645344839\t-0.3\t-0.76\n",
      "*/\u001b[0m\u001b[32;1m\u001b[1;3m1. What is the distribution of product types in the sales data?\n",
      "2. How does the current quarter revenue compare to the last quarter revenue for different product types?\n",
      "3. What is the average monthly growth percentage across all products?  \n",
      "<EOF>\u001b[0m\n",
      "\n",
      "\u001b[1m> Finished chain.\u001b[0m\n",
      "1. What is the distribution of product types in the sales data?\n",
      "2. How does the current quarter revenue compare to the last quarter revenue for different product types?\n",
      "3. What is the average monthly growth percentage across all products?  \n",
      "<EOF>\n"
     ]
    }
   ],
   "source": [
    "response = sales_agent.invoke(\n",
    "    \"\"\"\n",
    "    Generate only three additional prompts that could be asked to understand or analysis the data.\n",
    "        Output the three prompts in list format counting up from 1 (1. prompt\\n 2. prompt\\n 3. prompt\\n). \n",
    "        Generate only the prompts in the list, exclude their index.\n",
    "        End the response with <EOF>.\n",
    "        Do not respond with an empty result or say \"I don't know\".\n",
    "    \"\"\"\n",
    ")\n",
    "print(response['output'])"
   ]
  },
  {
   "cell_type": "code",
   "execution_count": 21,
   "metadata": {},
   "outputs": [
    {
     "data": {
      "text/plain": [
       "['1. What is the distribution of product types in the sales data?',\n",
       " '2. How does the current quarter revenue compare to the last quarter revenue for different product types?',\n",
       " '3. What is the average monthly growth percentage across all products?  ']"
      ]
     },
     "execution_count": 21,
     "metadata": {},
     "output_type": "execute_result"
    }
   ],
   "source": [
    "sales_questions = response['output'].split('<EOF>')[0].split('\\n')[:3]\n",
    "sales_questions"
   ]
  },
  {
   "cell_type": "code",
   "execution_count": 22,
   "metadata": {},
   "outputs": [],
   "source": [
    "# create location answer model\n",
    "sales_query = create_sql_agent(analysis_llm, db=db, agent_type=\"tool-calling\")"
   ]
  },
  {
   "cell_type": "code",
   "execution_count": 23,
   "metadata": {},
   "outputs": [
    {
     "name": "stdout",
     "output_type": "stream",
     "text": [
      "1. What is the distribution of product types in the sales data?\n",
      "2. How does the current quarter revenue compare to the last quarter revenue for different product types?\n",
      "3. What is the average monthly growth percentage across all products?  \n"
     ]
    }
   ],
   "source": [
    "sales_responses = []\n",
    "for question in sales_questions:\n",
    "    print(question)\n",
    "    response = sales_query.invoke(question + \"All prices are in IDR\")\n",
    "    sales_responses.append(response['output'])"
   ]
  },
  {
   "cell_type": "code",
   "execution_count": 24,
   "metadata": {},
   "outputs": [
    {
     "name": "stdout",
     "output_type": "stream",
     "text": [
      "The distribution of product types in the sales data is as follows:\n",
      "\n",
      "- ANGGUR: 19\n",
      "- BEER: 61\n",
      "- COGNAC: 5\n",
      "- EMBALASE: 2\n",
      "- FOOD: 46\n",
      "- FREE: 1\n",
      "- GIN: 11\n",
      "- LIQUOR: 46\n",
      "- MAKGEOLLI: 5\n",
      "- MERCHANDISE: 12\n",
      "- MEZCAL: 1\n",
      "- REGULAR: 31\n",
      "- ROKOK: 8\n",
      "- RUM: 14\n",
      "- SOJU: 76\n",
      "- SPIRIT: 9\n",
      "- TEQUILA: 1\n",
      "- VAPE: 4\n",
      "- VODKA: 34\n",
      "- WHISKY: 45\n",
      "- WINE: 106\n"
     ]
    }
   ],
   "source": [
    "print(sales_responses[0])"
   ]
  },
  {
   "cell_type": "code",
   "execution_count": 25,
   "metadata": {},
   "outputs": [
    {
     "name": "stdout",
     "output_type": "stream",
     "text": [
      "The current quarter revenue compared to the last quarter revenue for different product types are as follows:\n",
      "\n",
      "1. Product Type: REGULAR\n",
      "   - Current Quarter Revenue: 55,569,433 IDR\n",
      "   - Last Quarter Revenue: 145,463,665 IDR\n",
      "\n",
      "2. Product Type: REGULAR\n",
      "   - Current Quarter Revenue: 5,086,300 IDR\n",
      "   - Last Quarter Revenue: 16,148,800 IDR\n",
      "\n",
      "3. Product Type: VODKA\n",
      "   - Current Quarter Revenue: 18,173,000 IDR\n",
      "   - Last Quarter Revenue: 33,426,900 IDR\n",
      "\n",
      "4. Product Type: ANGGUR\n",
      "   - Current Quarter Revenue: 40,367,800 IDR\n",
      "   - Last Quarter Revenue: 142,327,100 IDR\n",
      "\n",
      "5. Product Type: ANGGUR\n",
      "   - Current Quarter Revenue: 18,252,100 IDR\n",
      "   - Last Quarter Revenue: 52,550,000 IDR\n",
      "\n",
      "6. Product Type: VODKA\n",
      "   - Current Quarter Revenue: 3,418,800 IDR\n",
      "   - Last Quarter Revenue: 2,600,100 IDR\n",
      "\n",
      "7. Product Type: VODKA\n",
      "   - Current Quarter Revenue: 2,655,000 IDR\n",
      "   - Last Quarter Revenue: 5,478,800 IDR\n",
      "\n",
      "8. Product Type: SOJU\n",
      "   - Current Quarter Revenue: 12,978,100 IDR\n",
      "   - Last Quarter Revenue: 24,177,000 IDR\n",
      "\n",
      "9. Product Type: SOJU\n",
      "   - Current Quarter Revenue: 18,335,500 IDR\n",
      "   - Last Quarter Revenue: 31,527,300 IDR\n",
      "\n",
      "10. Product Type: SOJU\n",
      "    - Current Quarter Revenue: 22,085,000 IDR\n",
      "    - Last Quarter Revenue: 18,319,200 IDR\n",
      "\n",
      "These are the comparisons of current quarter revenue to last quarter revenue for different product types in IDR.\n"
     ]
    }
   ],
   "source": [
    "print(sales_responses[1])"
   ]
  },
  {
   "cell_type": "code",
   "execution_count": 26,
   "metadata": {},
   "outputs": [
    {
     "name": "stdout",
     "output_type": "stream",
     "text": [
      "I'm sorry, but it seems there was an issue with retrieving the average monthly growth percentage across all products. The query did not return any results.\n"
     ]
    }
   ],
   "source": [
    "print(sales_responses[2])"
   ]
  },
  {
   "cell_type": "code",
   "execution_count": 27,
   "metadata": {},
   "outputs": [],
   "source": [
    "# Function to escape newlines\n",
    "def escape_newlines(text):\n",
    "    return text.replace('\\n', '\\\\n')\n",
    "\n",
    "with open('outputs/sales.csv', 'w', newline='', encoding='utf-8') as fopen:\n",
    "    writer = csv.writer(fopen, quoting=csv.QUOTE_MINIMAL)\n",
    "    \n",
    "    # Write header if the file is empty\n",
    "    fopen.seek(0, os.SEEK_END)\n",
    "    if fopen.tell() == 0:\n",
    "        writer.writerow(['id', 'prompt', 'response'])\n",
    "\n",
    "    # Write each question and response to the CSV file\n",
    "    for idx in range(len(location_responses)):\n",
    "        writer.writerow(\n",
    "            [\n",
    "                idx + 1, \n",
    "                escape_newlines(sales_questions[idx]), \n",
    "                escape_newlines(sales_responses[idx])\n",
    "            ]\n",
    "        )"
   ]
  },
  {
   "cell_type": "markdown",
   "metadata": {},
   "source": [
    "## top product by profit"
   ]
  },
  {
   "cell_type": "code",
   "execution_count": 31,
   "metadata": {},
   "outputs": [],
   "source": [
    "# Top Product by profit\n",
    "product_quantity = iseller_data.groupby(['year', 'month', 'week', 'day_name', 'day_of_week_num', 'clean_product_name'])['profit'].sum().reset_index()\\\n",
    "        .sort_values(by='profit', ascending=False)"
   ]
  },
  {
   "cell_type": "code",
   "execution_count": 32,
   "metadata": {},
   "outputs": [],
   "source": [
    "conn = sqlalchemy.create_engine('sqlite:////Users/davidrinaldi/Documents/Projects/myk-dashboard/dev/data/temp7.db')\n",
    "product_quantity.to_sql('top_product_by_profit', conn, if_exists='replace', index=False)\n",
    "db = SQLDatabase.from_uri(\"sqlite:///data/temp7.db\")"
   ]
  },
  {
   "cell_type": "code",
   "execution_count": 33,
   "metadata": {},
   "outputs": [],
   "source": [
    "product_quantity_agent = create_sql_agent(query_llm, db=db, agent_type=\"openai-tools\", verbose=True)"
   ]
  },
  {
   "cell_type": "code",
   "execution_count": 34,
   "metadata": {},
   "outputs": [
    {
     "name": "stdout",
     "output_type": "stream",
     "text": [
      "\n",
      "\n",
      "\u001b[1m> Entering new SQL Agent Executor chain...\u001b[0m\n",
      "\u001b[32;1m\u001b[1;3m\n",
      "Invoking: `sql_db_list_tables` with `{}`\n",
      "\n",
      "\n",
      "\u001b[0m\u001b[38;5;200m\u001b[1;3mtop_product_by_profit\u001b[0m\u001b[32;1m\u001b[1;3m\n",
      "Invoking: `sql_db_schema` with `{'table_names': 'top_product_by_profit'}`\n",
      "\n",
      "\n",
      "\u001b[0m\u001b[33;1m\u001b[1;3m\n",
      "CREATE TABLE top_product_by_profit (\n",
      "\tyear INTEGER, \n",
      "\tmonth INTEGER, \n",
      "\tweek BIGINT, \n",
      "\tday_name TEXT, \n",
      "\tday_of_week_num INTEGER, \n",
      "\tclean_product_name TEXT, \n",
      "\tprofit FLOAT\n",
      ")\n",
      "\n",
      "/*\n",
      "3 rows from top_product_by_profit table:\n",
      "year\tmonth\tweek\tday_name\tday_of_week_num\tclean_product_name\tprofit\n",
      "2024\t2\t5\tFriday\t4\tbintang botol\t18341206.0\n",
      "2024\t1\t2\tFriday\t4\thappy soju original\t17331836.0\n",
      "2024\t1\t2\tFriday\t4\twija soju lychee\t15659100.0\n",
      "*/\u001b[0m\u001b[32;1m\u001b[1;3m1. What are the top products with the highest profits in each week?\n",
      "2. How do the profits of different products vary across different days of the week?\n",
      "3. Can we identify any seasonal trends in product profits based on the month and year data?\n",
      "<EOF>\u001b[0m\n",
      "\n",
      "\u001b[1m> Finished chain.\u001b[0m\n",
      "1. What are the top products with the highest profits in each week?\n",
      "2. How do the profits of different products vary across different days of the week?\n",
      "3. Can we identify any seasonal trends in product profits based on the month and year data?\n",
      "<EOF>\n"
     ]
    }
   ],
   "source": [
    "response = product_quantity_agent.invoke(\n",
    "    \"\"\"\n",
    "    Generate only three additional prompts that could be asked to understand or analysis the data.\n",
    "        Output the three prompts in list format counting up from 1 (1. prompt\\n 2. prompt\\n 3. prompt\\n). \n",
    "        Generate only the prompts in the list, exclude their index.\n",
    "        End the response with <EOF>.\n",
    "        Do not respond with an empty result or say \"I don't know\".\n",
    "    \"\"\"\n",
    ")\n",
    "print(response['output'])"
   ]
  },
  {
   "cell_type": "code",
   "execution_count": 35,
   "metadata": {},
   "outputs": [
    {
     "data": {
      "text/plain": [
       "['1. What are the top products with the highest profits in each week?',\n",
       " '2. How do the profits of different products vary across different days of the week?',\n",
       " '3. Can we identify any seasonal trends in product profits based on the month and year data?']"
      ]
     },
     "execution_count": 35,
     "metadata": {},
     "output_type": "execute_result"
    }
   ],
   "source": [
    "pq_questions = response['output'].split('<EOF>')[0].split('\\n')[:3]\n",
    "pq_questions"
   ]
  },
  {
   "cell_type": "code",
   "execution_count": 36,
   "metadata": {},
   "outputs": [],
   "source": [
    "# create location answer model\n",
    "pq_query = create_sql_agent(analysis_llm, db=db, agent_type=\"tool-calling\")"
   ]
  },
  {
   "cell_type": "code",
   "execution_count": 37,
   "metadata": {},
   "outputs": [
    {
     "name": "stdout",
     "output_type": "stream",
     "text": [
      "1. What are the top products with the highest profits in each week?\n",
      "2. How do the profits of different products vary across different days of the week?\n",
      "3. Can we identify any seasonal trends in product profits based on the month and year data?\n"
     ]
    }
   ],
   "source": [
    "import random\n",
    "\n",
    "pq_responses = []\n",
    "questions = ['What is the correlation between external events (such as holidays, festivals, or economic changes) and monthly sales patterns? (Move to forecasting)', 'Are there any emerging trends or shifts in consumer preferences over the months and years?', 'How does the performance of different products compare across the same time periods (e.g., year-over-year comparisons for the same month)?']\n",
    "for question in pq_questions:\n",
    "    try:\n",
    "        print(question)\n",
    "        response = pq_query.invoke(question + \"All prices are in IDR\")\n",
    "        pq_responses.append(response['output'])\n",
    "    except:\n",
    "        question = random.choice(questions)\n",
    "        print(question)\n",
    "        response = pq_query.invoke(question + \"All prices are in IDR\")\n",
    "        pq_responses.append(response['output'])\n",
    "        "
   ]
  },
  {
   "cell_type": "code",
   "execution_count": 38,
   "metadata": {},
   "outputs": [
    {
     "name": "stdout",
     "output_type": "stream",
     "text": [
      "The query results show the top products with the highest profits in each week:\n",
      "- Week 1: \n",
      "  - Product: kawa kawa anggur hijau\n",
      "  - Profit: 7,761,904 IDR\n",
      "\n",
      "Please note that the results are limited to the top 10 products with the highest profits in each week. If you would like to see more results or for a specific week, feel free to let me know!\n"
     ]
    }
   ],
   "source": [
    "print(pq_responses[0])"
   ]
  },
  {
   "cell_type": "code",
   "execution_count": 39,
   "metadata": {},
   "outputs": [
    {
     "name": "stdout",
     "output_type": "stream",
     "text": [
      "The profits of different products vary across different days of the week. Here are the top 10 products with their profits on different days:\n",
      "\n",
      "1. On Friday, the product \"bintang botol\" has a profit of 18,341,206 IDR.\n",
      "2. On Friday, the product \"happy soju original\" has a profit of 17,331,836 IDR.\n",
      "3. On Friday, the product \"wija soju lychee\" has a profit of 15,659,100 IDR.\n",
      "4. On Friday, the product \"anggur merah gold\" has a profit of 12,750,050 IDR.\n",
      "5. On Saturday, the product \"kawa kawa anggur hijau\" has a profit of 11,733,007 IDR.\n",
      "6. On Tuesday, the product \"kawa kawa anggur hijau\" has a profit of 11,724,227 IDR.\n",
      "7. On Friday, the product \"jameson\" has a profit of 11,333,299 IDR.\n",
      "8. On Friday, the product \"anggur merah\" has a profit of 11,245,250 IDR.\n",
      "9. On Friday, the product \"happy soju lychee\" has a profit of 11,145,636 IDR.\n",
      "10. On Saturday, the product \"api anggur hijau\" has a profit of 11,049,500 IDR.\n"
     ]
    }
   ],
   "source": [
    "print(pq_responses[1])"
   ]
  },
  {
   "cell_type": "code",
   "execution_count": 40,
   "metadata": {},
   "outputs": [
    {
     "name": "stdout",
     "output_type": "stream",
     "text": [
      "Based on the data from the \"top_product_by_profit\" table, here are the total profits for each month in the year 2024:\n",
      "\n",
      "- January 2024: IDR 2,643,294,790.12\n",
      "- February 2024: IDR 2,899,852,576.48\n",
      "- March 2024: IDR 2,111,684,501.98\n",
      "- April 2024: IDR 2,115,140,338.01\n",
      "- May 2024: IDR 687,248,785.00\n",
      "\n",
      "It seems that there are fluctuations in profits across different months in the year 2024.\n"
     ]
    }
   ],
   "source": [
    "print(pq_responses[2])"
   ]
  },
  {
   "cell_type": "code",
   "execution_count": 41,
   "metadata": {},
   "outputs": [],
   "source": [
    "# Function to escape newlines\n",
    "def escape_newlines(text):\n",
    "    return text.replace('\\n', '\\\\n')\n",
    "\n",
    "with open('outputs/pq.csv', 'w', newline='', encoding='utf-8') as fopen:\n",
    "    writer = csv.writer(fopen, quoting=csv.QUOTE_MINIMAL)\n",
    "    \n",
    "    # Write header if the file is empty\n",
    "    fopen.seek(0, os.SEEK_END)\n",
    "    if fopen.tell() == 0:\n",
    "        writer.writerow(['id', 'prompt', 'response'])\n",
    "\n",
    "    # Write each question and response to the CSV file\n",
    "    for idx in range(len(pq_responses)):\n",
    "        writer.writerow(\n",
    "            [\n",
    "                idx + 1, \n",
    "                escape_newlines(pq_questions[idx]), \n",
    "                escape_newlines(pq_responses[idx])\n",
    "            ]\n",
    "        )"
   ]
  },
  {
   "cell_type": "markdown",
   "metadata": {},
   "source": [
    "## Top Product by Quantity Sold"
   ]
  },
  {
   "cell_type": "code",
   "execution_count": 28,
   "metadata": {},
   "outputs": [
    {
     "data": {
      "text/html": [
       "<div>\n",
       "<style scoped>\n",
       "    .dataframe tbody tr th:only-of-type {\n",
       "        vertical-align: middle;\n",
       "    }\n",
       "\n",
       "    .dataframe tbody tr th {\n",
       "        vertical-align: top;\n",
       "    }\n",
       "\n",
       "    .dataframe thead th {\n",
       "        text-align: right;\n",
       "    }\n",
       "</style>\n",
       "<table border=\"1\" class=\"dataframe\">\n",
       "  <thead>\n",
       "    <tr style=\"text-align: right;\">\n",
       "      <th></th>\n",
       "      <th>clean_product_name</th>\n",
       "      <th>year</th>\n",
       "      <th>month</th>\n",
       "      <th>week</th>\n",
       "      <th>total_amount</th>\n",
       "      <th>quantity</th>\n",
       "    </tr>\n",
       "  </thead>\n",
       "  <tbody>\n",
       "    <tr>\n",
       "      <th>3595</th>\n",
       "      <td>kawa kawa anggur hijau</td>\n",
       "      <td>2024</td>\n",
       "      <td>1</td>\n",
       "      <td>1</td>\n",
       "      <td>140173.195980</td>\n",
       "      <td>557</td>\n",
       "    </tr>\n",
       "    <tr>\n",
       "      <th>340</th>\n",
       "      <td>anggur merah gold</td>\n",
       "      <td>2024</td>\n",
       "      <td>1</td>\n",
       "      <td>1</td>\n",
       "      <td>131484.556314</td>\n",
       "      <td>395</td>\n",
       "    </tr>\n",
       "    <tr>\n",
       "      <th>457</th>\n",
       "      <td>api anggur hijau</td>\n",
       "      <td>2024</td>\n",
       "      <td>1</td>\n",
       "      <td>1</td>\n",
       "      <td>164322.362245</td>\n",
       "      <td>292</td>\n",
       "    </tr>\n",
       "    <tr>\n",
       "      <th>296</th>\n",
       "      <td>anggur merah</td>\n",
       "      <td>2024</td>\n",
       "      <td>1</td>\n",
       "      <td>1</td>\n",
       "      <td>118656.692308</td>\n",
       "      <td>231</td>\n",
       "    </tr>\n",
       "    <tr>\n",
       "      <th>1125</th>\n",
       "      <td>bintang kaleng</td>\n",
       "      <td>2024</td>\n",
       "      <td>1</td>\n",
       "      <td>1</td>\n",
       "      <td>222735.696429</td>\n",
       "      <td>224</td>\n",
       "    </tr>\n",
       "  </tbody>\n",
       "</table>\n",
       "</div>"
      ],
      "text/plain": [
       "          clean_product_name  year  month  week   total_amount  quantity\n",
       "3595  kawa kawa anggur hijau  2024      1     1  140173.195980       557\n",
       "340        anggur merah gold  2024      1     1  131484.556314       395\n",
       "457         api anggur hijau  2024      1     1  164322.362245       292\n",
       "296             anggur merah  2024      1     1  118656.692308       231\n",
       "1125          bintang kaleng  2024      1     1  222735.696429       224"
      ]
     },
     "execution_count": 28,
     "metadata": {},
     "output_type": "execute_result"
    }
   ],
   "source": [
    "# Top Product by Quantity Sold\n",
    "tpqs = iseller_data.groupby(['clean_product_name', 'year', 'month', 'week']).agg({'total_amount': 'mean', 'quantity': 'sum'}).reset_index()\\\n",
    "        .sort_values(by='quantity', ascending=False).sort_values(by=[\"year\", \"month\", \"week\"])\n",
    "tpqs.head()"
   ]
  },
  {
   "cell_type": "code",
   "execution_count": 29,
   "metadata": {},
   "outputs": [],
   "source": [
    "conn = sqlalchemy.create_engine('sqlite:////Users/davidrinaldi/Documents/Projects/myk-dashboard/dev/data/temp3.db')\n",
    "tpqs.to_sql('top_product_by_quantity_sold', conn, if_exists='replace', index=False)\n",
    "db = SQLDatabase.from_uri(\"sqlite:///data/temp3.db\")"
   ]
  },
  {
   "cell_type": "code",
   "execution_count": 30,
   "metadata": {},
   "outputs": [],
   "source": [
    "tpqs_agent = create_sql_agent(query_llm, db=db, agent_type=\"openai-tools\", verbose=True)"
   ]
  },
  {
   "cell_type": "code",
   "execution_count": 31,
   "metadata": {},
   "outputs": [
    {
     "name": "stdout",
     "output_type": "stream",
     "text": [
      "\n",
      "\n",
      "\u001b[1m> Entering new SQL Agent Executor chain...\u001b[0m\n",
      "\u001b[32;1m\u001b[1;3m\n",
      "Invoking: `sql_db_list_tables` with `{}`\n",
      "\n",
      "\n",
      "\u001b[0m\u001b[38;5;200m\u001b[1;3mtop_product_by_quantity_sold\u001b[0m\u001b[32;1m\u001b[1;3m\n",
      "Invoking: `sql_db_schema` with `{'table_names': 'top_product_by_quantity_sold'}`\n",
      "\n",
      "\n",
      "\u001b[0m\u001b[33;1m\u001b[1;3m\n",
      "CREATE TABLE top_product_by_quantity_sold (\n",
      "\tclean_product_name TEXT, \n",
      "\tyear BIGINT, \n",
      "\tmonth BIGINT, \n",
      "\tweek BIGINT, \n",
      "\ttotal_amount FLOAT, \n",
      "\tquantity BIGINT\n",
      ")\n",
      "\n",
      "/*\n",
      "3 rows from top_product_by_quantity_sold table:\n",
      "clean_product_name\tyear\tmonth\tweek\ttotal_amount\tquantity\n",
      "kawa kawa anggur hijau\t2024\t1\t1\t140173.1959798995\t557\n",
      "anggur merah gold\t2024\t1\t1\t131484.55631399318\t395\n",
      "api anggur hijau\t2024\t1\t1\t164322.36224489796\t292\n",
      "*/\u001b[0m\u001b[32;1m\u001b[1;3m1. What are the top selling products based on total amount sold in a specific year?\n",
      "2. How does the quantity of products sold vary across different months and weeks?\n",
      "3. Can we identify any trends in the sales of specific product categories over the years?\n",
      "<EOF>\u001b[0m\n",
      "\n",
      "\u001b[1m> Finished chain.\u001b[0m\n",
      "1. What are the top selling products based on total amount sold in a specific year?\n",
      "2. How does the quantity of products sold vary across different months and weeks?\n",
      "3. Can we identify any trends in the sales of specific product categories over the years?\n",
      "<EOF>\n"
     ]
    }
   ],
   "source": [
    "response = tpqs_agent.invoke(\n",
    "    \"\"\"\n",
    "    Generate only three additional prompts that could be asked to understand or analysis the data.\n",
    "        Output the three prompts in list format counting up from 1 (1. prompt\\n 2. prompt\\n 3. prompt\\n). \n",
    "        Generate only the prompts in the list, exclude their index.\n",
    "        End the response with <EOF>.\n",
    "        Do not respond with an empty result or say \"I don't know\".\n",
    "    \"\"\"\n",
    ")\n",
    "print(response['output'])"
   ]
  },
  {
   "cell_type": "code",
   "execution_count": 32,
   "metadata": {},
   "outputs": [
    {
     "data": {
      "text/plain": [
       "['1. What are the top selling products based on total amount sold in a specific year?',\n",
       " '2. How does the quantity of products sold vary across different months and weeks?',\n",
       " '3. Can we identify any trends in the sales of specific product categories over the years?']"
      ]
     },
     "execution_count": 32,
     "metadata": {},
     "output_type": "execute_result"
    }
   ],
   "source": [
    "tpqs_questions = response['output'].split('<EOF>')[0].split('\\n')[:3]\n",
    "tpqs_questions"
   ]
  },
  {
   "cell_type": "code",
   "execution_count": 33,
   "metadata": {},
   "outputs": [],
   "source": [
    "# create location answer model\n",
    "tpqs_query = create_sql_agent(analysis_llm, db=db, agent_type=\"tool-calling\")"
   ]
  },
  {
   "cell_type": "code",
   "execution_count": 34,
   "metadata": {},
   "outputs": [
    {
     "name": "stdout",
     "output_type": "stream",
     "text": [
      "1. What are the top selling products based on total amount sold in a specific year?\n",
      "2. How does the quantity of products sold vary across different months and weeks?\n",
      "3. Can we identify any trends in the sales of specific product categories over the years?\n"
     ]
    }
   ],
   "source": [
    "tpqs_responses = []\n",
    "for question in tpqs_questions:\n",
    "    print(question)\n",
    "    response = tpqs_query.invoke(question + \"All prices are in IDR\")\n",
    "    tpqs_responses.append(response['output'])"
   ]
  },
  {
   "cell_type": "code",
   "execution_count": 35,
   "metadata": {},
   "outputs": [
    {
     "name": "stdout",
     "output_type": "stream",
     "text": [
      "The top selling products based on total amount sold in the year 2024 are as follows (in IDR):\n",
      "1. Hibiki Japanese Harmony - 5,377,000\n",
      "2. Hibiki Japanese Harmony - 4,887,000\n",
      "3. Nikka Whisky from the Barrel Japanese Whisky - 4,545,016\n",
      "4. Ballantines Blended Scotch Whisky - 4,545,016\n",
      "5. Jack Daniel's No.7 - 4,259,000\n",
      "6. Hennessy VSOP - 4,196,000\n",
      "7. Monkey Shoulder - 3,947,000\n",
      "8. Sababay Mascetti - 3,944,000\n",
      "9. Roku Gin - 3,937,000\n",
      "10. Martell VSOP - 3,832,488\n"
     ]
    }
   ],
   "source": [
    "print(tpqs_responses[0])"
   ]
  },
  {
   "cell_type": "code",
   "execution_count": 36,
   "metadata": {},
   "outputs": [
    {
     "name": "stdout",
     "output_type": "stream",
     "text": [
      "The query results show the total quantity of products sold across different months and weeks:\n",
      "\n",
      "- In month 1, week 1: 6597 products sold\n",
      "- In month 1, week 2: 6022 products sold\n",
      "- In month 1, week 3: 6099 products sold\n",
      "- In month 1, week 4: 6025 products sold\n",
      "- In month 1, week 5: 2134 products sold\n",
      "- In month 2, week 5: 4417 products sold\n",
      "- In month 2, week 6: 7422 products sold\n",
      "- In month 2, week 7: 5808 products sold\n",
      "- In month 2, week 8: 5497 products sold\n",
      "- In month 2, week 9: 2347 products sold\n",
      "\n",
      "This information provides an overview of how the quantity of products sold varies across different months and weeks.\n"
     ]
    }
   ],
   "source": [
    "print(tpqs_responses[1])"
   ]
  },
  {
   "cell_type": "code",
   "execution_count": 37,
   "metadata": {},
   "outputs": [
    {
     "name": "stdout",
     "output_type": "stream",
     "text": [
      "Based on the sales data from the \"top_product_by_quantity_sold\" table, we can identify trends in the sales of specific product categories over the year 2024. Here are some examples of total sales for different product categories in IDR:\n",
      "\n",
      "1. Chivas 12yo - Total Sales in 2024: 22,505,771.37 IDR\n",
      "2. Bombay Sapphire - Total Sales in 2024: 12,256,864.08 IDR\n",
      "3. Hennessy VSOP - Total Sales in 2024: 35,864,390.67 IDR\n",
      "4. Grey Goose - Total Sales in 2024: 21,013,684.14 IDR\n",
      "5. Jack Daniel's No.7 - Total Sales in 2024: 17,077,432.33 IDR\n",
      "\n",
      "These examples show the total sales for specific product categories in IDR for the year 2024.\n"
     ]
    }
   ],
   "source": [
    "print(tpqs_responses[2])"
   ]
  },
  {
   "cell_type": "code",
   "execution_count": 38,
   "metadata": {},
   "outputs": [],
   "source": [
    "# Function to escape newlines\n",
    "def escape_newlines(text):\n",
    "    return text.replace('\\n', '\\\\n')\n",
    "\n",
    "with open('outputs/tpqs.csv', 'w', newline='', encoding='utf-8') as fopen:\n",
    "    writer = csv.writer(fopen, quoting=csv.QUOTE_MINIMAL)\n",
    "    \n",
    "    # Write header if the file is empty\n",
    "    fopen.seek(0, os.SEEK_END)\n",
    "    if fopen.tell() == 0:\n",
    "        writer.writerow(['id', 'prompt', 'response'])\n",
    "\n",
    "    # Write each question and response to the CSV file\n",
    "    for idx in range(len(tpqs_responses)):\n",
    "        writer.writerow(\n",
    "            [\n",
    "                idx + 1, \n",
    "                escape_newlines(tpqs_questions[idx]), \n",
    "                escape_newlines(tpqs_responses[idx])\n",
    "            ]\n",
    "        )"
   ]
  },
  {
   "cell_type": "markdown",
   "metadata": {},
   "source": [
    "## top product by category sold"
   ]
  },
  {
   "cell_type": "code",
   "execution_count": 39,
   "metadata": {},
   "outputs": [],
   "source": [
    "# Top Product by Category Sold\n",
    "# Get average price of category too \n",
    "\n",
    "tpcs = iseller_data.groupby(['product_type',  'year', 'month', 'week']).agg({'total_amount': 'mean', 'quantity': 'sum'}).reset_index()\\\n",
    "        .sort_values(by='quantity', ascending=False).sort_values(by=[\"year\", \"month\", \"week\"])"
   ]
  },
  {
   "cell_type": "code",
   "execution_count": 40,
   "metadata": {},
   "outputs": [],
   "source": [
    "conn = sqlalchemy.create_engine('sqlite:////Users/davidrinaldi/Documents/Projects/myk-dashboard/dev/data/temp4.db')\n",
    "tpqs.to_sql('top_product_by_category_sold', conn, if_exists='replace', index=False)\n",
    "db = SQLDatabase.from_uri(\"sqlite:///data/temp4.db\")"
   ]
  },
  {
   "cell_type": "code",
   "execution_count": 41,
   "metadata": {},
   "outputs": [],
   "source": [
    "tpcs_agent = create_sql_agent(query_llm, db=db, agent_type=\"openai-tools\", verbose=True)"
   ]
  },
  {
   "cell_type": "code",
   "execution_count": 42,
   "metadata": {},
   "outputs": [
    {
     "name": "stdout",
     "output_type": "stream",
     "text": [
      "\n",
      "\n",
      "\u001b[1m> Entering new SQL Agent Executor chain...\u001b[0m\n",
      "\u001b[32;1m\u001b[1;3m\n",
      "Invoking: `sql_db_list_tables` with `{}`\n",
      "\n",
      "\n",
      "\u001b[0m\u001b[38;5;200m\u001b[1;3mtop_product_by_category_sold\u001b[0m\u001b[32;1m\u001b[1;3m\n",
      "Invoking: `sql_db_schema` with `{'table_names': 'top_product_by_category_sold'}`\n",
      "\n",
      "\n",
      "\u001b[0m\u001b[33;1m\u001b[1;3m\n",
      "CREATE TABLE top_product_by_category_sold (\n",
      "\tclean_product_name TEXT, \n",
      "\tyear BIGINT, \n",
      "\tmonth BIGINT, \n",
      "\tweek BIGINT, \n",
      "\ttotal_amount FLOAT, \n",
      "\tquantity BIGINT\n",
      ")\n",
      "\n",
      "/*\n",
      "3 rows from top_product_by_category_sold table:\n",
      "clean_product_name\tyear\tmonth\tweek\ttotal_amount\tquantity\n",
      "kawa kawa anggur hijau\t2024\t1\t1\t140173.1959798995\t557\n",
      "anggur merah gold\t2024\t1\t1\t131484.55631399318\t395\n",
      "api anggur hijau\t2024\t1\t1\t164322.36224489796\t292\n",
      "*/\u001b[0m\u001b[32;1m\u001b[1;3m- What are the top-selling products by category for the current year?\n",
      "- How do the sales quantities vary by month for the top products?\n",
      "- Is there a correlation between total sales amount and quantity sold for the top products?\n",
      "<EOF>\u001b[0m\n",
      "\n",
      "\u001b[1m> Finished chain.\u001b[0m\n",
      "- What are the top-selling products by category for the current year?\n",
      "- How do the sales quantities vary by month for the top products?\n",
      "- Is there a correlation between total sales amount and quantity sold for the top products?\n",
      "<EOF>\n"
     ]
    }
   ],
   "source": [
    "response = tpcs_agent.invoke(\n",
    "    \"\"\"\n",
    "    Generate only three additional prompts that could be asked to understand or analysis the data.\n",
    "        Output the three prompts in list format counting up from 1 (1. prompt\\n 2. prompt\\n 3. prompt\\n). \n",
    "        Generate only the prompts in the list, exclude their index.\n",
    "        End the response with <EOF>.\n",
    "        Do not respond with an empty result or say \"I don't know\".\n",
    "    \"\"\"\n",
    ")\n",
    "print(response['output'])"
   ]
  },
  {
   "cell_type": "code",
   "execution_count": 43,
   "metadata": {},
   "outputs": [
    {
     "data": {
      "text/plain": [
       "['- What are the top-selling products by category for the current year?',\n",
       " '- How do the sales quantities vary by month for the top products?',\n",
       " '- Is there a correlation between total sales amount and quantity sold for the top products?']"
      ]
     },
     "execution_count": 43,
     "metadata": {},
     "output_type": "execute_result"
    }
   ],
   "source": [
    "tpcs_questions = response['output'].split('<EOF>')[0].split('\\n')[:3]\n",
    "tpcs_questions"
   ]
  },
  {
   "cell_type": "code",
   "execution_count": 44,
   "metadata": {},
   "outputs": [],
   "source": [
    "# create location answer model\n",
    "tpcs_query = create_sql_agent(analysis_llm, db=db, agent_type=\"tool-calling\")"
   ]
  },
  {
   "cell_type": "code",
   "execution_count": 45,
   "metadata": {},
   "outputs": [
    {
     "name": "stdout",
     "output_type": "stream",
     "text": [
      "- What are the top-selling products by category for the current year?\n",
      "- How do the sales quantities vary by month for the top products?\n",
      "- Is there a correlation between total sales amount and quantity sold for the top products?\n"
     ]
    }
   ],
   "source": [
    "tpcs_responses = []\n",
    "for question in tpcs_questions:\n",
    "    print(question)\n",
    "    response = tpcs_query.invoke(question + \"All prices are in IDR\")\n",
    "    tpcs_responses.append(response['output'])"
   ]
  },
  {
   "cell_type": "code",
   "execution_count": 46,
   "metadata": {},
   "outputs": [
    {
     "name": "stdout",
     "output_type": "stream",
     "text": [
      "The top-selling products by category for the current year (2024) are as follows (in IDR):\n",
      "1. Product: Hibiki Japanese Harmony, Total Amount: 5,377,000, Quantity: 1\n",
      "2. Product: Hibiki Japanese Harmony, Total Amount: 4,887,000, Quantity: 2\n",
      "3. Product: Nikka Whisky from the Barrel Japanese Whisky, Total Amount: 4,545,016, Quantity: 1\n",
      "4. Product: Ballantines Blended Scotch Whisky, Total Amount: 4,545,016, Quantity: 1\n",
      "5. Product: Jack Daniel's No.7, Total Amount: 4,259,000, Quantity: 1\n",
      "6. Product: Hennessy VSOP, Total Amount: 4,196,000, Quantity: 4\n",
      "7. Product: Monkey Shoulder, Total Amount: 3,947,000, Quantity: 2\n",
      "8. Product: Sababay Mascetti, Total Amount: 3,944,000, Quantity: 4\n",
      "9. Product: Roku Gin, Total Amount: 3,937,000, Quantity: 1\n",
      "10. Product: Martell VSOP, Total Amount: 3,832,488, Quantity: 6\n"
     ]
    }
   ],
   "source": [
    "print(tpcs_responses[0])"
   ]
  },
  {
   "cell_type": "code",
   "execution_count": 47,
   "metadata": {},
   "outputs": [
    {
     "name": "stdout",
     "output_type": "stream",
     "text": [
      "The top products with the highest sales quantities by month are as follows:\n",
      "\n",
      "1. Product: kawa kawa anggur hijau, Month: 3, Quantity: 624\n",
      "2. Product: kawa kawa anggur hijau, Month: 1, Quantity: 557\n",
      "3. Product: kawa kawa anggur hijau, Month: 2, Quantity: 534\n",
      "4. Product: kawa kawa anggur hijau, Month: 2, Quantity: 520\n",
      "5. Product: kawa kawa anggur hijau, Month: 4, Quantity: 455\n",
      "6. Product: (es batu) crystalline cup, Month: 2, Quantity: 437\n",
      "7. Product: kawa kawa anggur hijau, Month: 2, Quantity: 435\n",
      "8. Product: kawa kawa anggur hijau, Month: 3, Quantity: 415\n",
      "9. Product: kawa kawa anggur hijau, Month: 3, Quantity: 407\n",
      "10. Product: draft beer kaleng, Month: 2, Quantity: 399\n",
      "\n",
      "These are the top products with the highest sales quantities for different months.\n"
     ]
    }
   ],
   "source": [
    "print(tpcs_responses[1])"
   ]
  },
  {
   "cell_type": "code",
   "execution_count": 48,
   "metadata": {},
   "outputs": [
    {
     "name": "stdout",
     "output_type": "stream",
     "text": [
      "Here are some examples of the correlation between total sales amount and quantity sold for the top products:\n",
      "\n",
      "- Product: Hibiki Japanese Harmony, Total Amount: 5,377,000 IDR, Quantity Sold: 1\n",
      "- Product: Hibiki Japanese Harmony, Total Amount: 4,887,000 IDR, Quantity Sold: 2\n",
      "- Product: Nikka Whisky from the Barrel Japanese Whisky, Total Amount: 4,545,016 IDR, Quantity Sold: 1\n",
      "- Product: Ballantines Blended Scotch Whisky, Total Amount: 4,545,016 IDR, Quantity Sold: 1\n",
      "- Product: Jack Daniel's No.7, Total Amount: 4,259,000 IDR, Quantity Sold: 1\n",
      "- Product: Hennessy VSOP, Total Amount: 4,196,000 IDR, Quantity Sold: 4\n",
      "- Product: Monkey Shoulder, Total Amount: 3,947,000 IDR, Quantity Sold: 2\n",
      "- Product: Sababay Mascetti, Total Amount: 3,944,000 IDR, Quantity Sold: 4\n",
      "- Product: Roku Gin, Total Amount: 3,937,000 IDR, Quantity Sold: 1\n",
      "- Product: Martell VSOP, Total Amount: 3,832,488 IDR, Quantity Sold: 6\n",
      "\n",
      "It seems that there is a variation in the quantity sold for the top products with different total sales amounts.\n"
     ]
    }
   ],
   "source": [
    "print(tpcs_responses[2])"
   ]
  },
  {
   "cell_type": "code",
   "execution_count": 49,
   "metadata": {},
   "outputs": [],
   "source": [
    "# Function to escape newlines\n",
    "def escape_newlines(text):\n",
    "    return text.replace('\\n', '\\\\n')\n",
    "\n",
    "with open('outputs/tpcs.csv', 'w', newline='', encoding='utf-8') as fopen:\n",
    "    writer = csv.writer(fopen, quoting=csv.QUOTE_MINIMAL)\n",
    "    \n",
    "    # Write header if the file is empty\n",
    "    fopen.seek(0, os.SEEK_END)\n",
    "    if fopen.tell() == 0:\n",
    "        writer.writerow(['id', 'prompt', 'response'])\n",
    "\n",
    "    # Write each question and response to the CSV file\n",
    "    for idx in range(len(tpcs_responses)):\n",
    "        writer.writerow(\n",
    "            [\n",
    "                idx + 1, \n",
    "                escape_newlines(tpcs_questions[idx]), \n",
    "                escape_newlines(tpcs_responses[idx])\n",
    "            ]\n",
    "        )"
   ]
  },
  {
   "cell_type": "markdown",
   "metadata": {},
   "source": [
    "## total quantity sold each month"
   ]
  },
  {
   "cell_type": "code",
   "execution_count": 50,
   "metadata": {},
   "outputs": [],
   "source": [
    "# Total Quantity sold each month\n",
    "tqm = iseller_data.groupby([\"year\", \"month\", \"clean_product_name\"])['quantity'].sum().reset_index().sort_values(by=[\"year\", \"month\"])\n"
   ]
  },
  {
   "cell_type": "code",
   "execution_count": 51,
   "metadata": {},
   "outputs": [],
   "source": [
    "conn = sqlalchemy.create_engine('sqlite:////Users/davidrinaldi/Documents/Projects/myk-dashboard/dev/data/temp5.db')\n",
    "tpqs.to_sql('total_quantity_sold_monthly', conn, if_exists='replace', index=False)\n",
    "db = SQLDatabase.from_uri(\"sqlite:///data/temp5.db\")"
   ]
  },
  {
   "cell_type": "code",
   "execution_count": 52,
   "metadata": {},
   "outputs": [],
   "source": [
    "tpm_agent = create_sql_agent(query_llm, db=db, agent_type=\"openai-tools\", verbose=True)"
   ]
  },
  {
   "cell_type": "code",
   "execution_count": 53,
   "metadata": {},
   "outputs": [
    {
     "name": "stdout",
     "output_type": "stream",
     "text": [
      "\n",
      "\n",
      "\u001b[1m> Entering new SQL Agent Executor chain...\u001b[0m\n",
      "\u001b[32;1m\u001b[1;3m\n",
      "Invoking: `sql_db_list_tables` with `{}`\n",
      "\n",
      "\n",
      "\u001b[0m\u001b[38;5;200m\u001b[1;3mtotal_quantity_sold_monthly\u001b[0m\u001b[32;1m\u001b[1;3m\n",
      "Invoking: `sql_db_schema` with `{'table_names': 'total_quantity_sold_monthly'}`\n",
      "\n",
      "\n",
      "\u001b[0m\u001b[33;1m\u001b[1;3m\n",
      "CREATE TABLE total_quantity_sold_monthly (\n",
      "\tclean_product_name TEXT, \n",
      "\tyear BIGINT, \n",
      "\tmonth BIGINT, \n",
      "\tweek BIGINT, \n",
      "\ttotal_amount FLOAT, \n",
      "\tquantity BIGINT\n",
      ")\n",
      "\n",
      "/*\n",
      "3 rows from total_quantity_sold_monthly table:\n",
      "clean_product_name\tyear\tmonth\tweek\ttotal_amount\tquantity\n",
      "kawa kawa anggur hijau\t2024\t1\t1\t140173.1959798995\t557\n",
      "anggur merah gold\t2024\t1\t1\t131484.55631399318\t395\n",
      "api anggur hijau\t2024\t1\t1\t164322.36224489796\t292\n",
      "*/\u001b[0m\u001b[32;1m\u001b[1;3m1. What are the top 5 clean product names with the highest total amount sold?\n",
      "2. Can you provide the monthly total quantity sold for each year?\n",
      "3. Is there any trend in the weekly total amount sold for specific product names? \n",
      "<EOF>\u001b[0m\n",
      "\n",
      "\u001b[1m> Finished chain.\u001b[0m\n",
      "1. What are the top 5 clean product names with the highest total amount sold?\n",
      "2. Can you provide the monthly total quantity sold for each year?\n",
      "3. Is there any trend in the weekly total amount sold for specific product names? \n",
      "<EOF>\n"
     ]
    }
   ],
   "source": [
    "response = tpm_agent.invoke(\n",
    "    \"\"\"\n",
    "    Generate only three additional prompts that could be asked to understand or analysis the data.\n",
    "        Output the three prompts in list format counting up from 1 (1. prompt\\n 2. prompt\\n 3. prompt\\n). \n",
    "        Generate only the prompts in the list, exclude their index.\n",
    "        End the response with <EOF>.\n",
    "        Do not respond with an empty result or say \"I don't know\".\n",
    "    \"\"\"\n",
    ")\n",
    "print(response['output'])"
   ]
  },
  {
   "cell_type": "code",
   "execution_count": 54,
   "metadata": {},
   "outputs": [
    {
     "data": {
      "text/plain": [
       "['1. What are the top 5 clean product names with the highest total amount sold?',\n",
       " '2. Can you provide the monthly total quantity sold for each year?',\n",
       " '3. Is there any trend in the weekly total amount sold for specific product names? ']"
      ]
     },
     "execution_count": 54,
     "metadata": {},
     "output_type": "execute_result"
    }
   ],
   "source": [
    "tpm_questions = response['output'].split('<EOF>')[0].split('\\n')[:3]\n",
    "tpm_questions"
   ]
  },
  {
   "cell_type": "code",
   "execution_count": 55,
   "metadata": {},
   "outputs": [],
   "source": [
    "# create location answer model\n",
    "tpm_query = create_sql_agent(analysis_llm, db=db, agent_type=\"tool-calling\")"
   ]
  },
  {
   "cell_type": "code",
   "execution_count": 56,
   "metadata": {},
   "outputs": [
    {
     "name": "stdout",
     "output_type": "stream",
     "text": [
      "1. What are the top 5 clean product names with the highest total amount sold?\n",
      "2. Can you provide the monthly total quantity sold for each year?\n",
      "3. Is there any trend in the weekly total amount sold for specific product names? \n"
     ]
    }
   ],
   "source": [
    "import random\n",
    "\n",
    "tpm_responses = []\n",
    "questions = ['What is the correlation between external events (such as holidays, festivals, or economic changes) and monthly sales patterns? (Move to forecasting)', 'Are there any emerging trends or shifts in consumer preferences over the months and years?', 'How does the performance of different products compare across the same time periods (e.g., year-over-year comparisons for the same month)?']\n",
    "for question in tpm_questions:\n",
    "    try:\n",
    "        print(question)\n",
    "        response = tpm_query.invoke(question + \"All prices are in IDR\")\n",
    "        tpm_responses.append(response['output'])\n",
    "    except:\n",
    "        question = random.choice(questions)\n",
    "        print(question)\n",
    "        response = tpm_query.invoke(question + \"All prices are in IDR\")\n",
    "        tpm_responses.append(response['output'])\n",
    "        "
   ]
  },
  {
   "cell_type": "code",
   "execution_count": 57,
   "metadata": {},
   "outputs": [
    {
     "name": "stdout",
     "output_type": "stream",
     "text": [
      "The top 5 clean product names with the highest total amount sold in IDR are:\n",
      "1. Hennessy VSOP - IDR 35,864,390.67\n",
      "2. Martell VSOP - IDR 30,219,499.59\n",
      "3. Hibiki Japanese Harmony - IDR 24,804,258.00\n",
      "4. Glenfiddich 12yo - IDR 24,730,651.99\n",
      "5. JW Black Label - IDR 22,612,401.42\n"
     ]
    }
   ],
   "source": [
    "print(tpm_responses[0])"
   ]
  },
  {
   "cell_type": "code",
   "execution_count": 58,
   "metadata": {},
   "outputs": [
    {
     "name": "stdout",
     "output_type": "stream",
     "text": [
      "The monthly total quantity sold for each year in IDR are as follows:\n",
      "- For the year 2024:\n",
      "  - Month 1: 26,877 units\n",
      "  - Month 2: 25,491 units\n",
      "  - Month 3: 20,171 units\n",
      "  - Month 4: 21,317 units\n",
      "  - Month 5: 6,372 units\n"
     ]
    }
   ],
   "source": [
    "print(tpm_responses[1])"
   ]
  },
  {
   "cell_type": "code",
   "execution_count": 59,
   "metadata": {},
   "outputs": [
    {
     "name": "stdout",
     "output_type": "stream",
     "text": [
      "Yes, there is a trend in the weekly total amount sold for specific product names. Here are some examples of the weekly total amount sold for specific product names:\n",
      "\n",
      "1. Product Name: (es batu) crystalline cup, Week: 1, Weekly Total Amount Sold: 157,670.77 IDR\n",
      "2. Product Name: (es batu) crystalline cup, Week: 2, Weekly Total Amount Sold: 150,573.82 IDR\n",
      "3. Product Name: (es batu) crystalline cup, Week: 3, Weekly Total Amount Sold: 164,179.65 IDR\n",
      "4. Product Name: (es batu) crystalline cup, Week: 4, Weekly Total Amount Sold: 192,236.29 IDR\n",
      "5. Product Name: (es batu) crystalline cup, Week: 5, Weekly Total Amount Sold: 343,266.93 IDR\n",
      "6. Product Name: (es batu) crystalline cup, Week: 6, Weekly Total Amount Sold: 201,923.69 IDR\n",
      "7. Product Name: (es batu) crystalline cup, Week: 7, Weekly Total Amount Sold: 234,708.42 IDR\n",
      "8. Product Name: (es batu) crystalline cup, Week: 8, Weekly Total Amount Sold: 186,145.41 IDR\n",
      "9. Product Name: (es batu) crystalline cup, Week: 9, Weekly Total Amount Sold: 276,706.22 IDR\n",
      "10. Product Name: (es batu) crystalline cup, Week: 10, Weekly Total Amount Sold: 152,847.37 IDR\n",
      "\n",
      "This data shows the trend in the weekly total amount sold for the specific product name \"(es batu) crystalline cup\".\n"
     ]
    }
   ],
   "source": [
    "print(tpm_responses[2])    "
   ]
  },
  {
   "cell_type": "code",
   "execution_count": 60,
   "metadata": {},
   "outputs": [],
   "source": [
    "# Function to escape newlines\n",
    "def escape_newlines(text):\n",
    "    return text.replace('\\n', '\\\\n')\n",
    "\n",
    "with open('outputs/tpm.csv', 'w', newline='', encoding='utf-8') as fopen:\n",
    "    writer = csv.writer(fopen, quoting=csv.QUOTE_MINIMAL)\n",
    "    \n",
    "    # Write header if the file is empty\n",
    "    fopen.seek(0, os.SEEK_END)\n",
    "    if fopen.tell() == 0:\n",
    "        writer.writerow(['id', 'prompt', 'response'])\n",
    "\n",
    "    # Write each question and response to the CSV file\n",
    "    for idx in range(len(tpm_responses)):\n",
    "        writer.writerow(\n",
    "            [\n",
    "                idx + 1, \n",
    "                escape_newlines(tpm_questions[idx]), \n",
    "                escape_newlines(tpm_responses[idx])\n",
    "            ]\n",
    "        )"
   ]
  },
  {
   "cell_type": "markdown",
   "metadata": {},
   "source": [
    "## total quantity sold each day"
   ]
  },
  {
   "cell_type": "code",
   "execution_count": 26,
   "metadata": {},
   "outputs": [],
   "source": [
    "# Total Quantity sold each Day\n",
    "tqd = iseller_data.groupby(['year', 'month', 'week', 'day_name', 'day_of_week_num', 'clean_product_name'])['quantity'].sum().reset_index().sort_values(by=\"day_of_week_num\")"
   ]
  },
  {
   "cell_type": "code",
   "execution_count": 29,
   "metadata": {},
   "outputs": [],
   "source": [
    "conn = sqlalchemy.create_engine('sqlite:////Users/davidrinaldi/Documents/Projects/myk-dashboard/dev/data/temp6.db')\n",
    "tqd.to_sql('total_quantity_sold_daily', conn, if_exists='replace', index=False)\n",
    "db = SQLDatabase.from_uri(\"sqlite:///data/temp6.db\")"
   ]
  },
  {
   "cell_type": "code",
   "execution_count": 30,
   "metadata": {},
   "outputs": [],
   "source": [
    "tqd_agent = create_sql_agent(query_llm, db=db, agent_type=\"openai-tools\", verbose=True)"
   ]
  },
  {
   "cell_type": "code",
   "execution_count": 44,
   "metadata": {},
   "outputs": [
    {
     "name": "stdout",
     "output_type": "stream",
     "text": [
      "\n",
      "\n",
      "\u001b[1m> Entering new SQL Agent Executor chain...\u001b[0m\n",
      "\u001b[32;1m\u001b[1;3m\n",
      "Invoking: `sql_db_list_tables` with `{}`\n",
      "\n",
      "\n",
      "\u001b[0m\u001b[38;5;200m\u001b[1;3mtotal_quantity_sold_daily\u001b[0m\u001b[32;1m\u001b[1;3m\n",
      "Invoking: `sql_db_schema` with `{'table_names': 'total_quantity_sold_daily'}`\n",
      "\n",
      "\n",
      "\u001b[0m\u001b[33;1m\u001b[1;3m\n",
      "CREATE TABLE total_quantity_sold_daily (\n",
      "\tyear BIGINT, \n",
      "\tmonth BIGINT, \n",
      "\tweek BIGINT, \n",
      "\tday_name TEXT, \n",
      "\tday_of_week_num INTEGER, \n",
      "\tclean_product_name TEXT, \n",
      "\tquantity BIGINT\n",
      ")\n",
      "\n",
      "/*\n",
      "3 rows from total_quantity_sold_daily table:\n",
      "year\tmonth\tweek\tday_name\tday_of_week_num\tclean_product_name\tquantity\n",
      "2024\t4\t15\tMonday\t0\tcointreau\t1\n",
      "2024\t4\t14\tMonday\t0\tjw black label\t4\n",
      "2024\t4\t14\tMonday\t0\tjw red label\t3\n",
      "*/\u001b[0m\u001b[32;1m\u001b[1;3m1. What is the total quantity of \"cointreau\" products sold in the database?\n",
      "2. How does the quantity of \"jw black label\" compare to \"jw red label\" products sold on Mondays?\n",
      "3. Can you provide the monthly breakdown of total quantity sold for each product in the dataset?\n",
      "<EOF>\u001b[0m\n",
      "\n",
      "\u001b[1m> Finished chain.\u001b[0m\n",
      "1. What is the total quantity of \"cointreau\" products sold in the database?\n",
      "2. How does the quantity of \"jw black label\" compare to \"jw red label\" products sold on Mondays?\n",
      "3. Can you provide the monthly breakdown of total quantity sold for each product in the dataset?\n",
      "<EOF>\n"
     ]
    }
   ],
   "source": [
    "response = tqd_agent.invoke(\n",
    "    \"\"\"\n",
    "    Generate only three additional prompts that could be asked to understand or analysis the data.\n",
    "        Output the three prompts in list format counting up from 1 (1. prompt\\n 2. prompt\\n 3. prompt\\n). \n",
    "        Generate only the prompts in the list, exclude their index.\n",
    "        End the response with <EOF>.\n",
    "        Do not respond with an empty result or say \"I don't know\".\n",
    "    \"\"\"\n",
    ")\n",
    "print(response['output'])"
   ]
  },
  {
   "cell_type": "code",
   "execution_count": 45,
   "metadata": {},
   "outputs": [
    {
     "data": {
      "text/plain": [
       "['1. What is the total quantity of \"cointreau\" products sold in the database?',\n",
       " '2. How does the quantity of \"jw black label\" compare to \"jw red label\" products sold on Mondays?',\n",
       " '3. Can you provide the monthly breakdown of total quantity sold for each product in the dataset?']"
      ]
     },
     "execution_count": 45,
     "metadata": {},
     "output_type": "execute_result"
    }
   ],
   "source": [
    "tqd_questions = response['output'].split('<EOF>')[0].split('\\n')[:3]\n",
    "tqd_questions"
   ]
  },
  {
   "cell_type": "code",
   "execution_count": 46,
   "metadata": {},
   "outputs": [],
   "source": [
    "# create location answer model\n",
    "tqd_query = create_sql_agent(analysis_llm, db=db, agent_type=\"tool-calling\")"
   ]
  },
  {
   "cell_type": "code",
   "execution_count": 47,
   "metadata": {},
   "outputs": [
    {
     "name": "stdout",
     "output_type": "stream",
     "text": [
      "1. What is the total quantity of \"cointreau\" products sold in the database?\n",
      "2. How does the quantity of \"jw black label\" compare to \"jw red label\" products sold on Mondays?\n",
      "3. Can you provide the monthly breakdown of total quantity sold for each product in the dataset?\n",
      "Are there any emerging trends or shifts in consumer preferences over the months and years?\n"
     ]
    }
   ],
   "source": [
    "import random\n",
    "\n",
    "tqd_responses = []\n",
    "questions = ['What is the correlation between external events (such as holidays, festivals, or economic changes) and monthly sales patterns? (Move to forecasting)', 'Are there any emerging trends or shifts in consumer preferences over the months and years?', 'How does the performance of different products compare across the same time periods (e.g., year-over-year comparisons for the same month)?']\n",
    "for question in tqd_questions:\n",
    "    try:\n",
    "        print(question)\n",
    "        response = tqd_query.invoke(question + \"All prices are in IDR\")\n",
    "        tqd_responses.append(response['output'])\n",
    "    except:\n",
    "        question = random.choice(questions)\n",
    "        print(question)\n",
    "        response = tqd_query.invoke(question + \"All prices are in IDR\")\n",
    "        tqd_responses.append(response['output'])\n",
    "        "
   ]
  },
  {
   "cell_type": "code",
   "execution_count": 48,
   "metadata": {},
   "outputs": [
    {
     "name": "stdout",
     "output_type": "stream",
     "text": [
      "The total quantity of \"cointreau\" products sold in the database is 126.\n"
     ]
    }
   ],
   "source": [
    "print(tqd_responses[0])"
   ]
  },
  {
   "cell_type": "code",
   "execution_count": 49,
   "metadata": {},
   "outputs": [
    {
     "name": "stdout",
     "output_type": "stream",
     "text": [
      "The quantity of \"jw black label\" products sold on Mondays varies, with values such as 1, 2, 3, 4, 6, and 9. \n",
      "The quantity of \"jw red label\" products sold on Mondays also varies, with values such as 1, 2, 3, 4, 5, 8, and 10.\n"
     ]
    }
   ],
   "source": [
    "print(tqd_responses[1])"
   ]
  },
  {
   "cell_type": "code",
   "execution_count": 50,
   "metadata": {},
   "outputs": [
    {
     "name": "stdout",
     "output_type": "stream",
     "text": [
      "Based on the total quantity of products sold monthly, the top products are as follows:\n",
      "\n",
      "1. In March 2024, the product \"kawa kawa anggur hijau\" had the highest total quantity sold with 2064 units.\n",
      "2. In February 2024, the product \"kawa kawa anggur hijau\" had the second-highest total quantity sold with 2038 units.\n",
      "3. In January 2024, the product \"anggur merah gold\" had a total quantity sold of 1501 units.\n",
      "4. In January 2024, the product \"anggur merah\" had a total quantity sold of 1201 units.\n",
      "5. In February 2024, the product \"(es batu) crystalline cup\" had a total quantity sold of 1092 units.\n",
      "6. In April 2024, the product \"kawa kawa anggur hijau\" had a total quantity sold of 1085 units.\n",
      "7. In January 2024, the product \"kawa kawa anggur hijau\" had a total quantity sold of 1073 units.\n",
      "8. In January 2024, the product \"api anggur hijau\" had a total quantity sold of 1027 units.\n",
      "9. In March 2024, the product \"bintang botol\" had a total quantity sold of 996 units.\n",
      "10. In March 2024, the product \"draft beer kaleng\" had a total quantity sold of 994 units.\n",
      "\n",
      "These results indicate the popularity of different products over the months, which can provide insights into emerging trends and shifts in consumer preferences.\n"
     ]
    }
   ],
   "source": [
    "print(tqd_responses[2])"
   ]
  },
  {
   "cell_type": "code",
   "execution_count": 52,
   "metadata": {},
   "outputs": [],
   "source": [
    "# Function to escape newlines\n",
    "def escape_newlines(text):\n",
    "    return text.replace('\\n', '\\\\n')\n",
    "\n",
    "with open('outputs/tqd.csv', 'w', newline='', encoding='utf-8') as fopen:\n",
    "    writer = csv.writer(fopen, quoting=csv.QUOTE_MINIMAL)\n",
    "    \n",
    "    # Write header if the file is empty\n",
    "    fopen.seek(0, os.SEEK_END)\n",
    "    if fopen.tell() == 0:\n",
    "        writer.writerow(['id', 'prompt', 'response'])\n",
    "\n",
    "    # Write each question and response to the CSV file\n",
    "    for idx in range(len(tqd_responses)):\n",
    "        writer.writerow(\n",
    "            [\n",
    "                idx + 1, \n",
    "                escape_newlines(tqd_questions[idx]), \n",
    "                escape_newlines(tqd_responses[idx])\n",
    "            ]\n",
    "        )"
   ]
  },
  {
   "cell_type": "markdown",
   "metadata": {},
   "source": [
    "# advanced query response examples"
   ]
  },
  {
   "cell_type": "code",
   "execution_count": 62,
   "metadata": {},
   "outputs": [
    {
     "name": "stdout",
     "output_type": "stream",
     "text": [
      "Based on the data from the `total_quantity_sold_monthly` table, here are some emerging trends in consumer preferences over the past month:\n",
      "\n",
      "1. The product \"kawa kawa anggur hijau\" had a total amount of 170459.99 and a quantity of 308 in May 2024.\n",
      "2. The product \"anggur merah gold\" had a total amount of 190785.17 and a quantity of 231 in May 2024.\n",
      "3. The product \"bintang kaleng\" had a total amount of 219800.71 and a quantity of 179 in May 2024.\n",
      "4. The product \"api anggur hijau\" had a total amount of 183370.60 and a quantity of 160 in May 2024.\n",
      "5. The product \"bintang botol\" had a total amount of 188461.67 and a quantity of 158 in May 2024.\n",
      "6. The product \"(es batu) crystalline cup\" had a total amount of 122248.26 and a quantity of 156 in May 2024.\n",
      "7. The product \"anggur merah\" had a total amount of 215704.98 and a quantity of 127 in May 2024.\n",
      "8. The product \"anggur ginseng intisari\" had a total amount of 196629.48 and a quantity of 116 in May 2024.\n",
      "9. The product \"iceland vodka\" had a total amount of 284223.17 and a quantity of 97 in May 2024.\n",
      "10. The product \"bintang radler lemon botol\" had a total amount of 392179.24 and a quantity of 73 in May 2024.\n",
      "\n",
      "These trends provide insights into the popularity of different products among consumers in the recent month.\n"
     ]
    }
   ],
   "source": [
    "print(tpm_query.invoke('Are there any emerging trends or shifts in consumer preferences over the months and years?')['output'])"
   ]
  },
  {
   "cell_type": "code",
   "execution_count": 63,
   "metadata": {},
   "outputs": [],
   "source": [
    "test = query_llm.invoke(\"\"\"\n",
    "Are there any emerging trends or shifts in consumer preferences over the months and years?\n",
    "\n",
    "Based on the data from the `total_quantity_sold_monthly` table, here are some emerging trends or shifts in consumer preferences over the months and years:\n",
    "\n",
    "1. In May 2024, the top-selling products were \"kawa kawa anggur hijau\" with a total amount of 170459.99 and 308 quantity sold.\n",
    "2. Following that, \"anggur merah gold\" was also popular in May 2024 with a total amount of 190785.17 and 231 quantity sold.\n",
    "3. \"bintang kaleng\" saw an increase in sales in May 2024 with a total amount of 219800.71 and 179 quantity sold.\n",
    "\n",
    "These insights indicate changes in consumer preferences over the months and years, with certain products gaining popularity.\n",
    "\"\"\")"
   ]
  },
  {
   "cell_type": "code",
   "execution_count": 64,
   "metadata": {},
   "outputs": [
    {
     "name": "stdout",
     "output_type": "stream",
     "text": [
      "\n",
      "4. In June 2024, there was a shift in consumer preferences towards \"blueberry juice\" which had a total amount of 152720.60 and 289 quantity sold, showing an increase in demand for this product.\n",
      "5. \"jeruk segar\" also saw a rise in sales in June 2024, with a total amount of 142978.50 and 284 quantity sold, indicating a preference for fresh fruit juices among consumers.\n",
      "6. Additionally, \"susu sapi murni\" experienced a significant increase in sales in June 2024, with a total amount of 132638.75 and 262 quantity sold, showcasing a trend towards dairy products.\n",
      "\n",
      "These trends suggest that consumer preferences are constantly evolving, with certain products gaining popularity over time while others may see a decline in demand. It is important for businesses to stay updated on these shifts in order to cater to the changing needs and preferences of their customers.\n"
     ]
    }
   ],
   "source": [
    "print(test.content)"
   ]
  },
  {
   "cell_type": "code",
   "execution_count": 65,
   "metadata": {},
   "outputs": [],
   "source": [
    "test = sales_query.invoke('''\n",
    "Show me month growth rates and what the best selling product was. Suggest a marketing strategy to improve sales. Expand on the marketing strategy giving me a quick outline on what to do\n",
    "''')"
   ]
  },
  {
   "cell_type": "code",
   "execution_count": 66,
   "metadata": {},
   "outputs": [
    {
     "name": "stdout",
     "output_type": "stream",
     "text": [
      "The best selling product with the highest monthly growth rate is \"anggur merah premium\" in the \"ANGGUR\" category. The monthly growth rate is -94.52%.\n",
      "\n",
      "To suggest a marketing strategy to improve sales, we can focus on promoting this product through targeted marketing campaigns. Here is a quick outline of the marketing strategy:\n",
      "\n",
      "1. **Targeted Advertising**: Utilize digital marketing channels such as social media advertising and Google Ads to target customers who are interested in premium wines.\n",
      "   \n",
      "2. **Promotions and Discounts**: Offer special promotions and discounts on \"anggur merah premium\" to attract new customers and encourage repeat purchases.\n",
      "\n",
      "3. **Collaborations**: Partner with influencers or local wine experts to create buzz around the product and reach a wider audience.\n",
      "\n",
      "4. **Customer Engagement**: Engage with customers through email marketing campaigns, surveys, and feedback collection to understand their preferences and improve the product offering.\n",
      "\n",
      "5. **Visual Content**: Create visually appealing content such as high-quality images and videos showcasing the product to entice customers.\n",
      "\n",
      "By implementing these strategies, we can increase brand awareness, attract new customers, and drive sales for \"anggur merah premium.\"\n"
     ]
    }
   ],
   "source": [
    "print(test['output'])"
   ]
  },
  {
   "cell_type": "code",
   "execution_count": null,
   "metadata": {},
   "outputs": [],
   "source": []
  },
  {
   "cell_type": "code",
   "execution_count": null,
   "metadata": {},
   "outputs": [],
   "source": []
  },
  {
   "cell_type": "code",
   "execution_count": null,
   "metadata": {},
   "outputs": [],
   "source": []
  },
  {
   "cell_type": "code",
   "execution_count": null,
   "metadata": {},
   "outputs": [],
   "source": []
  },
  {
   "cell_type": "code",
   "execution_count": null,
   "metadata": {},
   "outputs": [],
   "source": []
  },
  {
   "cell_type": "code",
   "execution_count": null,
   "metadata": {},
   "outputs": [],
   "source": []
  },
  {
   "cell_type": "code",
   "execution_count": null,
   "metadata": {},
   "outputs": [],
   "source": []
  },
  {
   "cell_type": "code",
   "execution_count": null,
   "metadata": {},
   "outputs": [],
   "source": []
  },
  {
   "cell_type": "code",
   "execution_count": null,
   "metadata": {},
   "outputs": [],
   "source": []
  }
 ],
 "metadata": {
  "kernelspec": {
   "display_name": "Python 3",
   "language": "python",
   "name": "python3"
  },
  "language_info": {
   "codemirror_mode": {
    "name": "ipython",
    "version": 3
   },
   "file_extension": ".py",
   "mimetype": "text/x-python",
   "name": "python",
   "nbconvert_exporter": "python",
   "pygments_lexer": "ipython3",
   "version": "3.12.2"
  }
 },
 "nbformat": 4,
 "nbformat_minor": 2
}
