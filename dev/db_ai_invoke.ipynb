{
 "cells": [
  {
   "cell_type": "code",
   "execution_count": 1,
   "metadata": {},
   "outputs": [
    {
     "name": "stdout",
     "output_type": "stream",
     "text": [
      "\n",
      "\u001b[1m[\u001b[0m\u001b[34;49mnotice\u001b[0m\u001b[1;39;49m]\u001b[0m\u001b[39;49m A new release of pip is available: \u001b[0m\u001b[31;49m24.0\u001b[0m\u001b[39;49m -> \u001b[0m\u001b[32;49m24.1\u001b[0m\n",
      "\u001b[1m[\u001b[0m\u001b[34;49mnotice\u001b[0m\u001b[1;39;49m]\u001b[0m\u001b[39;49m To update, run: \u001b[0m\u001b[32;49mpip3 install --upgrade pip\u001b[0m\n",
      "\n",
      "\u001b[1m[\u001b[0m\u001b[34;49mnotice\u001b[0m\u001b[1;39;49m]\u001b[0m\u001b[39;49m A new release of pip is available: \u001b[0m\u001b[31;49m24.0\u001b[0m\u001b[39;49m -> \u001b[0m\u001b[32;49m24.1\u001b[0m\n",
      "\u001b[1m[\u001b[0m\u001b[34;49mnotice\u001b[0m\u001b[1;39;49m]\u001b[0m\u001b[39;49m To update, run: \u001b[0m\u001b[32;49mpip3 install --upgrade pip\u001b[0m\n",
      "\n",
      "\u001b[1m[\u001b[0m\u001b[34;49mnotice\u001b[0m\u001b[1;39;49m]\u001b[0m\u001b[39;49m A new release of pip is available: \u001b[0m\u001b[31;49m24.0\u001b[0m\u001b[39;49m -> \u001b[0m\u001b[32;49m24.1\u001b[0m\n",
      "\u001b[1m[\u001b[0m\u001b[34;49mnotice\u001b[0m\u001b[1;39;49m]\u001b[0m\u001b[39;49m To update, run: \u001b[0m\u001b[32;49mpip3 install --upgrade pip\u001b[0m\n",
      "\n",
      "\u001b[1m[\u001b[0m\u001b[34;49mnotice\u001b[0m\u001b[1;39;49m]\u001b[0m\u001b[39;49m A new release of pip is available: \u001b[0m\u001b[31;49m24.0\u001b[0m\u001b[39;49m -> \u001b[0m\u001b[32;49m24.1\u001b[0m\n",
      "\u001b[1m[\u001b[0m\u001b[34;49mnotice\u001b[0m\u001b[1;39;49m]\u001b[0m\u001b[39;49m To update, run: \u001b[0m\u001b[32;49mpip3 install --upgrade pip\u001b[0m\n"
     ]
    }
   ],
   "source": [
    "!pip3 install --upgrade langchain langchain_experimental openai --quiet \n",
    "!pip3 install --upgrade matplotlib --quiet\n",
    "!pip3 install --upgrade pandas --quiet\n",
    "!pip3 install --upgrade sqlalchemy --quiet"
   ]
  },
  {
   "cell_type": "code",
   "execution_count": 121,
   "metadata": {},
   "outputs": [],
   "source": [
    "import os\n",
    "import csv\n",
    "import pandas as pd\n",
    "from datetime import datetime\n",
    "from langchain_openai import OpenAI\n",
    "from langchain_community.utilities import SQLDatabase\n",
    "from langchain_community.agent_toolkits import create_sql_agent\n",
    "import sqlalchemy"
   ]
  },
  {
   "cell_type": "code",
   "execution_count": 9,
   "metadata": {},
   "outputs": [],
   "source": [
    "# initialise sql engine\n",
    "conn = sqlalchemy.create_engine('sqlite:////Users/davidrinaldi/Documents/Projects/myk-dashboard/dev/data/full_iseller_data.db')"
   ]
  },
  {
   "cell_type": "code",
   "execution_count": 10,
   "metadata": {},
   "outputs": [
    {
     "data": {
      "text/plain": [
       "62933"
      ]
     },
     "execution_count": 10,
     "metadata": {},
     "output_type": "execute_result"
    }
   ],
   "source": [
    "# import csv and convert to db\n",
    "iseller_data = pd.read_excel('/Users/davidrinaldi/Documents/Projects/myk-dashboard/data/full_iseller_data.xlsx')\n",
    "iseller_data.to_sql('orders', conn, if_exists='replace', index=False)"
   ]
  },
  {
   "cell_type": "code",
   "execution_count": 11,
   "metadata": {},
   "outputs": [],
   "source": [
    "db = SQLDatabase.from_uri(\"sqlite:///data/full_iseller_data.db\")\n"
   ]
  },
  {
   "cell_type": "code",
   "execution_count": 85,
   "metadata": {},
   "outputs": [],
   "source": [
    "from langchain_community.agent_toolkits import create_sql_agent\n",
    "from langchain_openai import ChatOpenAI, OpenAI\n",
    "\n",
    "query_llm = ChatOpenAI(model=\"gpt-3.5-turbo\", temperature=0.9)\n",
    "analysis_llm = ChatOpenAI(model=\"gpt-3.5-turbo\", temperature=0.1)"
   ]
  },
  {
   "cell_type": "markdown",
   "metadata": {},
   "source": [
    "## location table"
   ]
  },
  {
   "cell_type": "code",
   "execution_count": 75,
   "metadata": {},
   "outputs": [],
   "source": [
    "# initialise location tables\n",
    "from scripts.utils import generate_location_df\n",
    "\n",
    "conn = sqlalchemy.create_engine('sqlite:////Users/davidrinaldi/Documents/Projects/myk-dashboard/dev/data/temp.db')\n",
    "location_df = generate_location_df(iseller_data)\n",
    "location_df.to_sql('locations', conn, if_exists='replace', index=False)\n",
    "db = SQLDatabase.from_uri(\"sqlite:///data/temp.db\")\n"
   ]
  },
  {
   "cell_type": "code",
   "execution_count": 56,
   "metadata": {},
   "outputs": [],
   "source": [
    "location_agent = create_sql_agent(query_llm, db=db, agent_type=\"openai-tools\", verbose=True)"
   ]
  },
  {
   "cell_type": "code",
   "execution_count": 66,
   "metadata": {},
   "outputs": [
    {
     "name": "stdout",
     "output_type": "stream",
     "text": [
      "\n",
      "\n",
      "\u001b[1m> Entering new SQL Agent Executor chain...\u001b[0m\n",
      "\u001b[32;1m\u001b[1;3m\n",
      "Invoking: `sql_db_list_tables` with `{}`\n",
      "\n",
      "\n",
      "\u001b[0m\u001b[38;5;200m\u001b[1;3mlocations\u001b[0m\u001b[32;1m\u001b[1;3m\n",
      "Invoking: `sql_db_schema` with `{'table_names': 'locations'}`\n",
      "\n",
      "\n",
      "\u001b[0m\u001b[33;1m\u001b[1;3m\n",
      "CREATE TABLE locations (\n",
      "\toutlet_name TEXT, \n",
      "\tyear BIGINT, \n",
      "\tmonth_name TEXT, \n",
      "\tmonth BIGINT, \n",
      "\tquantity BIGINT, \n",
      "\tquantity_diff FLOAT, \n",
      "\tgrowth_rate FLOAT\n",
      ")\n",
      "\n",
      "/*\n",
      "3 rows from locations table:\n",
      "outlet_name\tyear\tmonth_name\tmonth\tquantity\tquantity_diff\tgrowth_rate\n",
      "Ayam! Alun-Alun BKS\t2024\tMarch\t3\t172\tNone\tNone\n",
      "Ayam! Alun-Alun BKS\t2024\tApril\t4\t134\t-38.0\t-22.093023255813954\n",
      "Ayam! Alun-Alun BKS\t2024\tMay\t5\t23\t-111.0\t-82.83582089552239\n",
      "*/\u001b[0m\u001b[32;1m\u001b[1;3m1. What is the total quantity sold for each outlet in a specific year?\n",
      "2. How does the growth rate vary across different months for a particular outlet?\n",
      "3. Can you provide a trend analysis of quantity changes over the years for all outlets?\n",
      "<EOF>\u001b[0m\n",
      "\n",
      "\u001b[1m> Finished chain.\u001b[0m\n",
      "1. What is the total quantity sold for each outlet in a specific year?\n",
      "2. How does the growth rate vary across different months for a particular outlet?\n",
      "3. Can you provide a trend analysis of quantity changes over the years for all outlets?\n",
      "<EOF>\n"
     ]
    }
   ],
   "source": [
    "response = location_agent.invoke(\n",
    "    \"\"\"\n",
    "    Generate only three additional prompts that could be asked to understand or analysis the data.\n",
    "        Output the three prompts in list format counting up from 1 (1. prompt\\n 2. prompt\\n 3. prompt\\n). \n",
    "        Generate only the prompts in the list, exclude their index.\n",
    "        End the response with <EOF>.\n",
    "        Do not respond with an empty result or say \"I don't know\".\n",
    "    \"\"\"\n",
    ")\n",
    "print(response['output'])"
   ]
  },
  {
   "cell_type": "code",
   "execution_count": 110,
   "metadata": {},
   "outputs": [
    {
     "data": {
      "text/plain": [
       "['1. What is the total quantity sold for each outlet in a specific year?',\n",
       " '2. How does the growth rate vary across different months for a particular outlet?',\n",
       " '3. Can you provide a trend analysis of quantity changes over the years for all outlets?']"
      ]
     },
     "execution_count": 110,
     "metadata": {},
     "output_type": "execute_result"
    }
   ],
   "source": [
    "location_questions = response['output'].split('<EOF>')[0].split('\\n')[:3]\n",
    "location_questions"
   ]
  },
  {
   "cell_type": "code",
   "execution_count": 114,
   "metadata": {},
   "outputs": [],
   "source": [
    "# create location answer model\n",
    "location_query = create_sql_agent(analysis_llm, db=db, agent_type=\"tool-calling\")"
   ]
  },
  {
   "cell_type": "code",
   "execution_count": 115,
   "metadata": {},
   "outputs": [
    {
     "name": "stdout",
     "output_type": "stream",
     "text": [
      "1. What is the total quantity sold for each outlet in a specific year?\n",
      "2. How does the growth rate vary across different months for a particular outlet?\n",
      "3. Can you provide a trend analysis of quantity changes over the years for all outlets?\n"
     ]
    }
   ],
   "source": [
    "location_responses = []\n",
    "for question in location_questions:\n",
    "    print(question)\n",
    "    response = location_query.invoke(question)\n",
    "    location_responses.append(response['output'])\n"
   ]
  },
  {
   "cell_type": "code",
   "execution_count": 118,
   "metadata": {},
   "outputs": [
    {
     "name": "stdout",
     "output_type": "stream",
     "text": [
      "The total quantity sold for each outlet in the year 2024 is as follows:\n",
      "1. Ayam! Alun-Alun BKS: 329\n",
      "2. Ayam! Dapur Kitchen BKS: 1929\n",
      "3. Ayam! Libersa Park BKS: 347\n",
      "4. Ayam! RSIJ: 412\n",
      "5. Ayam! Tambun BKS: 193\n",
      "6. Bandung: 2264\n",
      "7. Bekasi - Perjuangan: 39876\n",
      "8. Cibubur: 14186\n",
      "9. Jakbar - Taman Palem: 8531\n",
      "10. Jaksel - Pondok Indah: 14574\n"
     ]
    }
   ],
   "source": [
    "print(location_responses[0])\n",
    "    "
   ]
  },
  {
   "cell_type": "code",
   "execution_count": 119,
   "metadata": {},
   "outputs": [
    {
     "name": "stdout",
     "output_type": "stream",
     "text": [
      "The growth rate for the outlet \"Ayam! Alun-Alun BKS\" varies across different months as follows:\n",
      "- In March, the growth rate is not available.\n",
      "- In April, the growth rate is -22.09%.\n",
      "- In May, the growth rate is -82.84%.\n"
     ]
    }
   ],
   "source": [
    "print(location_responses[1])\n"
   ]
  },
  {
   "cell_type": "code",
   "execution_count": 120,
   "metadata": {},
   "outputs": [
    {
     "name": "stdout",
     "output_type": "stream",
     "text": [
      "The total quantity of products sold across all outlets in the year 2024 was 100,228.\n"
     ]
    }
   ],
   "source": [
    "print(location_responses[2])\n"
   ]
  },
  {
   "cell_type": "code",
   "execution_count": 138,
   "metadata": {},
   "outputs": [],
   "source": [
    "# Function to escape newlines\n",
    "def escape_newlines(text):\n",
    "    return text.replace('\\n', '\\\\n')\n",
    "\n",
    "with open('outputs/location.csv', 'w', newline='', encoding='utf-8') as fopen:\n",
    "    writer = csv.writer(fopen, quoting=csv.QUOTE_MINIMAL)\n",
    "    \n",
    "    # Write header if the file is empty\n",
    "    fopen.seek(0, os.SEEK_END)\n",
    "    if fopen.tell() == 0:\n",
    "        writer.writerow(['id', 'prompt', 'response'])\n",
    "\n",
    "    # Write each question and response to the CSV file\n",
    "    for idx in range(len(location_responses)):\n",
    "        writer.writerow(\n",
    "            [\n",
    "                idx + 1, \n",
    "                escape_newlines(location_questions[idx]), \n",
    "                escape_newlines(location_responses[idx])\n",
    "            ]\n",
    "        )"
   ]
  },
  {
   "cell_type": "markdown",
   "metadata": {},
   "source": [
    "## sales table"
   ]
  },
  {
   "cell_type": "code",
   "execution_count": 142,
   "metadata": {},
   "outputs": [],
   "source": [
    "# initialise sales tables\n",
    "from scripts.utils import generate_sales_table\n",
    "\n",
    "conn = sqlalchemy.create_engine('sqlite:////Users/davidrinaldi/Documents/Projects/myk-dashboard/dev/data/temp2.db')\n",
    "sales_df = generate_sales_table(iseller_data)\n",
    "sales_df.to_sql('sales', conn, if_exists='replace', index=False)\n",
    "db = SQLDatabase.from_uri(\"sqlite:///data/temp2.db\")"
   ]
  },
  {
   "cell_type": "code",
   "execution_count": 143,
   "metadata": {},
   "outputs": [],
   "source": [
    "sales_agent = create_sql_agent(query_llm, db=db, agent_type=\"openai-tools\", verbose=True)"
   ]
  },
  {
   "cell_type": "code",
   "execution_count": 158,
   "metadata": {},
   "outputs": [
    {
     "name": "stdout",
     "output_type": "stream",
     "text": [
      "\n",
      "\n",
      "\u001b[1m> Entering new SQL Agent Executor chain...\u001b[0m\n",
      "\u001b[32;1m\u001b[1;3m\n",
      "Invoking: `sql_db_list_tables` with `{}`\n",
      "\n",
      "\n",
      "\u001b[0m\u001b[38;5;200m\u001b[1;3msales\u001b[0m\u001b[32;1m\u001b[1;3m\n",
      "Invoking: `sql_db_schema` with `{'table_names': 'sales'}`\n",
      "\n",
      "\n",
      "\u001b[0m\u001b[33;1m\u001b[1;3m\n",
      "CREATE TABLE sales (\n",
      "\tclean_product_name TEXT, \n",
      "\tproduct_type TEXT, \n",
      "\ttotal_revenue BIGINT, \n",
      "\tcurrent_quarter_revenue FLOAT, \n",
      "\tlast_quarter_revenue FLOAT, \n",
      "\tcurrent_month_revenue FLOAT, \n",
      "\tlast_month_revenue FLOAT, \n",
      "\tquarterly_growth FLOAT, \n",
      "\tmonthly_growth FLOAT, \n",
      "\t\"quarter_Growth(%)\" FLOAT, \n",
      "\t\"Monthly_Growth(%)\" FLOAT\n",
      ")\n",
      "\n",
      "/*\n",
      "3 rows from sales table:\n",
      "clean_product_name\tproduct_type\ttotal_revenue\tcurrent_quarter_revenue\tlast_quarter_revenue\tcurrent_month_revenue\tlast_month_revenue\tquarterly_growth\tmonthly_growth\tquarter_Growth(%)\tMonthly_Growth(%)\n",
      "(es batu) crystalline cup\tREGULAR\t201033098\t55569433.0\t145463665.0\t10521000.0\t45048433.0\t-61.79840993281724\t-76.64513658000047\t-0.45\t-0.62\n",
      "a&w root beer kaleng\tREGULAR\t21235100\t5086300.0\t16148800.0\t89000.0\t4997300.0\t-68.50354205885267\t-98.21903828067157\t-0.52\t-0.97\n",
      "absolut vodka\tVODKA\t51599900\t18173000.0\t33426900.0\t2180000.0\t15993000.0\t-45.63360646664812\t-86.36903645344839\t-0.3\t-0.76\n",
      "*/\u001b[0m\u001b[32;1m\u001b[1;3m1. What is the distribution of total revenue across different product types?\n",
      "2. How does the quarterly growth compare between regular products and vodka products?\n",
      "3. Can you provide insights on the revenue trend over the current quarter for the top-selling products?\n",
      "<EOF>\u001b[0m\n",
      "\n",
      "\u001b[1m> Finished chain.\u001b[0m\n",
      "1. What is the distribution of total revenue across different product types?\n",
      "2. How does the quarterly growth compare between regular products and vodka products?\n",
      "3. Can you provide insights on the revenue trend over the current quarter for the top-selling products?\n",
      "<EOF>\n"
     ]
    }
   ],
   "source": [
    "response = sales_agent.invoke(\n",
    "    \"\"\"\n",
    "    Generate only three additional prompts that could be asked to understand or analysis the data.\n",
    "        Output the three prompts in list format counting up from 1 (1. prompt\\n 2. prompt\\n 3. prompt\\n). \n",
    "        Generate only the prompts in the list, exclude their index.\n",
    "        End the response with <EOF>.\n",
    "        Do not respond with an empty result or say \"I don't know\".\n",
    "    \"\"\"\n",
    ")\n",
    "print(response['output'])"
   ]
  },
  {
   "cell_type": "code",
   "execution_count": 159,
   "metadata": {},
   "outputs": [
    {
     "data": {
      "text/plain": [
       "['1. What is the distribution of total revenue across different product types?',\n",
       " '2. How does the quarterly growth compare between regular products and vodka products?',\n",
       " '3. Can you provide insights on the revenue trend over the current quarter for the top-selling products?']"
      ]
     },
     "execution_count": 159,
     "metadata": {},
     "output_type": "execute_result"
    }
   ],
   "source": [
    "sales_questions = response['output'].split('<EOF>')[0].split('\\n')[:3]\n",
    "sales_questions"
   ]
  },
  {
   "cell_type": "code",
   "execution_count": 160,
   "metadata": {},
   "outputs": [],
   "source": [
    "# create location answer model\n",
    "sales_query = create_sql_agent(analysis_llm, db=db, agent_type=\"tool-calling\")"
   ]
  },
  {
   "cell_type": "code",
   "execution_count": 161,
   "metadata": {},
   "outputs": [
    {
     "name": "stdout",
     "output_type": "stream",
     "text": [
      "1. What is the distribution of total revenue across different product types?\n",
      "2. How does the quarterly growth compare between regular products and vodka products?\n",
      "3. Can you provide insights on the revenue trend over the current quarter for the top-selling products?\n"
     ]
    }
   ],
   "source": [
    "sales_responses = []\n",
    "for question in sales_questions:\n",
    "    print(question)\n",
    "    response = sales_query.invoke(question)\n",
    "    sales_responses.append(response['output'])"
   ]
  },
  {
   "cell_type": "code",
   "execution_count": 162,
   "metadata": {},
   "outputs": [
    {
     "name": "stdout",
     "output_type": "stream",
     "text": [
      "The distribution of total revenue across different product types is as follows:\n",
      "\n",
      "- ANGGUR: 2,444,051,700\n",
      "- BEER: 2,623,261,150\n",
      "- COGNAC: 230,876,700\n",
      "- EMBALASE: 4,920,000\n",
      "- FOOD: 103,646,882\n",
      "- FREE: 400,021\n",
      "- GIN: 401,647,900\n",
      "- LIQUOR: 1,326,538,400\n",
      "- MAKGEOLLI: 103,197,400\n",
      "- MERCHANDISE: 51,725,300\n",
      "- MEZCAL: 1,075,000\n",
      "- REGULAR: 880,910,220\n",
      "- ROKOK: 24,531,000\n",
      "- RUM: 499,287,400\n",
      "- SOJU: 1,787,271,100\n",
      "- SPIRIT: 68,981,900\n",
      "- TEQUILA: 122,984,100\n",
      "- VAPE: 1,775,000\n",
      "- VODKA: 1,347,021,116\n",
      "- WHISKY: 2,721,392,800\n",
      "- WINE: 997,531,400\n"
     ]
    }
   ],
   "source": [
    "print(sales_responses[0])"
   ]
  },
  {
   "cell_type": "code",
   "execution_count": 163,
   "metadata": {},
   "outputs": [
    {
     "name": "stdout",
     "output_type": "stream",
     "text": [
      "The average quarterly growth for regular products is -64.51% and for vodka products is -56.33%.\n"
     ]
    }
   ],
   "source": [
    "print(sales_responses[1])"
   ]
  },
  {
   "cell_type": "code",
   "execution_count": 164,
   "metadata": {},
   "outputs": [
    {
     "name": "stdout",
     "output_type": "stream",
     "text": [
      "The top-selling products for the current quarter and their respective revenues are as follows:\n",
      "\n",
      "1. Jameson (WHISKY) - Current Quarter Revenue: $181,886,500\n",
      "2. Kawa Kawa Anggur Hijau (ANGGUR) - Current Quarter Revenue: $169,912,400\n",
      "3. Api Anggur Hijau (ANGGUR) - Current Quarter Revenue: $143,084,400\n",
      "4. Iceland Vodka (VODKA) - Current Quarter Revenue: $120,239,700\n",
      "\n",
      "These products have shown varying revenue trends over the current quarter. If you would like more detailed insights or specific analysis on any of these products, please let me know.\n"
     ]
    }
   ],
   "source": [
    "print(sales_responses[2])"
   ]
  },
  {
   "cell_type": "code",
   "execution_count": 165,
   "metadata": {},
   "outputs": [],
   "source": [
    "# Function to escape newlines\n",
    "def escape_newlines(text):\n",
    "    return text.replace('\\n', '\\\\n')\n",
    "\n",
    "with open('outputs/sales.csv', 'w', newline='', encoding='utf-8') as fopen:\n",
    "    writer = csv.writer(fopen, quoting=csv.QUOTE_MINIMAL)\n",
    "    \n",
    "    # Write header if the file is empty\n",
    "    fopen.seek(0, os.SEEK_END)\n",
    "    if fopen.tell() == 0:\n",
    "        writer.writerow(['id', 'prompt', 'response'])\n",
    "\n",
    "    # Write each question and response to the CSV file\n",
    "    for idx in range(len(location_responses)):\n",
    "        writer.writerow(\n",
    "            [\n",
    "                idx + 1, \n",
    "                escape_newlines(sales_questions[idx]), \n",
    "                escape_newlines(sales_responses[idx])\n",
    "            ]\n",
    "        )"
   ]
  },
  {
   "cell_type": "markdown",
   "metadata": {},
   "source": [
    "## Top Product by Quantity Sold"
   ]
  },
  {
   "cell_type": "code",
   "execution_count": 177,
   "metadata": {},
   "outputs": [
    {
     "data": {
      "text/html": [
       "<div>\n",
       "<style scoped>\n",
       "    .dataframe tbody tr th:only-of-type {\n",
       "        vertical-align: middle;\n",
       "    }\n",
       "\n",
       "    .dataframe tbody tr th {\n",
       "        vertical-align: top;\n",
       "    }\n",
       "\n",
       "    .dataframe thead th {\n",
       "        text-align: right;\n",
       "    }\n",
       "</style>\n",
       "<table border=\"1\" class=\"dataframe\">\n",
       "  <thead>\n",
       "    <tr style=\"text-align: right;\">\n",
       "      <th></th>\n",
       "      <th>clean_product_name</th>\n",
       "      <th>year</th>\n",
       "      <th>month</th>\n",
       "      <th>week</th>\n",
       "      <th>total_amount</th>\n",
       "      <th>quantity</th>\n",
       "    </tr>\n",
       "  </thead>\n",
       "  <tbody>\n",
       "    <tr>\n",
       "      <th>3595</th>\n",
       "      <td>kawa kawa anggur hijau</td>\n",
       "      <td>2024</td>\n",
       "      <td>1</td>\n",
       "      <td>1</td>\n",
       "      <td>140173.195980</td>\n",
       "      <td>557</td>\n",
       "    </tr>\n",
       "    <tr>\n",
       "      <th>340</th>\n",
       "      <td>anggur merah gold</td>\n",
       "      <td>2024</td>\n",
       "      <td>1</td>\n",
       "      <td>1</td>\n",
       "      <td>131484.556314</td>\n",
       "      <td>395</td>\n",
       "    </tr>\n",
       "    <tr>\n",
       "      <th>457</th>\n",
       "      <td>api anggur hijau</td>\n",
       "      <td>2024</td>\n",
       "      <td>1</td>\n",
       "      <td>1</td>\n",
       "      <td>164322.362245</td>\n",
       "      <td>292</td>\n",
       "    </tr>\n",
       "    <tr>\n",
       "      <th>296</th>\n",
       "      <td>anggur merah</td>\n",
       "      <td>2024</td>\n",
       "      <td>1</td>\n",
       "      <td>1</td>\n",
       "      <td>118656.692308</td>\n",
       "      <td>231</td>\n",
       "    </tr>\n",
       "    <tr>\n",
       "      <th>1125</th>\n",
       "      <td>bintang kaleng</td>\n",
       "      <td>2024</td>\n",
       "      <td>1</td>\n",
       "      <td>1</td>\n",
       "      <td>222735.696429</td>\n",
       "      <td>224</td>\n",
       "    </tr>\n",
       "  </tbody>\n",
       "</table>\n",
       "</div>"
      ],
      "text/plain": [
       "          clean_product_name  year  month  week   total_amount  quantity\n",
       "3595  kawa kawa anggur hijau  2024      1     1  140173.195980       557\n",
       "340        anggur merah gold  2024      1     1  131484.556314       395\n",
       "457         api anggur hijau  2024      1     1  164322.362245       292\n",
       "296             anggur merah  2024      1     1  118656.692308       231\n",
       "1125          bintang kaleng  2024      1     1  222735.696429       224"
      ]
     },
     "execution_count": 177,
     "metadata": {},
     "output_type": "execute_result"
    }
   ],
   "source": [
    "# Top Product by Quantity Sold\n",
    "tpqs = iseller_data.groupby(['clean_product_name', 'year', 'month', 'week']).agg({'total_amount': 'mean', 'quantity': 'sum'}).reset_index()\\\n",
    "        .sort_values(by='quantity', ascending=False).sort_values(by=[\"year\", \"month\", \"week\"])\n",
    "tpqs.head()"
   ]
  },
  {
   "cell_type": "code",
   "execution_count": 191,
   "metadata": {},
   "outputs": [],
   "source": [
    "conn = sqlalchemy.create_engine('sqlite:////Users/davidrinaldi/Documents/Projects/myk-dashboard/dev/data/temp3.db')\n",
    "tpqs.to_sql('top_product_by_quantity_sold', conn, if_exists='replace', index=False)\n",
    "db = SQLDatabase.from_uri(\"sqlite:///data/temp3.db\")"
   ]
  },
  {
   "cell_type": "code",
   "execution_count": 193,
   "metadata": {},
   "outputs": [],
   "source": [
    "tpqs_agent = create_sql_agent(query_llm, db=db, agent_type=\"openai-tools\", verbose=True)"
   ]
  },
  {
   "cell_type": "code",
   "execution_count": 199,
   "metadata": {},
   "outputs": [
    {
     "name": "stdout",
     "output_type": "stream",
     "text": [
      "\n",
      "\n",
      "\u001b[1m> Entering new SQL Agent Executor chain...\u001b[0m\n",
      "\u001b[32;1m\u001b[1;3m\n",
      "Invoking: `sql_db_list_tables` with `{}`\n",
      "\n",
      "\n",
      "\u001b[0m\u001b[38;5;200m\u001b[1;3mtop_product_by_quantity_sold\u001b[0m\u001b[32;1m\u001b[1;3m\n",
      "Invoking: `sql_db_schema` with `{'table_names': 'top_product_by_quantity_sold'}`\n",
      "\n",
      "\n",
      "\u001b[0m\u001b[33;1m\u001b[1;3m\n",
      "CREATE TABLE top_product_by_quantity_sold (\n",
      "\tclean_product_name TEXT, \n",
      "\tyear BIGINT, \n",
      "\tmonth BIGINT, \n",
      "\tweek BIGINT, \n",
      "\ttotal_amount FLOAT, \n",
      "\tquantity BIGINT\n",
      ")\n",
      "\n",
      "/*\n",
      "3 rows from top_product_by_quantity_sold table:\n",
      "clean_product_name\tyear\tmonth\tweek\ttotal_amount\tquantity\n",
      "kawa kawa anggur hijau\t2024\t1\t1\t140173.1959798995\t557\n",
      "anggur merah gold\t2024\t1\t1\t131484.55631399318\t395\n",
      "api anggur hijau\t2024\t1\t1\t164322.36224489796\t292\n",
      "*/\u001b[0m\u001b[32;1m\u001b[1;3m1. What are the top products by total amount sold in a specific year?\n",
      "2. Can you provide the distribution of quantities sold for different products across months and weeks?\n",
      "3. How does the total amount sold vary for products with different names? \n",
      "<EOF>\u001b[0m\n",
      "\n",
      "\u001b[1m> Finished chain.\u001b[0m\n",
      "1. What are the top products by total amount sold in a specific year?\n",
      "2. Can you provide the distribution of quantities sold for different products across months and weeks?\n",
      "3. How does the total amount sold vary for products with different names? \n",
      "<EOF>\n"
     ]
    }
   ],
   "source": [
    "response = tpqs_agent.invoke(\n",
    "    \"\"\"\n",
    "    Generate only three additional prompts that could be asked to understand or analysis the data.\n",
    "        Output the three prompts in list format counting up from 1 (1. prompt\\n 2. prompt\\n 3. prompt\\n). \n",
    "        Generate only the prompts in the list, exclude their index.\n",
    "        End the response with <EOF>.\n",
    "        Do not respond with an empty result or say \"I don't know\".\n",
    "    \"\"\"\n",
    ")\n",
    "print(response['output'])"
   ]
  },
  {
   "cell_type": "code",
   "execution_count": 200,
   "metadata": {},
   "outputs": [
    {
     "data": {
      "text/plain": [
       "['1. What are the top products by total amount sold in a specific year?',\n",
       " '2. Can you provide the distribution of quantities sold for different products across months and weeks?',\n",
       " '3. How does the total amount sold vary for products with different names? ']"
      ]
     },
     "execution_count": 200,
     "metadata": {},
     "output_type": "execute_result"
    }
   ],
   "source": [
    "tpqs_questions = response['output'].split('<EOF>')[0].split('\\n')[:3]\n",
    "tpqs_questions"
   ]
  },
  {
   "cell_type": "code",
   "execution_count": 201,
   "metadata": {},
   "outputs": [],
   "source": [
    "# create location answer model\n",
    "tpqs_query = create_sql_agent(analysis_llm, db=db, agent_type=\"tool-calling\")"
   ]
  },
  {
   "cell_type": "code",
   "execution_count": 202,
   "metadata": {},
   "outputs": [
    {
     "name": "stdout",
     "output_type": "stream",
     "text": [
      "1. What are the top products by total amount sold in a specific year?\n",
      "2. Can you provide the distribution of quantities sold for different products across months and weeks?\n",
      "3. How does the total amount sold vary for products with different names? \n"
     ]
    }
   ],
   "source": [
    "tpqs_responses = []\n",
    "for question in tpqs_questions:\n",
    "    print(question)\n",
    "    response = tpqs_query.invoke(question)\n",
    "    tpqs_responses.append(response['output'])"
   ]
  },
  {
   "cell_type": "code",
   "execution_count": 203,
   "metadata": {},
   "outputs": [
    {
     "name": "stdout",
     "output_type": "stream",
     "text": [
      "The top products by total amount sold in the year 2024 are as follows:\n",
      "1. Product: Hibiki Japanese Harmony, Total Amount Sold: $5,377,000.00\n",
      "2. Product: Hibiki Japanese Harmony, Total Amount Sold: $4,887,000.00\n",
      "3. Product: Nikka Whisky From The Barrel Japanese Whisky, Total Amount Sold: $4,545,016.00\n",
      "4. Product: Ballantines Blended Scotch Whisky, Total Amount Sold: $4,545,016.00\n",
      "5. Product: Jack Daniel's No.7, Total Amount Sold: $4,259,000.00\n",
      "6. Product: Hennessy VSOP, Total Amount Sold: $4,196,000.00\n",
      "7. Product: Monkey Shoulder, Total Amount Sold: $3,947,000.00\n",
      "8. Product: Sababay Mascetti, Total Amount Sold: $3,944,000.00\n",
      "9. Product: Roku Gin, Total Amount Sold: $3,937,000.00\n",
      "10. Product: Martell VSOP, Total Amount Sold: $3,832,488.00\n"
     ]
    }
   ],
   "source": [
    "print(tpqs_responses[0])"
   ]
  },
  {
   "cell_type": "code",
   "execution_count": 204,
   "metadata": {},
   "outputs": [
    {
     "name": "stdout",
     "output_type": "stream",
     "text": [
      "The distribution of quantities sold for different products across months and weeks is as follows:\n",
      "\n",
      "1. Product: \"kawa kawa anggur hijau\", Year: 2024, Month: 1, Week: 1, Quantity Sold: 557\n",
      "2. Product: \"anggur merah gold\", Year: 2024, Month: 1, Week: 1, Quantity Sold: 395\n",
      "3. Product: \"api anggur hijau\", Year: 2024, Month: 1, Week: 1, Quantity Sold: 292\n",
      "4. Product: \"anggur merah\", Year: 2024, Month: 1, Week: 1, Quantity Sold: 231\n",
      "5. Product: \"bintang kaleng\", Year: 2024, Month: 1, Week: 1, Quantity Sold: 224\n",
      "6. Product: \"(es batu) crystalline cup\", Year: 2024, Month: 1, Week: 1, Quantity Sold: 205\n",
      "7. Product: \"draft beer kaleng\", Year: 2024, Month: 1, Week: 1, Quantity Sold: 202\n",
      "8. Product: \"anggur ginseng intisari\", Year: 2024, Month: 1, Week: 1, Quantity Sold: 192\n",
      "9. Product: \"bintang botol\", Year: 2024, Month: 1, Week: 1, Quantity Sold: 181\n",
      "10. Product: \"iceland vodka\", Year: 2024, Month: 1, Week: 1, Quantity Sold: 173\n",
      "\n",
      "These are the top 10 products with their quantities sold across different months and weeks.\n"
     ]
    }
   ],
   "source": [
    "print(tpqs_responses[1])"
   ]
  },
  {
   "cell_type": "code",
   "execution_count": 205,
   "metadata": {},
   "outputs": [
    {
     "name": "stdout",
     "output_type": "stream",
     "text": [
      "The total amount sold varies for products with different names. Here are the top 10 products based on the total amount sold:\n",
      "\n",
      "1. Hennessy VSOP - $35,864,390.67\n",
      "2. Martell VSOP - $30,219,499.59\n",
      "3. Hibiki Japanese Harmony - $24,804,258.00\n",
      "4. Glenfiddich 12yo - $24,730,651.99\n",
      "5. JW Black Label - $22,612,401.42\n",
      "6. Chivas 12yo - $22,505,771.37\n",
      "7. Grey Goose - $21,013,684.14\n",
      "8. Singleton Glen Ord 12yo - $20,713,785.84\n",
      "9. Singleton Luscious Nectar 12yo - $20,285,419.99\n",
      "10. Glenlivet 12yo - $18,603,922.42\n"
     ]
    }
   ],
   "source": [
    "print(tpqs_responses[2])"
   ]
  }
 ],
 "metadata": {
  "kernelspec": {
   "display_name": "Python 3",
   "language": "python",
   "name": "python3"
  },
  "language_info": {
   "codemirror_mode": {
    "name": "ipython",
    "version": 3
   },
   "file_extension": ".py",
   "mimetype": "text/x-python",
   "name": "python",
   "nbconvert_exporter": "python",
   "pygments_lexer": "ipython3",
   "version": "3.12.2"
  }
 },
 "nbformat": 4,
 "nbformat_minor": 2
}
