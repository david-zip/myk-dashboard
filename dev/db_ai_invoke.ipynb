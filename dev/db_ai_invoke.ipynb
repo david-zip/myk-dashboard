{
 "cells": [
  {
   "cell_type": "code",
   "execution_count": 1,
   "metadata": {},
   "outputs": [
    {
     "name": "stdout",
     "output_type": "stream",
     "text": [
      "\n",
      "\u001b[1m[\u001b[0m\u001b[34;49mnotice\u001b[0m\u001b[1;39;49m]\u001b[0m\u001b[39;49m A new release of pip is available: \u001b[0m\u001b[31;49m24.0\u001b[0m\u001b[39;49m -> \u001b[0m\u001b[32;49m24.1\u001b[0m\n",
      "\u001b[1m[\u001b[0m\u001b[34;49mnotice\u001b[0m\u001b[1;39;49m]\u001b[0m\u001b[39;49m To update, run: \u001b[0m\u001b[32;49mpip3 install --upgrade pip\u001b[0m\n",
      "\n",
      "\u001b[1m[\u001b[0m\u001b[34;49mnotice\u001b[0m\u001b[1;39;49m]\u001b[0m\u001b[39;49m A new release of pip is available: \u001b[0m\u001b[31;49m24.0\u001b[0m\u001b[39;49m -> \u001b[0m\u001b[32;49m24.1\u001b[0m\n",
      "\u001b[1m[\u001b[0m\u001b[34;49mnotice\u001b[0m\u001b[1;39;49m]\u001b[0m\u001b[39;49m To update, run: \u001b[0m\u001b[32;49mpip3 install --upgrade pip\u001b[0m\n",
      "\n",
      "\u001b[1m[\u001b[0m\u001b[34;49mnotice\u001b[0m\u001b[1;39;49m]\u001b[0m\u001b[39;49m A new release of pip is available: \u001b[0m\u001b[31;49m24.0\u001b[0m\u001b[39;49m -> \u001b[0m\u001b[32;49m24.1\u001b[0m\n",
      "\u001b[1m[\u001b[0m\u001b[34;49mnotice\u001b[0m\u001b[1;39;49m]\u001b[0m\u001b[39;49m To update, run: \u001b[0m\u001b[32;49mpip3 install --upgrade pip\u001b[0m\n",
      "\n",
      "\u001b[1m[\u001b[0m\u001b[34;49mnotice\u001b[0m\u001b[1;39;49m]\u001b[0m\u001b[39;49m A new release of pip is available: \u001b[0m\u001b[31;49m24.0\u001b[0m\u001b[39;49m -> \u001b[0m\u001b[32;49m24.1\u001b[0m\n",
      "\u001b[1m[\u001b[0m\u001b[34;49mnotice\u001b[0m\u001b[1;39;49m]\u001b[0m\u001b[39;49m To update, run: \u001b[0m\u001b[32;49mpip3 install --upgrade pip\u001b[0m\n"
     ]
    }
   ],
   "source": [
    "!pip3 install --upgrade langchain langchain_experimental openai --quiet \n",
    "!pip3 install --upgrade matplotlib --quiet\n",
    "!pip3 install --upgrade pandas --quiet\n",
    "!pip3 install --upgrade sqlalchemy --quiet"
   ]
  },
  {
   "cell_type": "code",
   "execution_count": 2,
   "metadata": {},
   "outputs": [],
   "source": [
    "import os\n",
    "import csv\n",
    "import pandas as pd\n",
    "from datetime import datetime\n",
    "from langchain_openai import OpenAI\n",
    "from langchain_community.utilities import SQLDatabase\n",
    "from langchain_community.agent_toolkits import create_sql_agent\n",
    "import sqlalchemy"
   ]
  },
  {
   "cell_type": "code",
   "execution_count": 3,
   "metadata": {},
   "outputs": [],
   "source": [
    "# initialise sql engine\n",
    "conn = sqlalchemy.create_engine('sqlite:////Users/davidrinaldi/Documents/Projects/myk-dashboard/dev/data/full_iseller_data.db')"
   ]
  },
  {
   "cell_type": "code",
   "execution_count": 4,
   "metadata": {},
   "outputs": [],
   "source": [
    "def WeekOfMonth(date):\n",
    "    first_day_of_month = date.replace(day=1)\n",
    "    day_of_week_first_day = first_day_of_month.weekday()\n",
    "    week_number = (date.day + day_of_week_first_day - 1) // 7 + 1\n",
    "    return week_number"
   ]
  },
  {
   "cell_type": "code",
   "execution_count": 5,
   "metadata": {},
   "outputs": [],
   "source": [
    "# import csv and convert to db\n",
    "iseller_data = pd.read_excel('/Users/davidrinaldi/Documents/Projects/myk-dashboard/data/full_iseller_data.xlsx')\n",
    "# add order date data\n",
    "iseller_data['closed_date'] = pd.to_datetime(iseller_data['closed_date'])# + pd.Timedelta(hours=7)\n",
    "iseller_data['hour'] = iseller_data['closed_date'].dt.hour\n",
    "iseller_data['day'] = iseller_data['closed_date'].dt.day\n",
    "iseller_data['month'] = iseller_data['closed_date'].dt.month\n",
    "iseller_data['week'] = iseller_data['closed_date'].dt.isocalendar().week\n",
    "iseller_data['year'] = iseller_data['closed_date'].dt.year\n",
    "iseller_data['quarter'] = iseller_data['closed_date'].dt.quarter\n",
    "iseller_data['order_date'] = pd.to_datetime(iseller_data['closed_date'])\n",
    "iseller_data['week_of_month'] = iseller_data['closed_date'].apply(WeekOfMonth)\n",
    "iseller_data['month_name'] = iseller_data['closed_date'].dt.strftime('%B')\n",
    "iseller_data['quarter_year'] = iseller_data.apply(lambda row: f\"Q{row['quarter']}-{row['year']}\", axis=1)"
   ]
  },
  {
   "cell_type": "code",
   "execution_count": 6,
   "metadata": {},
   "outputs": [],
   "source": [
    "#db = SQLDatabase.from_uri(\"sqlite:///data/full_iseller_data.db\")\n"
   ]
  },
  {
   "cell_type": "code",
   "execution_count": 7,
   "metadata": {},
   "outputs": [],
   "source": [
    "from langchain_community.agent_toolkits import create_sql_agent\n",
    "from langchain_openai import ChatOpenAI, OpenAI\n",
    "\n",
    "query_llm = ChatOpenAI(model=\"gpt-3.5-turbo\", temperature=0.9)\n",
    "analysis_llm = ChatOpenAI(model=\"gpt-3.5-turbo\", temperature=0.1)"
   ]
  },
  {
   "cell_type": "markdown",
   "metadata": {},
   "source": [
    "## location table"
   ]
  },
  {
   "cell_type": "code",
   "execution_count": 8,
   "metadata": {},
   "outputs": [],
   "source": [
    "# initialise location tables\n",
    "from scripts.utils import generate_location_df\n",
    "\n",
    "conn = sqlalchemy.create_engine('sqlite:////Users/davidrinaldi/Documents/Projects/myk-dashboard/dev/data/temp.db')\n",
    "location_df = generate_location_df(iseller_data)\n",
    "location_df.to_sql('locations', conn, if_exists='replace', index=False)\n",
    "db = SQLDatabase.from_uri(\"sqlite:///data/temp.db\")\n"
   ]
  },
  {
   "cell_type": "code",
   "execution_count": 9,
   "metadata": {},
   "outputs": [],
   "source": [
    "location_agent = create_sql_agent(query_llm, db=db, agent_type=\"openai-tools\", verbose=True)"
   ]
  },
  {
   "cell_type": "code",
   "execution_count": 10,
   "metadata": {},
   "outputs": [
    {
     "name": "stdout",
     "output_type": "stream",
     "text": [
      "\n",
      "\n",
      "\u001b[1m> Entering new SQL Agent Executor chain...\u001b[0m\n",
      "\u001b[32;1m\u001b[1;3m\n",
      "Invoking: `sql_db_list_tables` with `{}`\n",
      "\n",
      "\n",
      "\u001b[0m\u001b[38;5;200m\u001b[1;3mlocations\u001b[0m\u001b[32;1m\u001b[1;3m\n",
      "Invoking: `sql_db_schema` with `{'table_names': 'locations'}`\n",
      "\n",
      "\n",
      "\u001b[0m\u001b[33;1m\u001b[1;3m\n",
      "CREATE TABLE locations (\n",
      "\toutlet_name TEXT, \n",
      "\tyear INTEGER, \n",
      "\tmonth_name TEXT, \n",
      "\tmonth INTEGER, \n",
      "\tquantity BIGINT, \n",
      "\tquantity_diff FLOAT, \n",
      "\tgrowth_rate FLOAT\n",
      ")\n",
      "\n",
      "/*\n",
      "3 rows from locations table:\n",
      "outlet_name\tyear\tmonth_name\tmonth\tquantity\tquantity_diff\tgrowth_rate\n",
      "Ayam! Alun-Alun BKS\t2024\tMarch\t3\t172\tNone\tNone\n",
      "Ayam! Alun-Alun BKS\t2024\tApril\t4\t134\t-38.0\t-22.093023255813954\n",
      "Ayam! Alun-Alun BKS\t2024\tMay\t5\t23\t-111.0\t-82.83582089552239\n",
      "*/\u001b[0m\u001b[32;1m\u001b[1;3m1. Which outlet had the highest quantity of products sold in a single month?\n",
      "2. How does the growth rate differ between outlets in different years?\n",
      "3. Is there a specific month where most outlets experienced a decrease in quantity compared to the previous month?\n",
      "<EOF>\u001b[0m\n",
      "\n",
      "\u001b[1m> Finished chain.\u001b[0m\n",
      "1. Which outlet had the highest quantity of products sold in a single month?\n",
      "2. How does the growth rate differ between outlets in different years?\n",
      "3. Is there a specific month where most outlets experienced a decrease in quantity compared to the previous month?\n",
      "<EOF>\n"
     ]
    }
   ],
   "source": [
    "response = location_agent.invoke(\n",
    "    \"\"\"\n",
    "    Generate only three additional prompts that could be asked to understand or analysis the data.\n",
    "        Output the three prompts in list format counting up from 1 (1. prompt\\n 2. prompt\\n 3. prompt\\n). \n",
    "        Generate only the prompts in the list, exclude their index.\n",
    "        End the response with <EOF>.\n",
    "        Do not respond with an empty result or say \"I don't know\".\n",
    "    \"\"\"\n",
    ")\n",
    "print(response['output'])"
   ]
  },
  {
   "cell_type": "code",
   "execution_count": 11,
   "metadata": {},
   "outputs": [
    {
     "data": {
      "text/plain": [
       "['1. Which outlet had the highest quantity of products sold in a single month?',\n",
       " '2. How does the growth rate differ between outlets in different years?',\n",
       " '3. Is there a specific month where most outlets experienced a decrease in quantity compared to the previous month?']"
      ]
     },
     "execution_count": 11,
     "metadata": {},
     "output_type": "execute_result"
    }
   ],
   "source": [
    "location_questions = response['output'].split('<EOF>')[0].split('\\n')[:3]\n",
    "location_questions"
   ]
  },
  {
   "cell_type": "code",
   "execution_count": 12,
   "metadata": {},
   "outputs": [],
   "source": [
    "# create location answer model\n",
    "location_query = create_sql_agent(analysis_llm, db=db, agent_type=\"tool-calling\")"
   ]
  },
  {
   "cell_type": "code",
   "execution_count": 13,
   "metadata": {},
   "outputs": [
    {
     "name": "stdout",
     "output_type": "stream",
     "text": [
      "1. Which outlet had the highest quantity of products sold in a single month?\n",
      "2. How does the growth rate differ between outlets in different years?\n",
      "3. Is there a specific month where most outlets experienced a decrease in quantity compared to the previous month?\n"
     ]
    }
   ],
   "source": [
    "location_responses = []\n",
    "for question in location_questions:\n",
    "    print(question)\n",
    "    response = location_query.invoke(question + \"All prices are in IDR\")\n",
    "    location_responses.append(response['output'])\n"
   ]
  },
  {
   "cell_type": "code",
   "execution_count": 14,
   "metadata": {},
   "outputs": [
    {
     "name": "stdout",
     "output_type": "stream",
     "text": [
      "The outlet \"Bekasi - Perjuangan\" had the highest quantity of products sold in a single month, with a quantity of 11,672 products.\n"
     ]
    }
   ],
   "source": [
    "print(location_responses[0])\n",
    "    "
   ]
  },
  {
   "cell_type": "code",
   "execution_count": 15,
   "metadata": {},
   "outputs": [
    {
     "name": "stdout",
     "output_type": "stream",
     "text": [
      "The growth rates for outlets in different years are as follows:\n",
      "\n",
      "1. Outlet: Ayam! Alun-Alun BKS, Year: 2024, Growth Rate: None\n",
      "2. Outlet: Ayam! Alun-Alun BKS, Year: 2024, Growth Rate: -22.09%\n",
      "3. Outlet: Ayam! Alun-Alun BKS, Year: 2024, Growth Rate: -82.84%\n",
      "4. Outlet: Ayam! Dapur Kitchen BKS, Year: 2024, Growth Rate: None\n",
      "5. Outlet: Ayam! Dapur Kitchen BKS, Year: 2024, Growth Rate: -9.56%\n",
      "6. Outlet: Ayam! Dapur Kitchen BKS, Year: 2024, Growth Rate: 58.31%\n",
      "7. Outlet: Ayam! Dapur Kitchen BKS, Year: 2024, Growth Rate: 26.34%\n",
      "8. Outlet: Ayam! Dapur Kitchen BKS, Year: 2024, Growth Rate: -93.05%\n",
      "9. Outlet: Ayam! Libersa Park BKS, Year: 2024, Growth Rate: None\n",
      "10. Outlet: Ayam! Libersa Park BKS, Year: 2024, Growth Rate: 14.05%\n"
     ]
    }
   ],
   "source": [
    "print(location_responses[1])\n"
   ]
  },
  {
   "cell_type": "code",
   "execution_count": 16,
   "metadata": {},
   "outputs": [
    {
     "name": "stdout",
     "output_type": "stream",
     "text": [
      "The month where most outlets experienced a decrease in quantity compared to the previous month is May, with 9 outlets showing a decrease.\n"
     ]
    }
   ],
   "source": [
    "print(location_responses[2])\n"
   ]
  },
  {
   "cell_type": "code",
   "execution_count": 17,
   "metadata": {},
   "outputs": [],
   "source": [
    "# Function to escape newlines\n",
    "def escape_newlines(text):\n",
    "    return text.replace('\\n', '\\\\n')\n",
    "\n",
    "with open('outputs/location.csv', 'w', newline='', encoding='utf-8') as fopen:\n",
    "    writer = csv.writer(fopen, quoting=csv.QUOTE_MINIMAL)\n",
    "    \n",
    "    # Write header if the file is empty\n",
    "    fopen.seek(0, os.SEEK_END)\n",
    "    if fopen.tell() == 0:\n",
    "        writer.writerow(['id', 'prompt', 'response'])\n",
    "\n",
    "    # Write each question and response to the CSV file\n",
    "    for idx in range(len(location_responses)):\n",
    "        writer.writerow(\n",
    "            [\n",
    "                idx + 1, \n",
    "                escape_newlines(location_questions[idx]), \n",
    "                escape_newlines(location_responses[idx])\n",
    "            ]\n",
    "        )"
   ]
  },
  {
   "cell_type": "markdown",
   "metadata": {},
   "source": [
    "## sales table"
   ]
  },
  {
   "cell_type": "code",
   "execution_count": 18,
   "metadata": {},
   "outputs": [],
   "source": [
    "# initialise sales tables\n",
    "from scripts.utils import generate_sales_table\n",
    "\n",
    "conn = sqlalchemy.create_engine('sqlite:////Users/davidrinaldi/Documents/Projects/myk-dashboard/dev/data/temp2.db')\n",
    "sales_df = generate_sales_table(iseller_data)\n",
    "sales_df.to_sql('sales', conn, if_exists='replace', index=False)\n",
    "db = SQLDatabase.from_uri(\"sqlite:///data/temp2.db\")"
   ]
  },
  {
   "cell_type": "code",
   "execution_count": 19,
   "metadata": {},
   "outputs": [],
   "source": [
    "sales_agent = create_sql_agent(query_llm, db=db, agent_type=\"openai-tools\", verbose=True)"
   ]
  },
  {
   "cell_type": "code",
   "execution_count": 20,
   "metadata": {},
   "outputs": [
    {
     "name": "stdout",
     "output_type": "stream",
     "text": [
      "\n",
      "\n",
      "\u001b[1m> Entering new SQL Agent Executor chain...\u001b[0m\n",
      "\u001b[32;1m\u001b[1;3m\n",
      "Invoking: `sql_db_list_tables` with `{}`\n",
      "\n",
      "\n",
      "\u001b[0m\u001b[38;5;200m\u001b[1;3msales\u001b[0m\u001b[32;1m\u001b[1;3m\n",
      "Invoking: `sql_db_schema` with `{'table_names': 'sales'}`\n",
      "\n",
      "\n",
      "\u001b[0m\u001b[33;1m\u001b[1;3m\n",
      "CREATE TABLE sales (\n",
      "\tclean_product_name TEXT, \n",
      "\tproduct_type TEXT, \n",
      "\ttotal_revenue BIGINT, \n",
      "\tcurrent_quarter_revenue FLOAT, \n",
      "\tlast_quarter_revenue FLOAT, \n",
      "\tcurrent_month_revenue FLOAT, \n",
      "\tlast_month_revenue FLOAT, \n",
      "\tquarterly_growth FLOAT, \n",
      "\tmonthly_growth FLOAT, \n",
      "\t\"quarter_Growth(%)\" FLOAT, \n",
      "\t\"Monthly_Growth(%)\" FLOAT\n",
      ")\n",
      "\n",
      "/*\n",
      "3 rows from sales table:\n",
      "clean_product_name\tproduct_type\ttotal_revenue\tcurrent_quarter_revenue\tlast_quarter_revenue\tcurrent_month_revenue\tlast_month_revenue\tquarterly_growth\tmonthly_growth\tquarter_Growth(%)\tMonthly_Growth(%)\n",
      "(es batu) crystalline cup\tREGULAR\t201033098\t55569433.0\t145463665.0\t10521000.0\t45048433.0\t-61.79840993281724\t-76.64513658000047\t-0.45\t-0.62\n",
      "a&w root beer kaleng\tREGULAR\t21235100\t5086300.0\t16148800.0\t89000.0\t4997300.0\t-68.50354205885267\t-98.21903828067157\t-0.52\t-0.97\n",
      "absolut vodka\tVODKA\t51599900\t18173000.0\t33426900.0\t2180000.0\t15993000.0\t-45.63360646664812\t-86.36903645344839\t-0.3\t-0.76\n",
      "*/\u001b[0m\u001b[32;1m\u001b[1;3m1. What are the top three product types by total revenue in the current quarter?\n",
      "2. How much percentage growth has the product \"a&w root beer kaleng\" seen in the last month compared to the previous month?\n",
      "3. Can you provide the products that have experienced negative quarterly growth?  \n",
      "<EOF>\u001b[0m\n",
      "\n",
      "\u001b[1m> Finished chain.\u001b[0m\n",
      "1. What are the top three product types by total revenue in the current quarter?\n",
      "2. How much percentage growth has the product \"a&w root beer kaleng\" seen in the last month compared to the previous month?\n",
      "3. Can you provide the products that have experienced negative quarterly growth?  \n",
      "<EOF>\n"
     ]
    }
   ],
   "source": [
    "response = sales_agent.invoke(\n",
    "    \"\"\"\n",
    "    Generate only three additional prompts that could be asked to understand or analysis the data.\n",
    "        Output the three prompts in list format counting up from 1 (1. prompt\\n 2. prompt\\n 3. prompt\\n). \n",
    "        Generate only the prompts in the list, exclude their index.\n",
    "        End the response with <EOF>.\n",
    "        Do not respond with an empty result or say \"I don't know\".\n",
    "    \"\"\"\n",
    ")\n",
    "print(response['output'])"
   ]
  },
  {
   "cell_type": "code",
   "execution_count": 21,
   "metadata": {},
   "outputs": [
    {
     "data": {
      "text/plain": [
       "['1. What are the top three product types by total revenue in the current quarter?',\n",
       " '2. How much percentage growth has the product \"a&w root beer kaleng\" seen in the last month compared to the previous month?',\n",
       " '3. Can you provide the products that have experienced negative quarterly growth?  ']"
      ]
     },
     "execution_count": 21,
     "metadata": {},
     "output_type": "execute_result"
    }
   ],
   "source": [
    "sales_questions = response['output'].split('<EOF>')[0].split('\\n')[:3]\n",
    "sales_questions"
   ]
  },
  {
   "cell_type": "code",
   "execution_count": 22,
   "metadata": {},
   "outputs": [],
   "source": [
    "# create location answer model\n",
    "sales_query = create_sql_agent(analysis_llm, db=db, agent_type=\"tool-calling\")"
   ]
  },
  {
   "cell_type": "code",
   "execution_count": 23,
   "metadata": {},
   "outputs": [
    {
     "name": "stdout",
     "output_type": "stream",
     "text": [
      "1. What are the top three product types by total revenue in the current quarter?\n",
      "2. How much percentage growth has the product \"a&w root beer kaleng\" seen in the last month compared to the previous month?\n",
      "3. Can you provide the products that have experienced negative quarterly growth?  \n"
     ]
    }
   ],
   "source": [
    "sales_responses = []\n",
    "for question in sales_questions:\n",
    "    print(question)\n",
    "    response = sales_query.invoke(question + \"All prices are in IDR\")\n",
    "    sales_responses.append(response['output'])"
   ]
  },
  {
   "cell_type": "code",
   "execution_count": 24,
   "metadata": {},
   "outputs": [
    {
     "name": "stdout",
     "output_type": "stream",
     "text": [
      "The top three product types by total revenue in the current quarter are:\n",
      "\n",
      "1. WHISKY with total revenue of 2,721,392,800 IDR\n",
      "2. BEER with total revenue of 2,623,261,150 IDR\n",
      "3. ANGGUR with total revenue of 2,444,051,700 IDR\n"
     ]
    }
   ],
   "source": [
    "print(sales_responses[0])"
   ]
  },
  {
   "cell_type": "code",
   "execution_count": 25,
   "metadata": {},
   "outputs": [
    {
     "name": "stdout",
     "output_type": "stream",
     "text": [
      "The product \"a&w root beer kaleng\" has seen a monthly growth rate of -97% in the last month compared to the previous month.\n"
     ]
    }
   ],
   "source": [
    "print(sales_responses[1])"
   ]
  },
  {
   "cell_type": "code",
   "execution_count": 26,
   "metadata": {},
   "outputs": [
    {
     "name": "stdout",
     "output_type": "stream",
     "text": [
      "The products that have experienced negative quarterly growth are as follows:\n",
      "\n",
      "1. Product: (es batu) crystalline cup, Product Type: REGULAR, Quarterly Growth: -61.80%\n",
      "2. Product: a&w root beer kaleng, Product Type: REGULAR, Quarterly Growth: -68.50%\n",
      "3. Product: absolut vodka, Product Type: VODKA, Quarterly Growth: -45.63%\n",
      "4. Product: alexis anggur hijau, Product Type: ANGGUR, Quarterly Growth: -71.64%\n",
      "5. Product: alexis anggur merah, Product Type: ANGGUR, Quarterly Growth: -65.27%\n",
      "6. Product: alva vodka original, Product Type: VODKA, Quarterly Growth: -51.54%\n",
      "7. Product: andong strength soju green tea, Product Type: SOJU, Quarterly Growth: -46.32%\n",
      "8. Product: andong strength soju lychee, Product Type: SOJU, Quarterly Growth: -41.84%\n",
      "9. Product: anggur ginseng intisari, Product Type: ANGGUR, Quarterly Growth: -68.86%\n",
      "10. Product: anggur ginseng intisari, Product Type: WINE, Quarterly Growth: -27.87%\n"
     ]
    }
   ],
   "source": [
    "print(sales_responses[2])"
   ]
  },
  {
   "cell_type": "code",
   "execution_count": 27,
   "metadata": {},
   "outputs": [],
   "source": [
    "# Function to escape newlines\n",
    "def escape_newlines(text):\n",
    "    return text.replace('\\n', '\\\\n')\n",
    "\n",
    "with open('outputs/sales.csv', 'w', newline='', encoding='utf-8') as fopen:\n",
    "    writer = csv.writer(fopen, quoting=csv.QUOTE_MINIMAL)\n",
    "    \n",
    "    # Write header if the file is empty\n",
    "    fopen.seek(0, os.SEEK_END)\n",
    "    if fopen.tell() == 0:\n",
    "        writer.writerow(['id', 'prompt', 'response'])\n",
    "\n",
    "    # Write each question and response to the CSV file\n",
    "    for idx in range(len(location_responses)):\n",
    "        writer.writerow(\n",
    "            [\n",
    "                idx + 1, \n",
    "                escape_newlines(sales_questions[idx]), \n",
    "                escape_newlines(sales_responses[idx])\n",
    "            ]\n",
    "        )"
   ]
  },
  {
   "cell_type": "markdown",
   "metadata": {},
   "source": [
    "## Top Product by Quantity Sold"
   ]
  },
  {
   "cell_type": "code",
   "execution_count": 28,
   "metadata": {},
   "outputs": [
    {
     "data": {
      "text/html": [
       "<div>\n",
       "<style scoped>\n",
       "    .dataframe tbody tr th:only-of-type {\n",
       "        vertical-align: middle;\n",
       "    }\n",
       "\n",
       "    .dataframe tbody tr th {\n",
       "        vertical-align: top;\n",
       "    }\n",
       "\n",
       "    .dataframe thead th {\n",
       "        text-align: right;\n",
       "    }\n",
       "</style>\n",
       "<table border=\"1\" class=\"dataframe\">\n",
       "  <thead>\n",
       "    <tr style=\"text-align: right;\">\n",
       "      <th></th>\n",
       "      <th>clean_product_name</th>\n",
       "      <th>year</th>\n",
       "      <th>month</th>\n",
       "      <th>week</th>\n",
       "      <th>total_amount</th>\n",
       "      <th>quantity</th>\n",
       "    </tr>\n",
       "  </thead>\n",
       "  <tbody>\n",
       "    <tr>\n",
       "      <th>3595</th>\n",
       "      <td>kawa kawa anggur hijau</td>\n",
       "      <td>2024</td>\n",
       "      <td>1</td>\n",
       "      <td>1</td>\n",
       "      <td>140173.195980</td>\n",
       "      <td>557</td>\n",
       "    </tr>\n",
       "    <tr>\n",
       "      <th>340</th>\n",
       "      <td>anggur merah gold</td>\n",
       "      <td>2024</td>\n",
       "      <td>1</td>\n",
       "      <td>1</td>\n",
       "      <td>131484.556314</td>\n",
       "      <td>395</td>\n",
       "    </tr>\n",
       "    <tr>\n",
       "      <th>457</th>\n",
       "      <td>api anggur hijau</td>\n",
       "      <td>2024</td>\n",
       "      <td>1</td>\n",
       "      <td>1</td>\n",
       "      <td>164322.362245</td>\n",
       "      <td>292</td>\n",
       "    </tr>\n",
       "    <tr>\n",
       "      <th>296</th>\n",
       "      <td>anggur merah</td>\n",
       "      <td>2024</td>\n",
       "      <td>1</td>\n",
       "      <td>1</td>\n",
       "      <td>118656.692308</td>\n",
       "      <td>231</td>\n",
       "    </tr>\n",
       "    <tr>\n",
       "      <th>1125</th>\n",
       "      <td>bintang kaleng</td>\n",
       "      <td>2024</td>\n",
       "      <td>1</td>\n",
       "      <td>1</td>\n",
       "      <td>222735.696429</td>\n",
       "      <td>224</td>\n",
       "    </tr>\n",
       "  </tbody>\n",
       "</table>\n",
       "</div>"
      ],
      "text/plain": [
       "          clean_product_name  year  month  week   total_amount  quantity\n",
       "3595  kawa kawa anggur hijau  2024      1     1  140173.195980       557\n",
       "340        anggur merah gold  2024      1     1  131484.556314       395\n",
       "457         api anggur hijau  2024      1     1  164322.362245       292\n",
       "296             anggur merah  2024      1     1  118656.692308       231\n",
       "1125          bintang kaleng  2024      1     1  222735.696429       224"
      ]
     },
     "execution_count": 28,
     "metadata": {},
     "output_type": "execute_result"
    }
   ],
   "source": [
    "# Top Product by Quantity Sold\n",
    "tpqs = iseller_data.groupby(['clean_product_name', 'year', 'month', 'week']).agg({'total_amount': 'mean', 'quantity': 'sum'}).reset_index()\\\n",
    "        .sort_values(by='quantity', ascending=False).sort_values(by=[\"year\", \"month\", \"week\"])\n",
    "tpqs.head()"
   ]
  },
  {
   "cell_type": "code",
   "execution_count": 29,
   "metadata": {},
   "outputs": [],
   "source": [
    "conn = sqlalchemy.create_engine('sqlite:////Users/davidrinaldi/Documents/Projects/myk-dashboard/dev/data/temp3.db')\n",
    "tpqs.to_sql('top_product_by_quantity_sold', conn, if_exists='replace', index=False)\n",
    "db = SQLDatabase.from_uri(\"sqlite:///data/temp3.db\")"
   ]
  },
  {
   "cell_type": "code",
   "execution_count": 30,
   "metadata": {},
   "outputs": [],
   "source": [
    "tpqs_agent = create_sql_agent(query_llm, db=db, agent_type=\"openai-tools\", verbose=True)"
   ]
  },
  {
   "cell_type": "code",
   "execution_count": 31,
   "metadata": {},
   "outputs": [
    {
     "name": "stdout",
     "output_type": "stream",
     "text": [
      "\n",
      "\n",
      "\u001b[1m> Entering new SQL Agent Executor chain...\u001b[0m\n",
      "\u001b[32;1m\u001b[1;3m\n",
      "Invoking: `sql_db_list_tables` with `{}`\n",
      "\n",
      "\n",
      "\u001b[0m\u001b[38;5;200m\u001b[1;3mtop_product_by_quantity_sold\u001b[0m\u001b[32;1m\u001b[1;3m\n",
      "Invoking: `sql_db_schema` with `{'table_names': 'top_product_by_quantity_sold'}`\n",
      "\n",
      "\n",
      "\u001b[0m\u001b[33;1m\u001b[1;3m\n",
      "CREATE TABLE top_product_by_quantity_sold (\n",
      "\tclean_product_name TEXT, \n",
      "\tyear INTEGER, \n",
      "\tmonth INTEGER, \n",
      "\tweek BIGINT, \n",
      "\ttotal_amount FLOAT, \n",
      "\tquantity BIGINT\n",
      ")\n",
      "\n",
      "/*\n",
      "3 rows from top_product_by_quantity_sold table:\n",
      "clean_product_name\tyear\tmonth\tweek\ttotal_amount\tquantity\n",
      "kawa kawa anggur hijau\t2024\t1\t1\t140173.1959798995\t557\n",
      "anggur merah gold\t2024\t1\t1\t131484.55631399318\t395\n",
      "api anggur hijau\t2024\t1\t1\t164322.36224489796\t292\n",
      "*/\u001b[0m\u001b[32;1m\u001b[1;3m1. What is the total amount of sales for each product in a specific year?\n",
      "2. Can we analyze the top-selling product by quantity sold over different months and weeks?\n",
      "3. Is there a correlation between the total amount and quantity of products sold for each product in a given period?\n",
      "<EOF>\u001b[0m\n",
      "\n",
      "\u001b[1m> Finished chain.\u001b[0m\n",
      "1. What is the total amount of sales for each product in a specific year?\n",
      "2. Can we analyze the top-selling product by quantity sold over different months and weeks?\n",
      "3. Is there a correlation between the total amount and quantity of products sold for each product in a given period?\n",
      "<EOF>\n"
     ]
    }
   ],
   "source": [
    "response = tpqs_agent.invoke(\n",
    "    \"\"\"\n",
    "    Generate only three additional prompts that could be asked to understand or analysis the data.\n",
    "        Output the three prompts in list format counting up from 1 (1. prompt\\n 2. prompt\\n 3. prompt\\n). \n",
    "        Generate only the prompts in the list, exclude their index.\n",
    "        End the response with <EOF>.\n",
    "        Do not respond with an empty result or say \"I don't know\".\n",
    "    \"\"\"\n",
    ")\n",
    "print(response['output'])"
   ]
  },
  {
   "cell_type": "code",
   "execution_count": 32,
   "metadata": {},
   "outputs": [
    {
     "data": {
      "text/plain": [
       "['1. What is the total amount of sales for each product in a specific year?',\n",
       " '2. Can we analyze the top-selling product by quantity sold over different months and weeks?',\n",
       " '3. Is there a correlation between the total amount and quantity of products sold for each product in a given period?']"
      ]
     },
     "execution_count": 32,
     "metadata": {},
     "output_type": "execute_result"
    }
   ],
   "source": [
    "tpqs_questions = response['output'].split('<EOF>')[0].split('\\n')[:3]\n",
    "tpqs_questions"
   ]
  },
  {
   "cell_type": "code",
   "execution_count": 33,
   "metadata": {},
   "outputs": [],
   "source": [
    "# create location answer model\n",
    "tpqs_query = create_sql_agent(analysis_llm, db=db, agent_type=\"tool-calling\")"
   ]
  },
  {
   "cell_type": "code",
   "execution_count": 34,
   "metadata": {},
   "outputs": [
    {
     "name": "stdout",
     "output_type": "stream",
     "text": [
      "1. What is the total amount of sales for each product in a specific year?\n",
      "2. Can we analyze the top-selling product by quantity sold over different months and weeks?\n",
      "3. Is there a correlation between the total amount and quantity of products sold for each product in a given period?\n"
     ]
    }
   ],
   "source": [
    "tpqs_responses = []\n",
    "for question in tpqs_questions:\n",
    "    print(question)\n",
    "    response = tpqs_query.invoke(question + \"All prices are in IDR\")\n",
    "    tpqs_responses.append(response['output'])"
   ]
  },
  {
   "cell_type": "code",
   "execution_count": 35,
   "metadata": {},
   "outputs": [
    {
     "name": "stdout",
     "output_type": "stream",
     "text": [
      "The total amount of sales for each product in the year 2024, in IDR, is as follows:\n",
      "\n",
      "1. Product: Chivas 12yo, Total Sales: 22,505,771.37\n",
      "2. Product: Jack Daniel's No.7, Total Sales: 17,077,432.33\n",
      "3. Product: Glenfiddich 12yo, Total Sales: 24,730,651.99\n",
      "4. Product: Hendricks Gin, Total Sales: 9,208,020.25\n",
      "5. Product: Hennessy VSOP, Total Sales: 35,864,390.67\n",
      "6. Product: Grey Goose, Total Sales: 21,013,684.14\n",
      "7. Product: Bombay Sapphire, Total Sales: 12,256,864.08\n",
      "8. Product: Monkey Shoulder, Total Sales: 16,176,142.15\n",
      "9. Product: Johnnie Walker Black Label, Total Sales: 22,612,401.42\n",
      "10. Product: Martell VSOP, Total Sales: 30,219,499.59\n",
      "\n",
      "These are the top 10 products with the highest total sales in the year 2024.\n"
     ]
    }
   ],
   "source": [
    "print(tpqs_responses[0])"
   ]
  },
  {
   "cell_type": "code",
   "execution_count": 36,
   "metadata": {},
   "outputs": [
    {
     "name": "stdout",
     "output_type": "stream",
     "text": [
      "The top-selling product by quantity sold over different months and weeks are as follows:\n",
      "\n",
      "1. Product: kawa kawa anggur hijau, Year: 2024, Month: 3, Week: 10, Quantity: 624\n",
      "2. Product: kawa kawa anggur hijau, Year: 2024, Month: 1, Week: 1, Quantity: 557\n",
      "3. Product: kawa kawa anggur hijau, Year: 2024, Month: 2, Week: 8, Quantity: 534\n",
      "4. Product: kawa kawa anggur hijau, Year: 2024, Month: 2, Week: 6, Quantity: 520\n",
      "5. Product: kawa kawa anggur hijau, Year: 2024, Month: 4, Week: 17, Quantity: 455\n",
      "6. Product: (es batu) crystalline cup, Year: 2024, Month: 2, Week: 6, Quantity: 437\n",
      "7. Product: kawa kawa anggur hijau, Year: 2024, Month: 2, Week: 5, Quantity: 435\n",
      "8. Product: kawa kawa anggur hijau, Year: 2024, Month: 3, Week: 9, Quantity: 415\n",
      "9. Product: kawa kawa anggur hijau, Year: 2024, Month: 3, Week: 13, Quantity: 407\n",
      "10. Product: draft beer kaleng, Year: 2024, Month: 2, Week: 6, Quantity: 399\n",
      "\n",
      "These are the top-selling products based on quantity sold over different months and weeks.\n"
     ]
    }
   ],
   "source": [
    "print(tpqs_responses[1])"
   ]
  },
  {
   "cell_type": "code",
   "execution_count": 37,
   "metadata": {},
   "outputs": [
    {
     "name": "stdout",
     "output_type": "stream",
     "text": [
      "Based on the data from the table \"top_product_by_quantity_sold\", there seems to be a correlation between the total amount and quantity of products sold for each product in a given period. Here are some examples:\n",
      "\n",
      "1. Product: \"kawa kawa anggur hijau\"\n",
      "   - Total Amount: 140173.20 IDR\n",
      "   - Quantity: 557\n",
      "\n",
      "2. Product: \"anggur merah gold\"\n",
      "   - Total Amount: 131484.56 IDR\n",
      "   - Quantity: 395\n",
      "\n",
      "3. Product: \"api anggur hijau\"\n",
      "   - Total Amount: 164322.36 IDR\n",
      "   - Quantity: 292\n",
      "\n",
      "The correlation between the total amount and quantity sold for each product can be further analyzed by examining more data points from the table.\n"
     ]
    }
   ],
   "source": [
    "print(tpqs_responses[2])"
   ]
  },
  {
   "cell_type": "code",
   "execution_count": 38,
   "metadata": {},
   "outputs": [],
   "source": [
    "# Function to escape newlines\n",
    "def escape_newlines(text):\n",
    "    return text.replace('\\n', '\\\\n')\n",
    "\n",
    "with open('outputs/tpqs.csv', 'w', newline='', encoding='utf-8') as fopen:\n",
    "    writer = csv.writer(fopen, quoting=csv.QUOTE_MINIMAL)\n",
    "    \n",
    "    # Write header if the file is empty\n",
    "    fopen.seek(0, os.SEEK_END)\n",
    "    if fopen.tell() == 0:\n",
    "        writer.writerow(['id', 'prompt', 'response'])\n",
    "\n",
    "    # Write each question and response to the CSV file\n",
    "    for idx in range(len(tpqs_responses)):\n",
    "        writer.writerow(\n",
    "            [\n",
    "                idx + 1, \n",
    "                escape_newlines(tpqs_questions[idx]), \n",
    "                escape_newlines(tpqs_responses[idx])\n",
    "            ]\n",
    "        )"
   ]
  },
  {
   "cell_type": "markdown",
   "metadata": {},
   "source": [
    "## top product by category sold"
   ]
  },
  {
   "cell_type": "code",
   "execution_count": 39,
   "metadata": {},
   "outputs": [],
   "source": [
    "# Top Product by Category Sold\n",
    "# Get average price of category too \n",
    "\n",
    "tpcs = iseller_data.groupby(['product_type',  'year', 'month', 'week']).agg({'total_amount': 'mean', 'quantity': 'sum'}).reset_index()\\\n",
    "        .sort_values(by='quantity', ascending=False).sort_values(by=[\"year\", \"month\", \"week\"])"
   ]
  },
  {
   "cell_type": "code",
   "execution_count": 40,
   "metadata": {},
   "outputs": [],
   "source": [
    "conn = sqlalchemy.create_engine('sqlite:////Users/davidrinaldi/Documents/Projects/myk-dashboard/dev/data/temp4.db')\n",
    "tpqs.to_sql('top_product_by_category_sold', conn, if_exists='replace', index=False)\n",
    "db = SQLDatabase.from_uri(\"sqlite:///data/temp4.db\")"
   ]
  },
  {
   "cell_type": "code",
   "execution_count": 41,
   "metadata": {},
   "outputs": [],
   "source": [
    "tpcs_agent = create_sql_agent(query_llm, db=db, agent_type=\"openai-tools\", verbose=True)"
   ]
  },
  {
   "cell_type": "code",
   "execution_count": 42,
   "metadata": {},
   "outputs": [
    {
     "name": "stdout",
     "output_type": "stream",
     "text": [
      "\n",
      "\n",
      "\u001b[1m> Entering new SQL Agent Executor chain...\u001b[0m\n",
      "\u001b[32;1m\u001b[1;3m\n",
      "Invoking: `sql_db_list_tables` with `{}`\n",
      "\n",
      "\n",
      "\u001b[0m\u001b[38;5;200m\u001b[1;3mtop_product_by_category_sold\u001b[0m\u001b[32;1m\u001b[1;3m\n",
      "Invoking: `sql_db_schema` with `{'table_names': 'top_product_by_category_sold'}`\n",
      "\n",
      "\n",
      "\u001b[0m\u001b[33;1m\u001b[1;3m\n",
      "CREATE TABLE top_product_by_category_sold (\n",
      "\tclean_product_name TEXT, \n",
      "\tyear INTEGER, \n",
      "\tmonth INTEGER, \n",
      "\tweek BIGINT, \n",
      "\ttotal_amount FLOAT, \n",
      "\tquantity BIGINT\n",
      ")\n",
      "\n",
      "/*\n",
      "3 rows from top_product_by_category_sold table:\n",
      "clean_product_name\tyear\tmonth\tweek\ttotal_amount\tquantity\n",
      "kawa kawa anggur hijau\t2024\t1\t1\t140173.1959798995\t557\n",
      "anggur merah gold\t2024\t1\t1\t131484.55631399318\t395\n",
      "api anggur hijau\t2024\t1\t1\t164322.36224489796\t292\n",
      "*/\u001b[0m\u001b[32;1m\u001b[1;3m1. What are the top products sold by category in the year 2024?\n",
      "\n",
      "2. How does the total amount spent compare for the top products in different months of the year?\n",
      "\n",
      "3. Is there a noticeable trend in the quantity of the top products sold across different weeks in 2024?\n",
      "\n",
      "<EOF>\u001b[0m\n",
      "\n",
      "\u001b[1m> Finished chain.\u001b[0m\n",
      "1. What are the top products sold by category in the year 2024?\n",
      "\n",
      "2. How does the total amount spent compare for the top products in different months of the year?\n",
      "\n",
      "3. Is there a noticeable trend in the quantity of the top products sold across different weeks in 2024?\n",
      "\n",
      "<EOF>\n"
     ]
    }
   ],
   "source": [
    "response = tpcs_agent.invoke(\n",
    "    \"\"\"\n",
    "    Generate only three additional prompts that could be asked to understand or analysis the data.\n",
    "        Output the three prompts in list format counting up from 1 (1. prompt\\n 2. prompt\\n 3. prompt\\n). \n",
    "        Generate only the prompts in the list, exclude their index.\n",
    "        End the response with <EOF>.\n",
    "        Do not respond with an empty result or say \"I don't know\".\n",
    "    \"\"\"\n",
    ")\n",
    "print(response['output'])"
   ]
  },
  {
   "cell_type": "code",
   "execution_count": 43,
   "metadata": {},
   "outputs": [
    {
     "data": {
      "text/plain": [
       "['1. What are the top products sold by category in the year 2024?',\n",
       " '',\n",
       " '2. How does the total amount spent compare for the top products in different months of the year?']"
      ]
     },
     "execution_count": 43,
     "metadata": {},
     "output_type": "execute_result"
    }
   ],
   "source": [
    "tpcs_questions = response['output'].split('<EOF>')[0].split('\\n')[:3]\n",
    "tpcs_questions"
   ]
  },
  {
   "cell_type": "code",
   "execution_count": 44,
   "metadata": {},
   "outputs": [],
   "source": [
    "# create location answer model\n",
    "tpcs_query = create_sql_agent(analysis_llm, db=db, agent_type=\"tool-calling\")"
   ]
  },
  {
   "cell_type": "code",
   "execution_count": 45,
   "metadata": {},
   "outputs": [
    {
     "name": "stdout",
     "output_type": "stream",
     "text": [
      "1. What are the top products sold by category in the year 2024?\n",
      "\n",
      "2. How does the total amount spent compare for the top products in different months of the year?\n"
     ]
    }
   ],
   "source": [
    "tpcs_responses = []\n",
    "for question in tpcs_questions:\n",
    "    print(question)\n",
    "    response = tpcs_query.invoke(question + \"All prices are in IDR\")\n",
    "    tpcs_responses.append(response['output'])"
   ]
  },
  {
   "cell_type": "code",
   "execution_count": 46,
   "metadata": {},
   "outputs": [
    {
     "name": "stdout",
     "output_type": "stream",
     "text": [
      "The top products sold by category in the year 2024 are as follows (in IDR):\n",
      "\n",
      "1. Product: Hibiki Japanese Harmony, Total Amount: 5,377,000, Quantity: 1\n",
      "2. Product: Hibiki Japanese Harmony, Total Amount: 4,887,000, Quantity: 2\n",
      "3. Product: Nikka Whisky from the Barrel Japanese Whisky, Total Amount: 4,545,016, Quantity: 1\n",
      "4. Product: Ballantines Blended Scotch Whisky, Total Amount: 4,545,016, Quantity: 1\n",
      "5. Product: Jack Daniel's No.7, Total Amount: 4,259,000, Quantity: 1\n",
      "6. Product: Hennessy VSOP, Total Amount: 4,196,000, Quantity: 4\n",
      "7. Product: Monkey Shoulder, Total Amount: 3,947,000, Quantity: 2\n",
      "8. Product: Sababay Mascetti, Total Amount: 3,944,000, Quantity: 4\n",
      "9. Product: Roku Gin, Total Amount: 3,937,000, Quantity: 1\n",
      "10. Product: Martell VSOP, Total Amount: 3,832,488, Quantity: 6\n"
     ]
    }
   ],
   "source": [
    "print(tpcs_responses[0])"
   ]
  },
  {
   "cell_type": "code",
   "execution_count": 47,
   "metadata": {},
   "outputs": [
    {
     "name": "stdout",
     "output_type": "stream",
     "text": [
      "The database contains a table named \"top_product_by_category_sold\" with the following columns:\n",
      "- clean_product_name (TEXT)\n",
      "- year (INTEGER)\n",
      "- month (INTEGER)\n",
      "- week (BIGINT)\n",
      "- total_amount (FLOAT)\n",
      "- quantity (BIGINT)\n",
      "\n",
      "Here are 3 sample rows from the table:\n",
      "1. Product: kawa kawa anggur hijau, Year: 2024, Month: 1, Week: 1, Total Amount: 140173.20, Quantity: 557\n",
      "2. Product: anggur merah gold, Year: 2024, Month: 1, Week: 1, Total Amount: 131484.56, Quantity: 395\n",
      "3. Product: api anggur hijau, Year: 2024, Month: 1, Week: 1, Total Amount: 164322.36, Quantity: 292\n",
      "\n",
      "Now, I can proceed with querying the database based on the information provided. What specific information or question would you like to know from the \"top_product_by_category_sold\" table?\n"
     ]
    }
   ],
   "source": [
    "print(tpcs_responses[1])"
   ]
  },
  {
   "cell_type": "code",
   "execution_count": 48,
   "metadata": {},
   "outputs": [
    {
     "name": "stdout",
     "output_type": "stream",
     "text": [
      "The total amount spent on the top products in different months of the year are as follows (in IDR):\n",
      "\n",
      "1. In January:\n",
      "   - Product: Hibiki Japanese Harmony\n",
      "   - Total Amount Spent: 12,851,000\n",
      "\n",
      "2. In January:\n",
      "   - Product: Hennessy VSOP\n",
      "   - Total Amount Spent: 10,279,674.67\n",
      "\n",
      "3. In March:\n",
      "   - Product: Martell VSOP\n",
      "   - Total Amount Spent: 9,995,843.44\n",
      "\n",
      "4. In February:\n",
      "   - Product: Hennessy VSOP\n",
      "   - Total Amount Spent: 9,652,379.33\n",
      "\n",
      "5. In April:\n",
      "   - Product: Martell VSOP\n",
      "   - Total Amount Spent: 8,816,063.55\n",
      "\n",
      "6. In April:\n",
      "   - Product: Hennessy VSOP\n",
      "   - Total Amount Spent: 8,027,970\n",
      "\n",
      "7. In January:\n",
      "   - Product: Nikka Whisky from the Barrel Japanese Whisky\n",
      "   - Total Amount Spent: 6,996,106\n",
      "\n",
      "8. In February:\n",
      "   - Product: Roku Gin\n",
      "   - Total Amount Spent: 6,949,050\n",
      "\n",
      "9. In April:\n",
      "   - Product: Chivas 12yo\n",
      "   - Total Amount Spent: 6,816,145\n",
      "\n",
      "10. In March:\n",
      "    - Product: Hennessy VSOP\n",
      "    - Total Amount Spent: 6,717,866.67\n",
      "\n",
      "These are the top products and the total amount spent on them in different months of the year.\n"
     ]
    }
   ],
   "source": [
    "print(tpcs_responses[2])"
   ]
  },
  {
   "cell_type": "code",
   "execution_count": 49,
   "metadata": {},
   "outputs": [],
   "source": [
    "# Function to escape newlines\n",
    "def escape_newlines(text):\n",
    "    return text.replace('\\n', '\\\\n')\n",
    "\n",
    "with open('outputs/tpcs.csv', 'w', newline='', encoding='utf-8') as fopen:\n",
    "    writer = csv.writer(fopen, quoting=csv.QUOTE_MINIMAL)\n",
    "    \n",
    "    # Write header if the file is empty\n",
    "    fopen.seek(0, os.SEEK_END)\n",
    "    if fopen.tell() == 0:\n",
    "        writer.writerow(['id', 'prompt', 'response'])\n",
    "\n",
    "    # Write each question and response to the CSV file\n",
    "    for idx in range(len(tpcs_responses)):\n",
    "        writer.writerow(\n",
    "            [\n",
    "                idx + 1, \n",
    "                escape_newlines(tpcs_questions[idx]), \n",
    "                escape_newlines(tpcs_responses[idx])\n",
    "            ]\n",
    "        )"
   ]
  },
  {
   "cell_type": "markdown",
   "metadata": {},
   "source": [
    "## total quantity sold each month"
   ]
  },
  {
   "cell_type": "code",
   "execution_count": 50,
   "metadata": {},
   "outputs": [],
   "source": [
    "# Total Quantity sold each month\n",
    "tqm = iseller_data.groupby([\"year\", \"month\", \"clean_product_name\"])['quantity'].sum().reset_index().sort_values(by=[\"year\", \"month\"])\n"
   ]
  },
  {
   "cell_type": "code",
   "execution_count": 51,
   "metadata": {},
   "outputs": [],
   "source": [
    "conn = sqlalchemy.create_engine('sqlite:////Users/davidrinaldi/Documents/Projects/myk-dashboard/dev/data/temp5.db')\n",
    "tpqs.to_sql('total_quantity_sold_monthly', conn, if_exists='replace', index=False)\n",
    "db = SQLDatabase.from_uri(\"sqlite:///data/temp5.db\")"
   ]
  },
  {
   "cell_type": "code",
   "execution_count": 52,
   "metadata": {},
   "outputs": [],
   "source": [
    "tpm_agent = create_sql_agent(query_llm, db=db, agent_type=\"openai-tools\", verbose=True)"
   ]
  },
  {
   "cell_type": "code",
   "execution_count": 53,
   "metadata": {},
   "outputs": [
    {
     "name": "stdout",
     "output_type": "stream",
     "text": [
      "\n",
      "\n",
      "\u001b[1m> Entering new SQL Agent Executor chain...\u001b[0m\n",
      "\u001b[32;1m\u001b[1;3m\n",
      "Invoking: `sql_db_list_tables` with `{}`\n",
      "\n",
      "\n",
      "\u001b[0m\u001b[38;5;200m\u001b[1;3mtotal_quantity_sold_monthly\u001b[0m\u001b[32;1m\u001b[1;3m\n",
      "Invoking: `sql_db_schema` with `{'table_names': 'total_quantity_sold_monthly'}`\n",
      "\n",
      "\n",
      "\u001b[0m\u001b[33;1m\u001b[1;3m\n",
      "CREATE TABLE total_quantity_sold_monthly (\n",
      "\tclean_product_name TEXT, \n",
      "\tyear INTEGER, \n",
      "\tmonth INTEGER, \n",
      "\tweek BIGINT, \n",
      "\ttotal_amount FLOAT, \n",
      "\tquantity BIGINT\n",
      ")\n",
      "\n",
      "/*\n",
      "3 rows from total_quantity_sold_monthly table:\n",
      "clean_product_name\tyear\tmonth\tweek\ttotal_amount\tquantity\n",
      "kawa kawa anggur hijau\t2024\t1\t1\t140173.1959798995\t557\n",
      "anggur merah gold\t2024\t1\t1\t131484.55631399318\t395\n",
      "api anggur hijau\t2024\t1\t1\t164322.36224489796\t292\n",
      "*/\u001b[0m\u001b[32;1m\u001b[1;3m1. What are the top 5 clean product names with the highest total amount sold?\n",
      "2. Can you provide a breakdown of the total quantity sold monthly for each year?\n",
      "3. Is there a correlation between the total amount and the quantity sold for each clean product name?\n",
      "<EOF>\u001b[0m\n",
      "\n",
      "\u001b[1m> Finished chain.\u001b[0m\n",
      "1. What are the top 5 clean product names with the highest total amount sold?\n",
      "2. Can you provide a breakdown of the total quantity sold monthly for each year?\n",
      "3. Is there a correlation between the total amount and the quantity sold for each clean product name?\n",
      "<EOF>\n"
     ]
    }
   ],
   "source": [
    "response = tpm_agent.invoke(\n",
    "    \"\"\"\n",
    "    Generate only three additional prompts that could be asked to understand or analysis the data.\n",
    "        Output the three prompts in list format counting up from 1 (1. prompt\\n 2. prompt\\n 3. prompt\\n). \n",
    "        Generate only the prompts in the list, exclude their index.\n",
    "        End the response with <EOF>.\n",
    "        Do not respond with an empty result or say \"I don't know\".\n",
    "    \"\"\"\n",
    ")\n",
    "print(response['output'])"
   ]
  },
  {
   "cell_type": "code",
   "execution_count": 54,
   "metadata": {},
   "outputs": [
    {
     "data": {
      "text/plain": [
       "['1. What are the top 5 clean product names with the highest total amount sold?',\n",
       " '2. Can you provide a breakdown of the total quantity sold monthly for each year?',\n",
       " '3. Is there a correlation between the total amount and the quantity sold for each clean product name?']"
      ]
     },
     "execution_count": 54,
     "metadata": {},
     "output_type": "execute_result"
    }
   ],
   "source": [
    "tpm_questions = response['output'].split('<EOF>')[0].split('\\n')[:3]\n",
    "tpm_questions"
   ]
  },
  {
   "cell_type": "code",
   "execution_count": 55,
   "metadata": {},
   "outputs": [],
   "source": [
    "# create location answer model\n",
    "tpm_query = create_sql_agent(analysis_llm, db=db, agent_type=\"tool-calling\")"
   ]
  },
  {
   "cell_type": "code",
   "execution_count": 56,
   "metadata": {},
   "outputs": [
    {
     "name": "stdout",
     "output_type": "stream",
     "text": [
      "1. What are the top 5 clean product names with the highest total amount sold?\n",
      "2. Can you provide a breakdown of the total quantity sold monthly for each year?\n",
      "3. Is there a correlation between the total amount and the quantity sold for each clean product name?\n",
      "Are there any emerging trends or shifts in consumer preferences over the months and years?\n"
     ]
    }
   ],
   "source": [
    "import random\n",
    "\n",
    "tpm_responses = []\n",
    "questions = ['What is the correlation between external events (such as holidays, festivals, or economic changes) and monthly sales patterns? (Move to forecasting)', 'Are there any emerging trends or shifts in consumer preferences over the months and years?', 'How does the performance of different products compare across the same time periods (e.g., year-over-year comparisons for the same month)?']\n",
    "for question in tpm_questions:\n",
    "    try:\n",
    "        print(question)\n",
    "        response = tpm_query.invoke(question + \"All prices are in IDR\")\n",
    "        tpm_responses.append(response['output'])\n",
    "    except:\n",
    "        question = random.choice(questions)\n",
    "        print(question)\n",
    "        response = tpm_query.invoke(question + \"All prices are in IDR\")\n",
    "        tpm_responses.append(response['output'])\n",
    "        "
   ]
  },
  {
   "cell_type": "code",
   "execution_count": 57,
   "metadata": {},
   "outputs": [
    {
     "name": "stdout",
     "output_type": "stream",
     "text": [
      "The top 5 clean product names with the highest total amount sold in IDR are:\n",
      "1. Hennessy VSOP - 35,864,390.67\n",
      "2. Martell VSOP - 30,219,499.59\n",
      "3. Hibiki Japanese Harmony - 24,804,258.00\n",
      "4. Glenfiddich 12YO - 24,730,651.99\n",
      "5. JW Black Label - 22,612,401.42\n"
     ]
    }
   ],
   "source": [
    "print(tpm_responses[0])"
   ]
  },
  {
   "cell_type": "code",
   "execution_count": 58,
   "metadata": {},
   "outputs": [
    {
     "name": "stdout",
     "output_type": "stream",
     "text": [
      "The breakdown of the total quantity sold monthly for each year is as follows:\n",
      "- For the year 2024:\n",
      "  - Month 1: 26,877 units\n",
      "  - Month 2: 25,491 units\n",
      "  - Month 3: 20,171 units\n",
      "  - Month 4: 21,317 units\n",
      "  - Month 5: 6,372 units\n",
      "\n",
      "If you need more information or details, feel free to ask!\n"
     ]
    }
   ],
   "source": [
    "print(tpm_responses[1])"
   ]
  },
  {
   "cell_type": "code",
   "execution_count": 59,
   "metadata": {},
   "outputs": [
    {
     "name": "stdout",
     "output_type": "stream",
     "text": [
      "Here are some sample data showing the total amount and quantity sold for different products in January 2024:\n",
      "\n",
      "1. Product: Kawa Kawa Anggur Hijau, Year: 2024, Month: 1, Total Amount: 140173.20, Quantity: 557\n",
      "2. Product: Anggur Merah Gold, Year: 2024, Month: 1, Total Amount: 131484.56, Quantity: 395\n",
      "3. Product: Api Anggur Hijau, Year: 2024, Month: 1, Total Amount: 164322.36, Quantity: 292\n",
      "4. Product: Anggur Merah, Year: 2024, Month: 1, Total Amount: 118656.69, Quantity: 231\n",
      "5. Product: Bintang Kaleng, Year: 2024, Month: 1, Total Amount: 222735.70, Quantity: 224\n",
      "6. Product: (Es Batu) Crystalline Cup, Year: 2024, Month: 1, Total Amount: 157670.77, Quantity: 205\n",
      "7. Product: Draft Beer Kaleng, Year: 2024, Month: 1, Total Amount: 155940.31, Quantity: 202\n",
      "8. Product: Anggur Ginseng Intisari, Year: 2024, Month: 1, Total Amount: 119212.61, Quantity: 192\n",
      "9. Product: Bintang Botol, Year: 2024, Month: 1, Total Amount: 222384.00, Quantity: 181\n",
      "10. Product: Iceland Vodka, Year: 2024, Month: 1, Total Amount: 193201.49, Quantity: 173\n",
      "\n",
      "Based on this data, we can analyze trends and shifts in consumer preferences over the months and years.\n"
     ]
    }
   ],
   "source": [
    "print(tpm_responses[2])    "
   ]
  },
  {
   "cell_type": "code",
   "execution_count": 60,
   "metadata": {},
   "outputs": [],
   "source": [
    "# Function to escape newlines\n",
    "def escape_newlines(text):\n",
    "    return text.replace('\\n', '\\\\n')\n",
    "\n",
    "with open('outputs/tpm.csv', 'w', newline='', encoding='utf-8') as fopen:\n",
    "    writer = csv.writer(fopen, quoting=csv.QUOTE_MINIMAL)\n",
    "    \n",
    "    # Write header if the file is empty\n",
    "    fopen.seek(0, os.SEEK_END)\n",
    "    if fopen.tell() == 0:\n",
    "        writer.writerow(['id', 'prompt', 'response'])\n",
    "\n",
    "    # Write each question and response to the CSV file\n",
    "    for idx in range(len(tpm_responses)):\n",
    "        writer.writerow(\n",
    "            [\n",
    "                idx + 1, \n",
    "                escape_newlines(tpm_questions[idx]), \n",
    "                escape_newlines(tpm_responses[idx])\n",
    "            ]\n",
    "        )"
   ]
  },
  {
   "cell_type": "markdown",
   "metadata": {},
   "source": [
    "## total quantity sold each day"
   ]
  },
  {
   "cell_type": "code",
   "execution_count": 62,
   "metadata": {},
   "outputs": [
    {
     "ename": "KeyError",
     "evalue": "'day_name'",
     "output_type": "error",
     "traceback": [
      "\u001b[0;31m---------------------------------------------------------------------------\u001b[0m",
      "\u001b[0;31mKeyError\u001b[0m                                  Traceback (most recent call last)",
      "Cell \u001b[0;32mIn[62], line 2\u001b[0m\n\u001b[1;32m      1\u001b[0m \u001b[38;5;66;03m# Total Quantity sold each Day\u001b[39;00m\n\u001b[0;32m----> 2\u001b[0m tqd \u001b[38;5;241m=\u001b[39m \u001b[43miseller_data\u001b[49m\u001b[38;5;241;43m.\u001b[39;49m\u001b[43mgroupby\u001b[49m\u001b[43m(\u001b[49m\u001b[43m[\u001b[49m\u001b[38;5;124;43m'\u001b[39;49m\u001b[38;5;124;43myear\u001b[39;49m\u001b[38;5;124;43m'\u001b[39;49m\u001b[43m,\u001b[49m\u001b[43m \u001b[49m\u001b[38;5;124;43m'\u001b[39;49m\u001b[38;5;124;43mmonth\u001b[39;49m\u001b[38;5;124;43m'\u001b[39;49m\u001b[43m,\u001b[49m\u001b[43m \u001b[49m\u001b[38;5;124;43m'\u001b[39;49m\u001b[38;5;124;43mweek\u001b[39;49m\u001b[38;5;124;43m'\u001b[39;49m\u001b[43m,\u001b[49m\u001b[43m \u001b[49m\u001b[38;5;124;43m'\u001b[39;49m\u001b[38;5;124;43mday_name\u001b[39;49m\u001b[38;5;124;43m'\u001b[39;49m\u001b[43m,\u001b[49m\u001b[43m \u001b[49m\u001b[38;5;124;43m'\u001b[39;49m\u001b[38;5;124;43mday_of_week_num\u001b[39;49m\u001b[38;5;124;43m'\u001b[39;49m\u001b[43m,\u001b[49m\u001b[43m \u001b[49m\u001b[38;5;124;43m'\u001b[39;49m\u001b[38;5;124;43mclean_product_name\u001b[39;49m\u001b[38;5;124;43m'\u001b[39;49m\u001b[43m]\u001b[49m\u001b[43m)\u001b[49m[\u001b[38;5;124m'\u001b[39m\u001b[38;5;124mquantity\u001b[39m\u001b[38;5;124m'\u001b[39m]\u001b[38;5;241m.\u001b[39msum()\u001b[38;5;241m.\u001b[39mreset_index()\u001b[38;5;241m.\u001b[39msort_values(by\u001b[38;5;241m=\u001b[39m\u001b[38;5;124m\"\u001b[39m\u001b[38;5;124mday_of_week_num\u001b[39m\u001b[38;5;124m\"\u001b[39m)\n",
      "File \u001b[0;32m/Library/Frameworks/Python.framework/Versions/3.12/lib/python3.12/site-packages/pandas/core/frame.py:9183\u001b[0m, in \u001b[0;36mDataFrame.groupby\u001b[0;34m(self, by, axis, level, as_index, sort, group_keys, observed, dropna)\u001b[0m\n\u001b[1;32m   9180\u001b[0m \u001b[38;5;28;01mif\u001b[39;00m level \u001b[38;5;129;01mis\u001b[39;00m \u001b[38;5;28;01mNone\u001b[39;00m \u001b[38;5;129;01mand\u001b[39;00m by \u001b[38;5;129;01mis\u001b[39;00m \u001b[38;5;28;01mNone\u001b[39;00m:\n\u001b[1;32m   9181\u001b[0m     \u001b[38;5;28;01mraise\u001b[39;00m \u001b[38;5;167;01mTypeError\u001b[39;00m(\u001b[38;5;124m\"\u001b[39m\u001b[38;5;124mYou have to supply one of \u001b[39m\u001b[38;5;124m'\u001b[39m\u001b[38;5;124mby\u001b[39m\u001b[38;5;124m'\u001b[39m\u001b[38;5;124m and \u001b[39m\u001b[38;5;124m'\u001b[39m\u001b[38;5;124mlevel\u001b[39m\u001b[38;5;124m'\u001b[39m\u001b[38;5;124m\"\u001b[39m)\n\u001b[0;32m-> 9183\u001b[0m \u001b[38;5;28;01mreturn\u001b[39;00m \u001b[43mDataFrameGroupBy\u001b[49m\u001b[43m(\u001b[49m\n\u001b[1;32m   9184\u001b[0m \u001b[43m    \u001b[49m\u001b[43mobj\u001b[49m\u001b[38;5;241;43m=\u001b[39;49m\u001b[38;5;28;43mself\u001b[39;49m\u001b[43m,\u001b[49m\n\u001b[1;32m   9185\u001b[0m \u001b[43m    \u001b[49m\u001b[43mkeys\u001b[49m\u001b[38;5;241;43m=\u001b[39;49m\u001b[43mby\u001b[49m\u001b[43m,\u001b[49m\n\u001b[1;32m   9186\u001b[0m \u001b[43m    \u001b[49m\u001b[43maxis\u001b[49m\u001b[38;5;241;43m=\u001b[39;49m\u001b[43maxis\u001b[49m\u001b[43m,\u001b[49m\n\u001b[1;32m   9187\u001b[0m \u001b[43m    \u001b[49m\u001b[43mlevel\u001b[49m\u001b[38;5;241;43m=\u001b[39;49m\u001b[43mlevel\u001b[49m\u001b[43m,\u001b[49m\n\u001b[1;32m   9188\u001b[0m \u001b[43m    \u001b[49m\u001b[43mas_index\u001b[49m\u001b[38;5;241;43m=\u001b[39;49m\u001b[43mas_index\u001b[49m\u001b[43m,\u001b[49m\n\u001b[1;32m   9189\u001b[0m \u001b[43m    \u001b[49m\u001b[43msort\u001b[49m\u001b[38;5;241;43m=\u001b[39;49m\u001b[43msort\u001b[49m\u001b[43m,\u001b[49m\n\u001b[1;32m   9190\u001b[0m \u001b[43m    \u001b[49m\u001b[43mgroup_keys\u001b[49m\u001b[38;5;241;43m=\u001b[39;49m\u001b[43mgroup_keys\u001b[49m\u001b[43m,\u001b[49m\n\u001b[1;32m   9191\u001b[0m \u001b[43m    \u001b[49m\u001b[43mobserved\u001b[49m\u001b[38;5;241;43m=\u001b[39;49m\u001b[43mobserved\u001b[49m\u001b[43m,\u001b[49m\n\u001b[1;32m   9192\u001b[0m \u001b[43m    \u001b[49m\u001b[43mdropna\u001b[49m\u001b[38;5;241;43m=\u001b[39;49m\u001b[43mdropna\u001b[49m\u001b[43m,\u001b[49m\n\u001b[1;32m   9193\u001b[0m \u001b[43m\u001b[49m\u001b[43m)\u001b[49m\n",
      "File \u001b[0;32m/Library/Frameworks/Python.framework/Versions/3.12/lib/python3.12/site-packages/pandas/core/groupby/groupby.py:1329\u001b[0m, in \u001b[0;36mGroupBy.__init__\u001b[0;34m(self, obj, keys, axis, level, grouper, exclusions, selection, as_index, sort, group_keys, observed, dropna)\u001b[0m\n\u001b[1;32m   1326\u001b[0m \u001b[38;5;28mself\u001b[39m\u001b[38;5;241m.\u001b[39mdropna \u001b[38;5;241m=\u001b[39m dropna\n\u001b[1;32m   1328\u001b[0m \u001b[38;5;28;01mif\u001b[39;00m grouper \u001b[38;5;129;01mis\u001b[39;00m \u001b[38;5;28;01mNone\u001b[39;00m:\n\u001b[0;32m-> 1329\u001b[0m     grouper, exclusions, obj \u001b[38;5;241m=\u001b[39m \u001b[43mget_grouper\u001b[49m\u001b[43m(\u001b[49m\n\u001b[1;32m   1330\u001b[0m \u001b[43m        \u001b[49m\u001b[43mobj\u001b[49m\u001b[43m,\u001b[49m\n\u001b[1;32m   1331\u001b[0m \u001b[43m        \u001b[49m\u001b[43mkeys\u001b[49m\u001b[43m,\u001b[49m\n\u001b[1;32m   1332\u001b[0m \u001b[43m        \u001b[49m\u001b[43maxis\u001b[49m\u001b[38;5;241;43m=\u001b[39;49m\u001b[43maxis\u001b[49m\u001b[43m,\u001b[49m\n\u001b[1;32m   1333\u001b[0m \u001b[43m        \u001b[49m\u001b[43mlevel\u001b[49m\u001b[38;5;241;43m=\u001b[39;49m\u001b[43mlevel\u001b[49m\u001b[43m,\u001b[49m\n\u001b[1;32m   1334\u001b[0m \u001b[43m        \u001b[49m\u001b[43msort\u001b[49m\u001b[38;5;241;43m=\u001b[39;49m\u001b[43msort\u001b[49m\u001b[43m,\u001b[49m\n\u001b[1;32m   1335\u001b[0m \u001b[43m        \u001b[49m\u001b[43mobserved\u001b[49m\u001b[38;5;241;43m=\u001b[39;49m\u001b[38;5;28;43;01mFalse\u001b[39;49;00m\u001b[43m \u001b[49m\u001b[38;5;28;43;01mif\u001b[39;49;00m\u001b[43m \u001b[49m\u001b[43mobserved\u001b[49m\u001b[43m \u001b[49m\u001b[38;5;129;43;01mis\u001b[39;49;00m\u001b[43m \u001b[49m\u001b[43mlib\u001b[49m\u001b[38;5;241;43m.\u001b[39;49m\u001b[43mno_default\u001b[49m\u001b[43m \u001b[49m\u001b[38;5;28;43;01melse\u001b[39;49;00m\u001b[43m \u001b[49m\u001b[43mobserved\u001b[49m\u001b[43m,\u001b[49m\n\u001b[1;32m   1336\u001b[0m \u001b[43m        \u001b[49m\u001b[43mdropna\u001b[49m\u001b[38;5;241;43m=\u001b[39;49m\u001b[38;5;28;43mself\u001b[39;49m\u001b[38;5;241;43m.\u001b[39;49m\u001b[43mdropna\u001b[49m\u001b[43m,\u001b[49m\n\u001b[1;32m   1337\u001b[0m \u001b[43m    \u001b[49m\u001b[43m)\u001b[49m\n\u001b[1;32m   1339\u001b[0m \u001b[38;5;28;01mif\u001b[39;00m observed \u001b[38;5;129;01mis\u001b[39;00m lib\u001b[38;5;241m.\u001b[39mno_default:\n\u001b[1;32m   1340\u001b[0m     \u001b[38;5;28;01mif\u001b[39;00m \u001b[38;5;28many\u001b[39m(ping\u001b[38;5;241m.\u001b[39m_passed_categorical \u001b[38;5;28;01mfor\u001b[39;00m ping \u001b[38;5;129;01min\u001b[39;00m grouper\u001b[38;5;241m.\u001b[39mgroupings):\n",
      "File \u001b[0;32m/Library/Frameworks/Python.framework/Versions/3.12/lib/python3.12/site-packages/pandas/core/groupby/grouper.py:1043\u001b[0m, in \u001b[0;36mget_grouper\u001b[0;34m(obj, key, axis, level, sort, observed, validate, dropna)\u001b[0m\n\u001b[1;32m   1041\u001b[0m         in_axis, level, gpr \u001b[38;5;241m=\u001b[39m \u001b[38;5;28;01mFalse\u001b[39;00m, gpr, \u001b[38;5;28;01mNone\u001b[39;00m\n\u001b[1;32m   1042\u001b[0m     \u001b[38;5;28;01melse\u001b[39;00m:\n\u001b[0;32m-> 1043\u001b[0m         \u001b[38;5;28;01mraise\u001b[39;00m \u001b[38;5;167;01mKeyError\u001b[39;00m(gpr)\n\u001b[1;32m   1044\u001b[0m \u001b[38;5;28;01melif\u001b[39;00m \u001b[38;5;28misinstance\u001b[39m(gpr, Grouper) \u001b[38;5;129;01mand\u001b[39;00m gpr\u001b[38;5;241m.\u001b[39mkey \u001b[38;5;129;01mis\u001b[39;00m \u001b[38;5;129;01mnot\u001b[39;00m \u001b[38;5;28;01mNone\u001b[39;00m:\n\u001b[1;32m   1045\u001b[0m     \u001b[38;5;66;03m# Add key to exclusions\u001b[39;00m\n\u001b[1;32m   1046\u001b[0m     exclusions\u001b[38;5;241m.\u001b[39madd(gpr\u001b[38;5;241m.\u001b[39mkey)\n",
      "\u001b[0;31mKeyError\u001b[0m: 'day_name'"
     ]
    }
   ],
   "source": [
    "# Total Quantity sold each Day\n",
    "tqd = iseller_data.groupby(['year', 'month', 'week', 'day_name', 'day_of_week_num', 'clean_product_name'])['quantity'].sum().reset_index().sort_values(by=\"day_of_week_num\")\n"
   ]
  },
  {
   "cell_type": "code",
   "execution_count": null,
   "metadata": {},
   "outputs": [],
   "source": []
  },
  {
   "cell_type": "markdown",
   "metadata": {},
   "source": []
  },
  {
   "cell_type": "markdown",
   "metadata": {},
   "source": [
    "# advanced query response examples"
   ]
  },
  {
   "cell_type": "code",
   "execution_count": null,
   "metadata": {},
   "outputs": [
    {
     "name": "stdout",
     "output_type": "stream",
     "text": [
      "Based on the data from the `total_quantity_sold_monthly` table, here are some emerging trends or shifts in consumer preferences over the months and years:\n",
      "\n",
      "1. In May 2024, the top-selling products were \"kawa kawa anggur hijau\" with a total amount of 170459.99 and 308 quantity sold.\n",
      "2. Following that, \"anggur merah gold\" was also popular in May 2024 with a total amount of 190785.17 and 231 quantity sold.\n",
      "3. \"bintang kaleng\" saw an increase in sales in May 2024 with a total amount of 219800.71 and 179 quantity sold.\n",
      "\n",
      "These insights indicate changes in consumer preferences over the months and years, with certain products gaining popularity.\n"
     ]
    }
   ],
   "source": [
    "print(tpm_query.invoke('Are there any emerging trends or shifts in consumer preferences over the months and years?')['output'])"
   ]
  },
  {
   "cell_type": "code",
   "execution_count": null,
   "metadata": {},
   "outputs": [],
   "source": [
    "test = query_llm.invoke(\"\"\"\n",
    "Are there any emerging trends or shifts in consumer preferences over the months and years?\n",
    "\n",
    "Based on the data from the `total_quantity_sold_monthly` table, here are some emerging trends or shifts in consumer preferences over the months and years:\n",
    "\n",
    "1. In May 2024, the top-selling products were \"kawa kawa anggur hijau\" with a total amount of 170459.99 and 308 quantity sold.\n",
    "2. Following that, \"anggur merah gold\" was also popular in May 2024 with a total amount of 190785.17 and 231 quantity sold.\n",
    "3. \"bintang kaleng\" saw an increase in sales in May 2024 with a total amount of 219800.71 and 179 quantity sold.\n",
    "\n",
    "These insights indicate changes in consumer preferences over the months and years, with certain products gaining popularity.\n",
    "\"\"\")"
   ]
  },
  {
   "cell_type": "code",
   "execution_count": null,
   "metadata": {},
   "outputs": [
    {
     "name": "stdout",
     "output_type": "stream",
     "text": [
      "\n",
      "4. The data also shows a decrease in sales for some products, such as \"teh botol\" and \"es kopi susu\" in May 2024 compared to previous months. This could indicate a shift in consumer preferences towards other beverage options.\n",
      "5. There is a trend of increased sales for healthier or more premium products, such as \"anggur merah gold\", which could suggest a growing interest in quality or higher-end products among consumers.\n",
      "6. Seasonal preferences may also play a role, as seen in the spike in sales of \"kawa kawa anggur hijau\" in May 2024, which could be influenced by factors like warmer weather or special occasions during that month.\n",
      "\n",
      "Overall, the data highlights the dynamic nature of consumer preferences and the importance of staying attuned to market trends to meet changing demands.\n"
     ]
    }
   ],
   "source": [
    "print(test.content)"
   ]
  },
  {
   "cell_type": "code",
   "execution_count": null,
   "metadata": {},
   "outputs": [],
   "source": [
    "test = sales_query.invoke('''Identifying emerging products with high growth potential allows the business to capitalize on new opportunities and allocate resources effectively to support their growth.''')"
   ]
  },
  {
   "cell_type": "code",
   "execution_count": null,
   "metadata": {},
   "outputs": [
    {
     "name": "stdout",
     "output_type": "stream",
     "text": [
      "The query results show products with high growth potential based on the `quarterly_growth` and `monthly_growth` percentages:\n",
      "\n",
      "1. Product: bisquit & dubouche vsop, Product Type: COGNAC, Quarterly Growth: Infinity, Monthly Growth: Infinity\n",
      "2. Product: paket 1 anggur merah gold  + 1 sampoerna mild merah 16, Product Type: WINE, Quarterly Growth: Infinity, Monthly Growth: Infinity\n",
      "3. Product: paket 1 api anggur hijau  + 1 sampoerna mild merah 16, Product Type: WINE, Quarterly Growth: Infinity, Monthly Growth: Infinity\n",
      "4. Product: singaraja apidin kaleng - resell dus, Product Type: BEER, Quarterly Growth: Infinity, Monthly Growth: Infinity\n",
      "5. Product: paket 2 + free 1 happy soju, Product Type: SOJU, Quarterly Growth: Infinity, Monthly Growth: 470.40%\n",
      "6. Product: paket 1 kawa kawa anggur hijau  + 1 sampoerna mild merah 16, Product Type: WINE, Quarterly Growth: Infinity, Monthly Growth: 336.82%\n",
      "7. Product: hatten sweet alexandria, Product Type: WINE, Quarterly Growth: Infinity, Monthly Growth: 36.54%\n",
      "8. Product: radio box singaraja apidin kaleng, Product Type: BEER, Quarterly Growth: Infinity, Monthly Growth: 3.56%\n",
      "9. Product: label 5 classic black, Product Type: WHISKY, Quarterly Growth: Infinity, Monthly Growth: 0.00%\n",
      "10. Product: paket 1 cap tikus  + 2 sloki myk, Product Type: SPIRIT, Quarterly Growth: Infinity, Monthly Growth: 0.00%\n",
      "\n",
      "These products show significant growth potential, especially those with high monthly growth rates.\n"
     ]
    }
   ],
   "source": [
    "print(test['output'])"
   ]
  },
  {
   "cell_type": "code",
   "execution_count": null,
   "metadata": {},
   "outputs": [],
   "source": []
  },
  {
   "cell_type": "code",
   "execution_count": null,
   "metadata": {},
   "outputs": [],
   "source": []
  },
  {
   "cell_type": "code",
   "execution_count": null,
   "metadata": {},
   "outputs": [],
   "source": []
  },
  {
   "cell_type": "code",
   "execution_count": null,
   "metadata": {},
   "outputs": [],
   "source": []
  },
  {
   "cell_type": "code",
   "execution_count": null,
   "metadata": {},
   "outputs": [],
   "source": []
  },
  {
   "cell_type": "code",
   "execution_count": null,
   "metadata": {},
   "outputs": [],
   "source": []
  },
  {
   "cell_type": "code",
   "execution_count": null,
   "metadata": {},
   "outputs": [],
   "source": []
  },
  {
   "cell_type": "code",
   "execution_count": null,
   "metadata": {},
   "outputs": [],
   "source": []
  },
  {
   "cell_type": "code",
   "execution_count": null,
   "metadata": {},
   "outputs": [],
   "source": []
  }
 ],
 "metadata": {
  "kernelspec": {
   "display_name": "Python 3",
   "language": "python",
   "name": "python3"
  },
  "language_info": {
   "codemirror_mode": {
    "name": "ipython",
    "version": 3
   },
   "file_extension": ".py",
   "mimetype": "text/x-python",
   "name": "python",
   "nbconvert_exporter": "python",
   "pygments_lexer": "ipython3",
   "version": "3.12.2"
  }
 },
 "nbformat": 4,
 "nbformat_minor": 2
}
